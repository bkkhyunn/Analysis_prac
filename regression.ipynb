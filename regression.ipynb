{
 "cells": [
  {
   "cell_type": "markdown",
   "metadata": {},
   "source": [
    "## Regression"
   ]
  },
  {
   "cell_type": "markdown",
   "metadata": {},
   "source": [
    "### Simple Linear Regression\n",
    "- 단순 선형 회귀\n",
    "- $y = \\beta_{0} + \\beta_{1} x + \\epsilon$\n",
    "- 하나의 X 값을 가지고 Y를 예측하는 것\n",
    "- \\beta_{0} 는 절편. \\epsilon$ 는 오차\n",
    "- 문제를 해결할 때 많이 사용되는게 아니라 회귀에 대한 설명을 할 때 예시로 많이 쓰여짐(그래프 증명 등)."
   ]
  },
  {
   "cell_type": "markdown",
   "metadata": {},
   "source": [
    "### Multiple Linear Regression\n",
    "- 다중 회귀\n",
    "- $y = \\beta_{0} + \\beta_{1} x_{1} + \\beta_{2} x_{2} + ...+ \\epsilon$\n",
    "- 여러 개의 X 값을 가지고 Y를 예측하는 것\n",
    "- 실제로 많이 씀. 데이터에는 오차가 있으니 오차도 표시."
   ]
  },
  {
   "cell_type": "markdown",
   "metadata": {},
   "source": [
    "### Polynomial Regression\n",
    "- 다항 회귀\n",
    "- 다항식: 제곱, 세제곱 이런 것들을 가지고 있을 수 있음\n",
    "- 비선형 데이터 집합을 모델링 할 때 사용\n",
    "- 곡선의 다항식 선을 사용함\n",
    "- 과대적합이 나타나기 쉬움(학습을 잘해서)\n",
    "- $y = \\beta_{0} + \\beta_{1} x_{1} + \\beta_{2} x_{2} + \\beta_{3} x_{1}^{2} + \\beta_{4} x_{2}^{2} ...+ \\epsilon$\n",
    "- X를 다항식으로 변경하여 모델링의 데이터로 사용함"
   ]
  },
  {
   "cell_type": "markdown",
   "metadata": {},
   "source": [
    "### Ridge, Lasso Regression\n",
    "- 독립변수들 간에 높은 상관 관계가 있는 경우 규제화(정규화) (regularization)를 적용해 모델의 복잡도를 줄임\n",
    "- Ridge : 계수값(기울기)을 0 에 가깝게 만들지만 0 이 되지 않음\n",
    "    - 모든 독립변수들이 Y를 만들때 다 참여(정도의 차이는 있음)\n",
    "- Lasso : 계수값을 0 이 되게 함으로써 그에 해당하는 특성을 제외\n",
    "    - 독립변수 중에서 사용하지 않는 것을 뽑아낼 수 있음. 중요한 것들만 사용해서 Y값을 예측해내겠다는 것."
   ]
  },
  {
   "cell_type": "markdown",
   "metadata": {},
   "source": [
    "데이터 생성 후 회귀분석 연습"
   ]
  },
  {
   "cell_type": "code",
   "execution_count": null,
   "metadata": {},
   "outputs": [],
   "source": [
    "import pandas as pd\n",
    "import numpy as np\n",
    "\n",
    "# bmi = 몸무게(kg) ÷ (신장(m) × 신장(m)) 단위\n",
    "# seedno : 랜덤 수 발생 관련\n",
    "# size : sample의 개수\n",
    "# startno : ID의 시작 번호\n",
    "# outlier : 이상치 비율, 0.01 => 100개 정상데이터 1개 이상치\n",
    "def make_sample(seedno, size, startno=0, outlier=0):\n",
    "    np.random.seed(seedno)\n",
    "    outlier_len = int(size * outlier)\n",
    "    sizeh = size//2\n",
    "    # 키 단위 cm\n",
    "    hm = np.random.normal(loc=175, scale=5.3, size= sizeh+1 if size % 2 else sizeh).round(1)\n",
    "    hw = np.random.normal(loc=162, scale=5.2, size = sizeh).round(1)\n",
    "    # sizeh+1 if size % 2 else sizeh 에서 조건(size % 2)이 참이면 앞에있는 것, 거짓이면 뒤에있는 것 전달\n",
    "    h = np.concatenate([hm, hw])\n",
    "    h /= 100   # m 단위로 변경한 것\n",
    "    bmi = np.random.normal(loc=23, scale=4, size=len(h))   # loc은 평균, scale은 표준편차\n",
    "    w = (h*h*bmi).round(1)\n",
    "    bmi = (w / (h*h)).round(2)\n",
    "    h *= 100   # 다시 단위를 cm로 변경\n",
    "    data = np.column_stack([h, w, bmi])  # 3가지 값을 갖는 데이터가 여러개 있는 2차원 배열이 나오게 됨\n",
    "\n",
    "    # outlier 붙히기(이상치 데이터 추가)\n",
    "    if outlier_len != 0:\n",
    "      data_outlier = make_outlier(seedno, outlier_len)\n",
    "      print(data_outlier, data_outlier.shape, sep='\\n')\n",
    "      data = np.concatenate([data, data_outlier])\n",
    "\n",
    "    # 'ID'를 포함한 DataFrame 생성 및 반환\n",
    "    data = pd.DataFrame(data, columns=['height', 'weight', 'BMI'])\n",
    "    data = data.sample(frac=1)  # 전체 데이터를 섞어서 반환하게 됨\n",
    "    data.insert(0, 'ID', np.arange(startno, startno + len(data), dtype='int'))  # ID 를 맨 앞(0)에 주기 위해서. inplace 동작이라 다시 대입 안해도 됨\n",
    "    return data\n",
    "\n",
    "# 이상치 만드는 함수 작성\n",
    "# bmi = #몸무게(kg) ÷ (신장(m) × 신장(m))\n",
    "# 키, 몸무게가 매우 작거나 큰 데이터 생성\n",
    "# seedno : 랜덤 수 발생 관련\n",
    "# size : sample의 개수(이상치의 개수)\n",
    "def make_outlier(seedno, size):\n",
    "    np.random.seed(seedno)\n",
    "    sizeh = size//2\n",
    "    hlow = np.random.normal(loc=120, scale=5.3, size = sizeh+1 if size % 2 else sizeh).round(1)\n",
    "    hhigh = np.random.normal(loc=220, scale=5.2, size = sizeh).round(1)\n",
    "    h = np.concatenate([hlow, hhigh])\n",
    "    h /= 100\n",
    "    bmi = np.random.normal(loc=23, scale=10, size=len(h))\n",
    "    w = (h*h*bmi).round(1)\n",
    "    bmi = (w / (h*h)).round(2)\n",
    "    h *= 100\n",
    "    return np.column_stack([h, w, bmi])\n"
   ]
  },
  {
   "cell_type": "code",
   "execution_count": null,
   "metadata": {},
   "outputs": [],
   "source": [
    "train = make_sample(1234, 100)\n",
    "test = make_sample(1, 100, len(train))\n",
    "Xfeatures = ['ID', 'height', 'weight']\n",
    "Yfeatures = ['ID', 'BMI']\n",
    "Xtrain = train[Xfeatures]\n",
    "Ytrain = train[Yfeatures]\n",
    "Xtest = test[Xfeatures]\n",
    "Ytest = test[Yfeatures]"
   ]
  },
  {
   "cell_type": "code",
   "execution_count": null,
   "metadata": {},
   "outputs": [
    {
     "name": "stdout",
     "output_type": "stream",
     "text": [
      "(100, 4)\n"
     ]
    },
    {
     "data": {
      "text/html": [
       "<div>\n",
       "<style scoped>\n",
       "    .dataframe tbody tr th:only-of-type {\n",
       "        vertical-align: middle;\n",
       "    }\n",
       "\n",
       "    .dataframe tbody tr th {\n",
       "        vertical-align: top;\n",
       "    }\n",
       "\n",
       "    .dataframe thead th {\n",
       "        text-align: right;\n",
       "    }\n",
       "</style>\n",
       "<table border=\"1\" class=\"dataframe\">\n",
       "  <thead>\n",
       "    <tr style=\"text-align: right;\">\n",
       "      <th></th>\n",
       "      <th>ID</th>\n",
       "      <th>height</th>\n",
       "      <th>weight</th>\n",
       "      <th>BMI</th>\n",
       "    </tr>\n",
       "  </thead>\n",
       "  <tbody>\n",
       "    <tr>\n",
       "      <th>ID</th>\n",
       "      <td>1.0000</td>\n",
       "      <td>0.1407</td>\n",
       "      <td>-0.0230</td>\n",
       "      <td>-0.1083</td>\n",
       "    </tr>\n",
       "    <tr>\n",
       "      <th>height</th>\n",
       "      <td>0.1407</td>\n",
       "      <td>1.0000</td>\n",
       "      <td>0.6040</td>\n",
       "      <td>0.1789</td>\n",
       "    </tr>\n",
       "    <tr>\n",
       "      <th>weight</th>\n",
       "      <td>-0.0230</td>\n",
       "      <td>0.6040</td>\n",
       "      <td>1.0000</td>\n",
       "      <td>0.8877</td>\n",
       "    </tr>\n",
       "    <tr>\n",
       "      <th>BMI</th>\n",
       "      <td>-0.1083</td>\n",
       "      <td>0.1789</td>\n",
       "      <td>0.8877</td>\n",
       "      <td>1.0000</td>\n",
       "    </tr>\n",
       "  </tbody>\n",
       "</table>\n",
       "</div>"
      ],
      "text/plain": [
       "            ID  height  weight     BMI\n",
       "ID      1.0000  0.1407 -0.0230 -0.1083\n",
       "height  0.1407  1.0000  0.6040  0.1789\n",
       "weight -0.0230  0.6040  1.0000  0.8877\n",
       "BMI    -0.1083  0.1789  0.8877  1.0000"
      ]
     },
     "metadata": {},
     "output_type": "display_data"
    }
   ],
   "source": [
    "dfXY = pd.merge(Xtrain, Ytrain)\n",
    "print(dfXY.shape)\n",
    "# dfXY의 상관 관계 확인\n",
    "dfXY.corr()  # 체중하고 BMI가 큰 관련이 있음"
   ]
  },
  {
   "cell_type": "markdown",
   "metadata": {},
   "source": [
    "모델링 & 성능 평가"
   ]
  },
  {
   "cell_type": "code",
   "execution_count": null,
   "metadata": {},
   "outputs": [],
   "source": [
    "import matplotlib.pyplot as plt\n",
    "\n",
    "from sklearn.preprocessing import MinMaxScaler\n",
    "from sklearn.model_selection import train_test_split\n",
    "from sklearn.linear_model import LinearRegression"
   ]
  },
  {
   "cell_type": "code",
   "execution_count": null,
   "metadata": {},
   "outputs": [],
   "source": [
    "# 데이터를 분리하고, 학습 한 뒤 R2_score 를 구해 출력\n",
    "def Model_Train(model, XF, YF, scale=False):\n",
    "    # 7:3 분리, random_state=321  (주의: stratify사용 안함 -> 분류 모델에서만 사용)\n",
    "    if scale:\n",
    "       XF = MinMaxScaler().fit_transform(XF)  # scale이 True가 되면 scaling 사용\n",
    "    x_train, x_test, y_train, y_test = train_test_split(XF, YF,\n",
    "                                                        test_size=0.3,\n",
    "                                                        random_state=321)\n",
    "    model.fit(x_train, y_train)\n",
    "    A = model.score(x_train, y_train)  # train에 관한 R2 score\n",
    "    B = model.score(x_test, y_test)   # test에 관한 R2 score\n",
    "    print(f'{A:.4f} {B:.4f}')\n",
    "    return model"
   ]
  },
  {
   "cell_type": "markdown",
   "metadata": {},
   "source": [
    "#### Multiple Linear Regression"
   ]
  },
  {
   "cell_type": "code",
   "execution_count": null,
   "metadata": {},
   "outputs": [
    {
     "name": "stdout",
     "output_type": "stream",
     "text": [
      "0.9931 0.9625\n",
      "[-0.28008565  0.34383133] 47.62901862599368\n"
     ]
    }
   ],
   "source": [
    "# outlier가 포함되지 않은 경우, LinearRegression 모델 사용\n",
    "Xnormal = Xtrain[['height', 'weight']]\n",
    "Ynormal = Ytrain['BMI']\n",
    "model = LinearRegression()\n",
    "Model_Train(model, Xnormal, Ynormal) # 0.9931 0.9625\n",
    "\n",
    "print(model.coef_, model.intercept_)"
   ]
  },
  {
   "cell_type": "code",
   "execution_count": null,
   "metadata": {},
   "outputs": [
    {
     "name": "stdout",
     "output_type": "stream",
     "text": [
      "[[122.5   25.    16.66]\n",
      " [113.7   29.9   23.13]\n",
      " [127.6    0.9    0.55]\n",
      " [118.3   48.3   34.51]\n",
      " [216.3  154.    32.92]\n",
      " [224.6  164.1   32.53]\n",
      " [224.5   14.     2.78]]\n",
      "(7, 3)\n",
      "0.9296 0.4557\n"
     ]
    },
    {
     "data": {
      "text/html": [
       "<style>#sk-container-id-1 {\n",
       "  /* Definition of color scheme common for light and dark mode */\n",
       "  --sklearn-color-text: #000;\n",
       "  --sklearn-color-text-muted: #666;\n",
       "  --sklearn-color-line: gray;\n",
       "  /* Definition of color scheme for unfitted estimators */\n",
       "  --sklearn-color-unfitted-level-0: #fff5e6;\n",
       "  --sklearn-color-unfitted-level-1: #f6e4d2;\n",
       "  --sklearn-color-unfitted-level-2: #ffe0b3;\n",
       "  --sklearn-color-unfitted-level-3: chocolate;\n",
       "  /* Definition of color scheme for fitted estimators */\n",
       "  --sklearn-color-fitted-level-0: #f0f8ff;\n",
       "  --sklearn-color-fitted-level-1: #d4ebff;\n",
       "  --sklearn-color-fitted-level-2: #b3dbfd;\n",
       "  --sklearn-color-fitted-level-3: cornflowerblue;\n",
       "\n",
       "  /* Specific color for light theme */\n",
       "  --sklearn-color-text-on-default-background: var(--sg-text-color, var(--theme-code-foreground, var(--jp-content-font-color1, black)));\n",
       "  --sklearn-color-background: var(--sg-background-color, var(--theme-background, var(--jp-layout-color0, white)));\n",
       "  --sklearn-color-border-box: var(--sg-text-color, var(--theme-code-foreground, var(--jp-content-font-color1, black)));\n",
       "  --sklearn-color-icon: #696969;\n",
       "\n",
       "  @media (prefers-color-scheme: dark) {\n",
       "    /* Redefinition of color scheme for dark theme */\n",
       "    --sklearn-color-text-on-default-background: var(--sg-text-color, var(--theme-code-foreground, var(--jp-content-font-color1, white)));\n",
       "    --sklearn-color-background: var(--sg-background-color, var(--theme-background, var(--jp-layout-color0, #111)));\n",
       "    --sklearn-color-border-box: var(--sg-text-color, var(--theme-code-foreground, var(--jp-content-font-color1, white)));\n",
       "    --sklearn-color-icon: #878787;\n",
       "  }\n",
       "}\n",
       "\n",
       "#sk-container-id-1 {\n",
       "  color: var(--sklearn-color-text);\n",
       "}\n",
       "\n",
       "#sk-container-id-1 pre {\n",
       "  padding: 0;\n",
       "}\n",
       "\n",
       "#sk-container-id-1 input.sk-hidden--visually {\n",
       "  border: 0;\n",
       "  clip: rect(1px 1px 1px 1px);\n",
       "  clip: rect(1px, 1px, 1px, 1px);\n",
       "  height: 1px;\n",
       "  margin: -1px;\n",
       "  overflow: hidden;\n",
       "  padding: 0;\n",
       "  position: absolute;\n",
       "  width: 1px;\n",
       "}\n",
       "\n",
       "#sk-container-id-1 div.sk-dashed-wrapped {\n",
       "  border: 1px dashed var(--sklearn-color-line);\n",
       "  margin: 0 0.4em 0.5em 0.4em;\n",
       "  box-sizing: border-box;\n",
       "  padding-bottom: 0.4em;\n",
       "  background-color: var(--sklearn-color-background);\n",
       "}\n",
       "\n",
       "#sk-container-id-1 div.sk-container {\n",
       "  /* jupyter's `normalize.less` sets `[hidden] { display: none; }`\n",
       "     but bootstrap.min.css set `[hidden] { display: none !important; }`\n",
       "     so we also need the `!important` here to be able to override the\n",
       "     default hidden behavior on the sphinx rendered scikit-learn.org.\n",
       "     See: https://github.com/scikit-learn/scikit-learn/issues/21755 */\n",
       "  display: inline-block !important;\n",
       "  position: relative;\n",
       "}\n",
       "\n",
       "#sk-container-id-1 div.sk-text-repr-fallback {\n",
       "  display: none;\n",
       "}\n",
       "\n",
       "div.sk-parallel-item,\n",
       "div.sk-serial,\n",
       "div.sk-item {\n",
       "  /* draw centered vertical line to link estimators */\n",
       "  background-image: linear-gradient(var(--sklearn-color-text-on-default-background), var(--sklearn-color-text-on-default-background));\n",
       "  background-size: 2px 100%;\n",
       "  background-repeat: no-repeat;\n",
       "  background-position: center center;\n",
       "}\n",
       "\n",
       "/* Parallel-specific style estimator block */\n",
       "\n",
       "#sk-container-id-1 div.sk-parallel-item::after {\n",
       "  content: \"\";\n",
       "  width: 100%;\n",
       "  border-bottom: 2px solid var(--sklearn-color-text-on-default-background);\n",
       "  flex-grow: 1;\n",
       "}\n",
       "\n",
       "#sk-container-id-1 div.sk-parallel {\n",
       "  display: flex;\n",
       "  align-items: stretch;\n",
       "  justify-content: center;\n",
       "  background-color: var(--sklearn-color-background);\n",
       "  position: relative;\n",
       "}\n",
       "\n",
       "#sk-container-id-1 div.sk-parallel-item {\n",
       "  display: flex;\n",
       "  flex-direction: column;\n",
       "}\n",
       "\n",
       "#sk-container-id-1 div.sk-parallel-item:first-child::after {\n",
       "  align-self: flex-end;\n",
       "  width: 50%;\n",
       "}\n",
       "\n",
       "#sk-container-id-1 div.sk-parallel-item:last-child::after {\n",
       "  align-self: flex-start;\n",
       "  width: 50%;\n",
       "}\n",
       "\n",
       "#sk-container-id-1 div.sk-parallel-item:only-child::after {\n",
       "  width: 0;\n",
       "}\n",
       "\n",
       "/* Serial-specific style estimator block */\n",
       "\n",
       "#sk-container-id-1 div.sk-serial {\n",
       "  display: flex;\n",
       "  flex-direction: column;\n",
       "  align-items: center;\n",
       "  background-color: var(--sklearn-color-background);\n",
       "  padding-right: 1em;\n",
       "  padding-left: 1em;\n",
       "}\n",
       "\n",
       "\n",
       "/* Toggleable style: style used for estimator/Pipeline/ColumnTransformer box that is\n",
       "clickable and can be expanded/collapsed.\n",
       "- Pipeline and ColumnTransformer use this feature and define the default style\n",
       "- Estimators will overwrite some part of the style using the `sk-estimator` class\n",
       "*/\n",
       "\n",
       "/* Pipeline and ColumnTransformer style (default) */\n",
       "\n",
       "#sk-container-id-1 div.sk-toggleable {\n",
       "  /* Default theme specific background. It is overwritten whether we have a\n",
       "  specific estimator or a Pipeline/ColumnTransformer */\n",
       "  background-color: var(--sklearn-color-background);\n",
       "}\n",
       "\n",
       "/* Toggleable label */\n",
       "#sk-container-id-1 label.sk-toggleable__label {\n",
       "  cursor: pointer;\n",
       "  display: flex;\n",
       "  width: 100%;\n",
       "  margin-bottom: 0;\n",
       "  padding: 0.5em;\n",
       "  box-sizing: border-box;\n",
       "  text-align: center;\n",
       "  align-items: start;\n",
       "  justify-content: space-between;\n",
       "  gap: 0.5em;\n",
       "}\n",
       "\n",
       "#sk-container-id-1 label.sk-toggleable__label .caption {\n",
       "  font-size: 0.6rem;\n",
       "  font-weight: lighter;\n",
       "  color: var(--sklearn-color-text-muted);\n",
       "}\n",
       "\n",
       "#sk-container-id-1 label.sk-toggleable__label-arrow:before {\n",
       "  /* Arrow on the left of the label */\n",
       "  content: \"▸\";\n",
       "  float: left;\n",
       "  margin-right: 0.25em;\n",
       "  color: var(--sklearn-color-icon);\n",
       "}\n",
       "\n",
       "#sk-container-id-1 label.sk-toggleable__label-arrow:hover:before {\n",
       "  color: var(--sklearn-color-text);\n",
       "}\n",
       "\n",
       "/* Toggleable content - dropdown */\n",
       "\n",
       "#sk-container-id-1 div.sk-toggleable__content {\n",
       "  max-height: 0;\n",
       "  max-width: 0;\n",
       "  overflow: hidden;\n",
       "  text-align: left;\n",
       "  /* unfitted */\n",
       "  background-color: var(--sklearn-color-unfitted-level-0);\n",
       "}\n",
       "\n",
       "#sk-container-id-1 div.sk-toggleable__content.fitted {\n",
       "  /* fitted */\n",
       "  background-color: var(--sklearn-color-fitted-level-0);\n",
       "}\n",
       "\n",
       "#sk-container-id-1 div.sk-toggleable__content pre {\n",
       "  margin: 0.2em;\n",
       "  border-radius: 0.25em;\n",
       "  color: var(--sklearn-color-text);\n",
       "  /* unfitted */\n",
       "  background-color: var(--sklearn-color-unfitted-level-0);\n",
       "}\n",
       "\n",
       "#sk-container-id-1 div.sk-toggleable__content.fitted pre {\n",
       "  /* unfitted */\n",
       "  background-color: var(--sklearn-color-fitted-level-0);\n",
       "}\n",
       "\n",
       "#sk-container-id-1 input.sk-toggleable__control:checked~div.sk-toggleable__content {\n",
       "  /* Expand drop-down */\n",
       "  max-height: 200px;\n",
       "  max-width: 100%;\n",
       "  overflow: auto;\n",
       "}\n",
       "\n",
       "#sk-container-id-1 input.sk-toggleable__control:checked~label.sk-toggleable__label-arrow:before {\n",
       "  content: \"▾\";\n",
       "}\n",
       "\n",
       "/* Pipeline/ColumnTransformer-specific style */\n",
       "\n",
       "#sk-container-id-1 div.sk-label input.sk-toggleable__control:checked~label.sk-toggleable__label {\n",
       "  color: var(--sklearn-color-text);\n",
       "  background-color: var(--sklearn-color-unfitted-level-2);\n",
       "}\n",
       "\n",
       "#sk-container-id-1 div.sk-label.fitted input.sk-toggleable__control:checked~label.sk-toggleable__label {\n",
       "  background-color: var(--sklearn-color-fitted-level-2);\n",
       "}\n",
       "\n",
       "/* Estimator-specific style */\n",
       "\n",
       "/* Colorize estimator box */\n",
       "#sk-container-id-1 div.sk-estimator input.sk-toggleable__control:checked~label.sk-toggleable__label {\n",
       "  /* unfitted */\n",
       "  background-color: var(--sklearn-color-unfitted-level-2);\n",
       "}\n",
       "\n",
       "#sk-container-id-1 div.sk-estimator.fitted input.sk-toggleable__control:checked~label.sk-toggleable__label {\n",
       "  /* fitted */\n",
       "  background-color: var(--sklearn-color-fitted-level-2);\n",
       "}\n",
       "\n",
       "#sk-container-id-1 div.sk-label label.sk-toggleable__label,\n",
       "#sk-container-id-1 div.sk-label label {\n",
       "  /* The background is the default theme color */\n",
       "  color: var(--sklearn-color-text-on-default-background);\n",
       "}\n",
       "\n",
       "/* On hover, darken the color of the background */\n",
       "#sk-container-id-1 div.sk-label:hover label.sk-toggleable__label {\n",
       "  color: var(--sklearn-color-text);\n",
       "  background-color: var(--sklearn-color-unfitted-level-2);\n",
       "}\n",
       "\n",
       "/* Label box, darken color on hover, fitted */\n",
       "#sk-container-id-1 div.sk-label.fitted:hover label.sk-toggleable__label.fitted {\n",
       "  color: var(--sklearn-color-text);\n",
       "  background-color: var(--sklearn-color-fitted-level-2);\n",
       "}\n",
       "\n",
       "/* Estimator label */\n",
       "\n",
       "#sk-container-id-1 div.sk-label label {\n",
       "  font-family: monospace;\n",
       "  font-weight: bold;\n",
       "  display: inline-block;\n",
       "  line-height: 1.2em;\n",
       "}\n",
       "\n",
       "#sk-container-id-1 div.sk-label-container {\n",
       "  text-align: center;\n",
       "}\n",
       "\n",
       "/* Estimator-specific */\n",
       "#sk-container-id-1 div.sk-estimator {\n",
       "  font-family: monospace;\n",
       "  border: 1px dotted var(--sklearn-color-border-box);\n",
       "  border-radius: 0.25em;\n",
       "  box-sizing: border-box;\n",
       "  margin-bottom: 0.5em;\n",
       "  /* unfitted */\n",
       "  background-color: var(--sklearn-color-unfitted-level-0);\n",
       "}\n",
       "\n",
       "#sk-container-id-1 div.sk-estimator.fitted {\n",
       "  /* fitted */\n",
       "  background-color: var(--sklearn-color-fitted-level-0);\n",
       "}\n",
       "\n",
       "/* on hover */\n",
       "#sk-container-id-1 div.sk-estimator:hover {\n",
       "  /* unfitted */\n",
       "  background-color: var(--sklearn-color-unfitted-level-2);\n",
       "}\n",
       "\n",
       "#sk-container-id-1 div.sk-estimator.fitted:hover {\n",
       "  /* fitted */\n",
       "  background-color: var(--sklearn-color-fitted-level-2);\n",
       "}\n",
       "\n",
       "/* Specification for estimator info (e.g. \"i\" and \"?\") */\n",
       "\n",
       "/* Common style for \"i\" and \"?\" */\n",
       "\n",
       ".sk-estimator-doc-link,\n",
       "a:link.sk-estimator-doc-link,\n",
       "a:visited.sk-estimator-doc-link {\n",
       "  float: right;\n",
       "  font-size: smaller;\n",
       "  line-height: 1em;\n",
       "  font-family: monospace;\n",
       "  background-color: var(--sklearn-color-background);\n",
       "  border-radius: 1em;\n",
       "  height: 1em;\n",
       "  width: 1em;\n",
       "  text-decoration: none !important;\n",
       "  margin-left: 0.5em;\n",
       "  text-align: center;\n",
       "  /* unfitted */\n",
       "  border: var(--sklearn-color-unfitted-level-1) 1pt solid;\n",
       "  color: var(--sklearn-color-unfitted-level-1);\n",
       "}\n",
       "\n",
       ".sk-estimator-doc-link.fitted,\n",
       "a:link.sk-estimator-doc-link.fitted,\n",
       "a:visited.sk-estimator-doc-link.fitted {\n",
       "  /* fitted */\n",
       "  border: var(--sklearn-color-fitted-level-1) 1pt solid;\n",
       "  color: var(--sklearn-color-fitted-level-1);\n",
       "}\n",
       "\n",
       "/* On hover */\n",
       "div.sk-estimator:hover .sk-estimator-doc-link:hover,\n",
       ".sk-estimator-doc-link:hover,\n",
       "div.sk-label-container:hover .sk-estimator-doc-link:hover,\n",
       ".sk-estimator-doc-link:hover {\n",
       "  /* unfitted */\n",
       "  background-color: var(--sklearn-color-unfitted-level-3);\n",
       "  color: var(--sklearn-color-background);\n",
       "  text-decoration: none;\n",
       "}\n",
       "\n",
       "div.sk-estimator.fitted:hover .sk-estimator-doc-link.fitted:hover,\n",
       ".sk-estimator-doc-link.fitted:hover,\n",
       "div.sk-label-container:hover .sk-estimator-doc-link.fitted:hover,\n",
       ".sk-estimator-doc-link.fitted:hover {\n",
       "  /* fitted */\n",
       "  background-color: var(--sklearn-color-fitted-level-3);\n",
       "  color: var(--sklearn-color-background);\n",
       "  text-decoration: none;\n",
       "}\n",
       "\n",
       "/* Span, style for the box shown on hovering the info icon */\n",
       ".sk-estimator-doc-link span {\n",
       "  display: none;\n",
       "  z-index: 9999;\n",
       "  position: relative;\n",
       "  font-weight: normal;\n",
       "  right: .2ex;\n",
       "  padding: .5ex;\n",
       "  margin: .5ex;\n",
       "  width: min-content;\n",
       "  min-width: 20ex;\n",
       "  max-width: 50ex;\n",
       "  color: var(--sklearn-color-text);\n",
       "  box-shadow: 2pt 2pt 4pt #999;\n",
       "  /* unfitted */\n",
       "  background: var(--sklearn-color-unfitted-level-0);\n",
       "  border: .5pt solid var(--sklearn-color-unfitted-level-3);\n",
       "}\n",
       "\n",
       ".sk-estimator-doc-link.fitted span {\n",
       "  /* fitted */\n",
       "  background: var(--sklearn-color-fitted-level-0);\n",
       "  border: var(--sklearn-color-fitted-level-3);\n",
       "}\n",
       "\n",
       ".sk-estimator-doc-link:hover span {\n",
       "  display: block;\n",
       "}\n",
       "\n",
       "/* \"?\"-specific style due to the `<a>` HTML tag */\n",
       "\n",
       "#sk-container-id-1 a.estimator_doc_link {\n",
       "  float: right;\n",
       "  font-size: 1rem;\n",
       "  line-height: 1em;\n",
       "  font-family: monospace;\n",
       "  background-color: var(--sklearn-color-background);\n",
       "  border-radius: 1rem;\n",
       "  height: 1rem;\n",
       "  width: 1rem;\n",
       "  text-decoration: none;\n",
       "  /* unfitted */\n",
       "  color: var(--sklearn-color-unfitted-level-1);\n",
       "  border: var(--sklearn-color-unfitted-level-1) 1pt solid;\n",
       "}\n",
       "\n",
       "#sk-container-id-1 a.estimator_doc_link.fitted {\n",
       "  /* fitted */\n",
       "  border: var(--sklearn-color-fitted-level-1) 1pt solid;\n",
       "  color: var(--sklearn-color-fitted-level-1);\n",
       "}\n",
       "\n",
       "/* On hover */\n",
       "#sk-container-id-1 a.estimator_doc_link:hover {\n",
       "  /* unfitted */\n",
       "  background-color: var(--sklearn-color-unfitted-level-3);\n",
       "  color: var(--sklearn-color-background);\n",
       "  text-decoration: none;\n",
       "}\n",
       "\n",
       "#sk-container-id-1 a.estimator_doc_link.fitted:hover {\n",
       "  /* fitted */\n",
       "  background-color: var(--sklearn-color-fitted-level-3);\n",
       "}\n",
       "</style><div id=\"sk-container-id-1\" class=\"sk-top-container\"><div class=\"sk-text-repr-fallback\"><pre>LinearRegression()</pre><b>In a Jupyter environment, please rerun this cell to show the HTML representation or trust the notebook. <br />On GitHub, the HTML representation is unable to render, please try loading this page with nbviewer.org.</b></div><div class=\"sk-container\" hidden><div class=\"sk-item\"><div class=\"sk-estimator fitted sk-toggleable\"><input class=\"sk-toggleable__control sk-hidden--visually\" id=\"sk-estimator-id-1\" type=\"checkbox\" checked><label for=\"sk-estimator-id-1\" class=\"sk-toggleable__label fitted sk-toggleable__label-arrow\"><div><div>LinearRegression</div></div><div><a class=\"sk-estimator-doc-link fitted\" rel=\"noreferrer\" target=\"_blank\" href=\"https://scikit-learn.org/1.6/modules/generated/sklearn.linear_model.LinearRegression.html\">?<span>Documentation for LinearRegression</span></a><span class=\"sk-estimator-doc-link fitted\">i<span>Fitted</span></span></div></label><div class=\"sk-toggleable__content fitted\"><pre>LinearRegression()</pre></div> </div></div></div></div>"
      ],
      "text/plain": [
       "LinearRegression()"
      ]
     },
     "metadata": {},
     "output_type": "display_data"
    }
   ],
   "source": [
    "# [이상치를 포함한 데이터 생성 (outlier=0.07 사용)\n",
    "Toutlier = make_sample(1234, 100, outlier=0.07)  # 이상치 7개\n",
    "Xoutlier = Toutlier[['height', 'weight']]\n",
    "Youtlier = Toutlier['BMI']\n",
    "\n",
    "model2 = LinearRegression()\n",
    "Model_Train(model2, Xoutlier, Youtlier) # 0.9296 0.4557"
   ]
  },
  {
   "cell_type": "code",
   "execution_count": null,
   "metadata": {},
   "outputs": [
    {
     "data": {
      "image/png": "[encoded data removed]",
      "text/plain": [
       "<Figure size 640x480 with 1 Axes>"
      ]
     },
     "metadata": {},
     "output_type": "display_data"
    }
   ],
   "source": [
    "Xoutlier.plot(kind='box')\n",
    "plt.show()"
   ]
  },
  {
   "cell_type": "code",
   "execution_count": null,
   "metadata": {},
   "outputs": [
    {
     "data": {
      "text/html": [
       "<div>\n",
       "<style scoped>\n",
       "    .dataframe tbody tr th:only-of-type {\n",
       "        vertical-align: middle;\n",
       "    }\n",
       "\n",
       "    .dataframe tbody tr th {\n",
       "        vertical-align: top;\n",
       "    }\n",
       "\n",
       "    .dataframe thead th {\n",
       "        text-align: right;\n",
       "    }\n",
       "</style>\n",
       "<table border=\"1\" class=\"dataframe\">\n",
       "  <thead>\n",
       "    <tr style=\"text-align: right;\">\n",
       "      <th></th>\n",
       "      <th>height</th>\n",
       "      <th>weight</th>\n",
       "    </tr>\n",
       "  </thead>\n",
       "  <tbody>\n",
       "    <tr>\n",
       "      <th>0.2500</th>\n",
       "      <td>162.0000</td>\n",
       "      <td>52.7500</td>\n",
       "    </tr>\n",
       "    <tr>\n",
       "      <th>0.7500</th>\n",
       "      <td>175.8500</td>\n",
       "      <td>75.0000</td>\n",
       "    </tr>\n",
       "  </tbody>\n",
       "</table>\n",
       "</div>"
      ],
      "text/plain": [
       "         height  weight\n",
       "0.2500 162.0000 52.7500\n",
       "0.7500 175.8500 75.0000"
      ]
     },
     "metadata": {},
     "output_type": "display_data"
    }
   ],
   "source": [
    "# 각 feature별 Q1, Q3 확인\n",
    "Xoutlier.quantile([0.25, 0.75])"
   ]
  },
  {
   "cell_type": "code",
   "execution_count": null,
   "metadata": {},
   "outputs": [
    {
     "name": "stdout",
     "output_type": "stream",
     "text": [
      "141.225 196.625\n"
     ]
    }
   ],
   "source": [
    "# height에 대한 outlier 확인\n",
    "Q1, Q3 = Xoutlier['height'].quantile([0.25, 0.75])\n",
    "IQR = Q3 - Q1\n",
    "lower_h = round(Q1 - IQR * 1.5, 3)\n",
    "upper_h = round(Q3 + IQR * 1.5, 3)\n",
    "print(lower_h, upper_h)"
   ]
  },
  {
   "cell_type": "code",
   "execution_count": null,
   "metadata": {},
   "outputs": [
    {
     "name": "stdout",
     "output_type": "stream",
     "text": [
      "19.375 108.375\n"
     ]
    }
   ],
   "source": [
    "# weight에 대한 outlier 확인\n",
    "Q1, Q3 = Xoutlier['weight'].quantile([0.25, 0.75])\n",
    "IQR = Q3 - Q1\n",
    "lower_w = round(Q1 - IQR * 1.5, 3)\n",
    "upper_w = round(Q3 + IQR * 1.5, 3)\n",
    "print(lower_w, upper_w)"
   ]
  },
  {
   "cell_type": "code",
   "execution_count": null,
   "metadata": {},
   "outputs": [
    {
     "name": "stdout",
     "output_type": "stream",
     "text": [
      "0.9868 0.9935\n"
     ]
    },
    {
     "data": {
      "text/html": [
       "<style>#sk-container-id-2 {\n",
       "  /* Definition of color scheme common for light and dark mode */\n",
       "  --sklearn-color-text: #000;\n",
       "  --sklearn-color-text-muted: #666;\n",
       "  --sklearn-color-line: gray;\n",
       "  /* Definition of color scheme for unfitted estimators */\n",
       "  --sklearn-color-unfitted-level-0: #fff5e6;\n",
       "  --sklearn-color-unfitted-level-1: #f6e4d2;\n",
       "  --sklearn-color-unfitted-level-2: #ffe0b3;\n",
       "  --sklearn-color-unfitted-level-3: chocolate;\n",
       "  /* Definition of color scheme for fitted estimators */\n",
       "  --sklearn-color-fitted-level-0: #f0f8ff;\n",
       "  --sklearn-color-fitted-level-1: #d4ebff;\n",
       "  --sklearn-color-fitted-level-2: #b3dbfd;\n",
       "  --sklearn-color-fitted-level-3: cornflowerblue;\n",
       "\n",
       "  /* Specific color for light theme */\n",
       "  --sklearn-color-text-on-default-background: var(--sg-text-color, var(--theme-code-foreground, var(--jp-content-font-color1, black)));\n",
       "  --sklearn-color-background: var(--sg-background-color, var(--theme-background, var(--jp-layout-color0, white)));\n",
       "  --sklearn-color-border-box: var(--sg-text-color, var(--theme-code-foreground, var(--jp-content-font-color1, black)));\n",
       "  --sklearn-color-icon: #696969;\n",
       "\n",
       "  @media (prefers-color-scheme: dark) {\n",
       "    /* Redefinition of color scheme for dark theme */\n",
       "    --sklearn-color-text-on-default-background: var(--sg-text-color, var(--theme-code-foreground, var(--jp-content-font-color1, white)));\n",
       "    --sklearn-color-background: var(--sg-background-color, var(--theme-background, var(--jp-layout-color0, #111)));\n",
       "    --sklearn-color-border-box: var(--sg-text-color, var(--theme-code-foreground, var(--jp-content-font-color1, white)));\n",
       "    --sklearn-color-icon: #878787;\n",
       "  }\n",
       "}\n",
       "\n",
       "#sk-container-id-2 {\n",
       "  color: var(--sklearn-color-text);\n",
       "}\n",
       "\n",
       "#sk-container-id-2 pre {\n",
       "  padding: 0;\n",
       "}\n",
       "\n",
       "#sk-container-id-2 input.sk-hidden--visually {\n",
       "  border: 0;\n",
       "  clip: rect(1px 1px 1px 1px);\n",
       "  clip: rect(1px, 1px, 1px, 1px);\n",
       "  height: 1px;\n",
       "  margin: -1px;\n",
       "  overflow: hidden;\n",
       "  padding: 0;\n",
       "  position: absolute;\n",
       "  width: 1px;\n",
       "}\n",
       "\n",
       "#sk-container-id-2 div.sk-dashed-wrapped {\n",
       "  border: 1px dashed var(--sklearn-color-line);\n",
       "  margin: 0 0.4em 0.5em 0.4em;\n",
       "  box-sizing: border-box;\n",
       "  padding-bottom: 0.4em;\n",
       "  background-color: var(--sklearn-color-background);\n",
       "}\n",
       "\n",
       "#sk-container-id-2 div.sk-container {\n",
       "  /* jupyter's `normalize.less` sets `[hidden] { display: none; }`\n",
       "     but bootstrap.min.css set `[hidden] { display: none !important; }`\n",
       "     so we also need the `!important` here to be able to override the\n",
       "     default hidden behavior on the sphinx rendered scikit-learn.org.\n",
       "     See: https://github.com/scikit-learn/scikit-learn/issues/21755 */\n",
       "  display: inline-block !important;\n",
       "  position: relative;\n",
       "}\n",
       "\n",
       "#sk-container-id-2 div.sk-text-repr-fallback {\n",
       "  display: none;\n",
       "}\n",
       "\n",
       "div.sk-parallel-item,\n",
       "div.sk-serial,\n",
       "div.sk-item {\n",
       "  /* draw centered vertical line to link estimators */\n",
       "  background-image: linear-gradient(var(--sklearn-color-text-on-default-background), var(--sklearn-color-text-on-default-background));\n",
       "  background-size: 2px 100%;\n",
       "  background-repeat: no-repeat;\n",
       "  background-position: center center;\n",
       "}\n",
       "\n",
       "/* Parallel-specific style estimator block */\n",
       "\n",
       "#sk-container-id-2 div.sk-parallel-item::after {\n",
       "  content: \"\";\n",
       "  width: 100%;\n",
       "  border-bottom: 2px solid var(--sklearn-color-text-on-default-background);\n",
       "  flex-grow: 1;\n",
       "}\n",
       "\n",
       "#sk-container-id-2 div.sk-parallel {\n",
       "  display: flex;\n",
       "  align-items: stretch;\n",
       "  justify-content: center;\n",
       "  background-color: var(--sklearn-color-background);\n",
       "  position: relative;\n",
       "}\n",
       "\n",
       "#sk-container-id-2 div.sk-parallel-item {\n",
       "  display: flex;\n",
       "  flex-direction: column;\n",
       "}\n",
       "\n",
       "#sk-container-id-2 div.sk-parallel-item:first-child::after {\n",
       "  align-self: flex-end;\n",
       "  width: 50%;\n",
       "}\n",
       "\n",
       "#sk-container-id-2 div.sk-parallel-item:last-child::after {\n",
       "  align-self: flex-start;\n",
       "  width: 50%;\n",
       "}\n",
       "\n",
       "#sk-container-id-2 div.sk-parallel-item:only-child::after {\n",
       "  width: 0;\n",
       "}\n",
       "\n",
       "/* Serial-specific style estimator block */\n",
       "\n",
       "#sk-container-id-2 div.sk-serial {\n",
       "  display: flex;\n",
       "  flex-direction: column;\n",
       "  align-items: center;\n",
       "  background-color: var(--sklearn-color-background);\n",
       "  padding-right: 1em;\n",
       "  padding-left: 1em;\n",
       "}\n",
       "\n",
       "\n",
       "/* Toggleable style: style used for estimator/Pipeline/ColumnTransformer box that is\n",
       "clickable and can be expanded/collapsed.\n",
       "- Pipeline and ColumnTransformer use this feature and define the default style\n",
       "- Estimators will overwrite some part of the style using the `sk-estimator` class\n",
       "*/\n",
       "\n",
       "/* Pipeline and ColumnTransformer style (default) */\n",
       "\n",
       "#sk-container-id-2 div.sk-toggleable {\n",
       "  /* Default theme specific background. It is overwritten whether we have a\n",
       "  specific estimator or a Pipeline/ColumnTransformer */\n",
       "  background-color: var(--sklearn-color-background);\n",
       "}\n",
       "\n",
       "/* Toggleable label */\n",
       "#sk-container-id-2 label.sk-toggleable__label {\n",
       "  cursor: pointer;\n",
       "  display: flex;\n",
       "  width: 100%;\n",
       "  margin-bottom: 0;\n",
       "  padding: 0.5em;\n",
       "  box-sizing: border-box;\n",
       "  text-align: center;\n",
       "  align-items: start;\n",
       "  justify-content: space-between;\n",
       "  gap: 0.5em;\n",
       "}\n",
       "\n",
       "#sk-container-id-2 label.sk-toggleable__label .caption {\n",
       "  font-size: 0.6rem;\n",
       "  font-weight: lighter;\n",
       "  color: var(--sklearn-color-text-muted);\n",
       "}\n",
       "\n",
       "#sk-container-id-2 label.sk-toggleable__label-arrow:before {\n",
       "  /* Arrow on the left of the label */\n",
       "  content: \"▸\";\n",
       "  float: left;\n",
       "  margin-right: 0.25em;\n",
       "  color: var(--sklearn-color-icon);\n",
       "}\n",
       "\n",
       "#sk-container-id-2 label.sk-toggleable__label-arrow:hover:before {\n",
       "  color: var(--sklearn-color-text);\n",
       "}\n",
       "\n",
       "/* Toggleable content - dropdown */\n",
       "\n",
       "#sk-container-id-2 div.sk-toggleable__content {\n",
       "  max-height: 0;\n",
       "  max-width: 0;\n",
       "  overflow: hidden;\n",
       "  text-align: left;\n",
       "  /* unfitted */\n",
       "  background-color: var(--sklearn-color-unfitted-level-0);\n",
       "}\n",
       "\n",
       "#sk-container-id-2 div.sk-toggleable__content.fitted {\n",
       "  /* fitted */\n",
       "  background-color: var(--sklearn-color-fitted-level-0);\n",
       "}\n",
       "\n",
       "#sk-container-id-2 div.sk-toggleable__content pre {\n",
       "  margin: 0.2em;\n",
       "  border-radius: 0.25em;\n",
       "  color: var(--sklearn-color-text);\n",
       "  /* unfitted */\n",
       "  background-color: var(--sklearn-color-unfitted-level-0);\n",
       "}\n",
       "\n",
       "#sk-container-id-2 div.sk-toggleable__content.fitted pre {\n",
       "  /* unfitted */\n",
       "  background-color: var(--sklearn-color-fitted-level-0);\n",
       "}\n",
       "\n",
       "#sk-container-id-2 input.sk-toggleable__control:checked~div.sk-toggleable__content {\n",
       "  /* Expand drop-down */\n",
       "  max-height: 200px;\n",
       "  max-width: 100%;\n",
       "  overflow: auto;\n",
       "}\n",
       "\n",
       "#sk-container-id-2 input.sk-toggleable__control:checked~label.sk-toggleable__label-arrow:before {\n",
       "  content: \"▾\";\n",
       "}\n",
       "\n",
       "/* Pipeline/ColumnTransformer-specific style */\n",
       "\n",
       "#sk-container-id-2 div.sk-label input.sk-toggleable__control:checked~label.sk-toggleable__label {\n",
       "  color: var(--sklearn-color-text);\n",
       "  background-color: var(--sklearn-color-unfitted-level-2);\n",
       "}\n",
       "\n",
       "#sk-container-id-2 div.sk-label.fitted input.sk-toggleable__control:checked~label.sk-toggleable__label {\n",
       "  background-color: var(--sklearn-color-fitted-level-2);\n",
       "}\n",
       "\n",
       "/* Estimator-specific style */\n",
       "\n",
       "/* Colorize estimator box */\n",
       "#sk-container-id-2 div.sk-estimator input.sk-toggleable__control:checked~label.sk-toggleable__label {\n",
       "  /* unfitted */\n",
       "  background-color: var(--sklearn-color-unfitted-level-2);\n",
       "}\n",
       "\n",
       "#sk-container-id-2 div.sk-estimator.fitted input.sk-toggleable__control:checked~label.sk-toggleable__label {\n",
       "  /* fitted */\n",
       "  background-color: var(--sklearn-color-fitted-level-2);\n",
       "}\n",
       "\n",
       "#sk-container-id-2 div.sk-label label.sk-toggleable__label,\n",
       "#sk-container-id-2 div.sk-label label {\n",
       "  /* The background is the default theme color */\n",
       "  color: var(--sklearn-color-text-on-default-background);\n",
       "}\n",
       "\n",
       "/* On hover, darken the color of the background */\n",
       "#sk-container-id-2 div.sk-label:hover label.sk-toggleable__label {\n",
       "  color: var(--sklearn-color-text);\n",
       "  background-color: var(--sklearn-color-unfitted-level-2);\n",
       "}\n",
       "\n",
       "/* Label box, darken color on hover, fitted */\n",
       "#sk-container-id-2 div.sk-label.fitted:hover label.sk-toggleable__label.fitted {\n",
       "  color: var(--sklearn-color-text);\n",
       "  background-color: var(--sklearn-color-fitted-level-2);\n",
       "}\n",
       "\n",
       "/* Estimator label */\n",
       "\n",
       "#sk-container-id-2 div.sk-label label {\n",
       "  font-family: monospace;\n",
       "  font-weight: bold;\n",
       "  display: inline-block;\n",
       "  line-height: 1.2em;\n",
       "}\n",
       "\n",
       "#sk-container-id-2 div.sk-label-container {\n",
       "  text-align: center;\n",
       "}\n",
       "\n",
       "/* Estimator-specific */\n",
       "#sk-container-id-2 div.sk-estimator {\n",
       "  font-family: monospace;\n",
       "  border: 1px dotted var(--sklearn-color-border-box);\n",
       "  border-radius: 0.25em;\n",
       "  box-sizing: border-box;\n",
       "  margin-bottom: 0.5em;\n",
       "  /* unfitted */\n",
       "  background-color: var(--sklearn-color-unfitted-level-0);\n",
       "}\n",
       "\n",
       "#sk-container-id-2 div.sk-estimator.fitted {\n",
       "  /* fitted */\n",
       "  background-color: var(--sklearn-color-fitted-level-0);\n",
       "}\n",
       "\n",
       "/* on hover */\n",
       "#sk-container-id-2 div.sk-estimator:hover {\n",
       "  /* unfitted */\n",
       "  background-color: var(--sklearn-color-unfitted-level-2);\n",
       "}\n",
       "\n",
       "#sk-container-id-2 div.sk-estimator.fitted:hover {\n",
       "  /* fitted */\n",
       "  background-color: var(--sklearn-color-fitted-level-2);\n",
       "}\n",
       "\n",
       "/* Specification for estimator info (e.g. \"i\" and \"?\") */\n",
       "\n",
       "/* Common style for \"i\" and \"?\" */\n",
       "\n",
       ".sk-estimator-doc-link,\n",
       "a:link.sk-estimator-doc-link,\n",
       "a:visited.sk-estimator-doc-link {\n",
       "  float: right;\n",
       "  font-size: smaller;\n",
       "  line-height: 1em;\n",
       "  font-family: monospace;\n",
       "  background-color: var(--sklearn-color-background);\n",
       "  border-radius: 1em;\n",
       "  height: 1em;\n",
       "  width: 1em;\n",
       "  text-decoration: none !important;\n",
       "  margin-left: 0.5em;\n",
       "  text-align: center;\n",
       "  /* unfitted */\n",
       "  border: var(--sklearn-color-unfitted-level-1) 1pt solid;\n",
       "  color: var(--sklearn-color-unfitted-level-1);\n",
       "}\n",
       "\n",
       ".sk-estimator-doc-link.fitted,\n",
       "a:link.sk-estimator-doc-link.fitted,\n",
       "a:visited.sk-estimator-doc-link.fitted {\n",
       "  /* fitted */\n",
       "  border: var(--sklearn-color-fitted-level-1) 1pt solid;\n",
       "  color: var(--sklearn-color-fitted-level-1);\n",
       "}\n",
       "\n",
       "/* On hover */\n",
       "div.sk-estimator:hover .sk-estimator-doc-link:hover,\n",
       ".sk-estimator-doc-link:hover,\n",
       "div.sk-label-container:hover .sk-estimator-doc-link:hover,\n",
       ".sk-estimator-doc-link:hover {\n",
       "  /* unfitted */\n",
       "  background-color: var(--sklearn-color-unfitted-level-3);\n",
       "  color: var(--sklearn-color-background);\n",
       "  text-decoration: none;\n",
       "}\n",
       "\n",
       "div.sk-estimator.fitted:hover .sk-estimator-doc-link.fitted:hover,\n",
       ".sk-estimator-doc-link.fitted:hover,\n",
       "div.sk-label-container:hover .sk-estimator-doc-link.fitted:hover,\n",
       ".sk-estimator-doc-link.fitted:hover {\n",
       "  /* fitted */\n",
       "  background-color: var(--sklearn-color-fitted-level-3);\n",
       "  color: var(--sklearn-color-background);\n",
       "  text-decoration: none;\n",
       "}\n",
       "\n",
       "/* Span, style for the box shown on hovering the info icon */\n",
       ".sk-estimator-doc-link span {\n",
       "  display: none;\n",
       "  z-index: 9999;\n",
       "  position: relative;\n",
       "  font-weight: normal;\n",
       "  right: .2ex;\n",
       "  padding: .5ex;\n",
       "  margin: .5ex;\n",
       "  width: min-content;\n",
       "  min-width: 20ex;\n",
       "  max-width: 50ex;\n",
       "  color: var(--sklearn-color-text);\n",
       "  box-shadow: 2pt 2pt 4pt #999;\n",
       "  /* unfitted */\n",
       "  background: var(--sklearn-color-unfitted-level-0);\n",
       "  border: .5pt solid var(--sklearn-color-unfitted-level-3);\n",
       "}\n",
       "\n",
       ".sk-estimator-doc-link.fitted span {\n",
       "  /* fitted */\n",
       "  background: var(--sklearn-color-fitted-level-0);\n",
       "  border: var(--sklearn-color-fitted-level-3);\n",
       "}\n",
       "\n",
       ".sk-estimator-doc-link:hover span {\n",
       "  display: block;\n",
       "}\n",
       "\n",
       "/* \"?\"-specific style due to the `<a>` HTML tag */\n",
       "\n",
       "#sk-container-id-2 a.estimator_doc_link {\n",
       "  float: right;\n",
       "  font-size: 1rem;\n",
       "  line-height: 1em;\n",
       "  font-family: monospace;\n",
       "  background-color: var(--sklearn-color-background);\n",
       "  border-radius: 1rem;\n",
       "  height: 1rem;\n",
       "  width: 1rem;\n",
       "  text-decoration: none;\n",
       "  /* unfitted */\n",
       "  color: var(--sklearn-color-unfitted-level-1);\n",
       "  border: var(--sklearn-color-unfitted-level-1) 1pt solid;\n",
       "}\n",
       "\n",
       "#sk-container-id-2 a.estimator_doc_link.fitted {\n",
       "  /* fitted */\n",
       "  border: var(--sklearn-color-fitted-level-1) 1pt solid;\n",
       "  color: var(--sklearn-color-fitted-level-1);\n",
       "}\n",
       "\n",
       "/* On hover */\n",
       "#sk-container-id-2 a.estimator_doc_link:hover {\n",
       "  /* unfitted */\n",
       "  background-color: var(--sklearn-color-unfitted-level-3);\n",
       "  color: var(--sklearn-color-background);\n",
       "  text-decoration: none;\n",
       "}\n",
       "\n",
       "#sk-container-id-2 a.estimator_doc_link.fitted:hover {\n",
       "  /* fitted */\n",
       "  background-color: var(--sklearn-color-fitted-level-3);\n",
       "}\n",
       "</style><div id=\"sk-container-id-2\" class=\"sk-top-container\"><div class=\"sk-text-repr-fallback\"><pre>LinearRegression()</pre><b>In a Jupyter environment, please rerun this cell to show the HTML representation or trust the notebook. <br />On GitHub, the HTML representation is unable to render, please try loading this page with nbviewer.org.</b></div><div class=\"sk-container\" hidden><div class=\"sk-item\"><div class=\"sk-estimator fitted sk-toggleable\"><input class=\"sk-toggleable__control sk-hidden--visually\" id=\"sk-estimator-id-2\" type=\"checkbox\" checked><label for=\"sk-estimator-id-2\" class=\"sk-toggleable__label fitted sk-toggleable__label-arrow\"><div><div>LinearRegression</div></div><div><a class=\"sk-estimator-doc-link fitted\" rel=\"noreferrer\" target=\"_blank\" href=\"https://scikit-learn.org/1.6/modules/generated/sklearn.linear_model.LinearRegression.html\">?<span>Documentation for LinearRegression</span></a><span class=\"sk-estimator-doc-link fitted\">i<span>Fitted</span></span></div></label><div class=\"sk-toggleable__content fitted\"><pre>LinearRegression()</pre></div> </div></div></div></div>"
      ],
      "text/plain": [
       "LinearRegression()"
      ]
     },
     "metadata": {},
     "output_type": "display_data"
    }
   ],
   "source": [
    "# height에 대한 outlier 제거 및 학습\n",
    "height = Xoutlier['height']\n",
    "outlier_h = Xoutlier[(height < lower_h) | (height > upper_h)]\n",
    "#print(outlier_h)\n",
    "\n",
    "Xoutlier_rh = Xoutlier.drop(index=outlier_h.index)\n",
    "Youtlier_rh = Youtlier.drop(index=outlier_h.index)\n",
    "#print(Xoutlier_rh.shape, Youtlier_rh.shape)\n",
    "\n",
    "model3 = LinearRegression()\n",
    "Model_Train(model3, Xoutlier_rh, Youtlier_rh)  # 성능이 좋아짐"
   ]
  },
  {
   "cell_type": "code",
   "execution_count": null,
   "metadata": {},
   "outputs": [
    {
     "name": "stdout",
     "output_type": "stream",
     "text": [
      "0.9731 0.9217\n"
     ]
    },
    {
     "data": {
      "text/html": [
       "<style>#sk-container-id-3 {\n",
       "  /* Definition of color scheme common for light and dark mode */\n",
       "  --sklearn-color-text: #000;\n",
       "  --sklearn-color-text-muted: #666;\n",
       "  --sklearn-color-line: gray;\n",
       "  /* Definition of color scheme for unfitted estimators */\n",
       "  --sklearn-color-unfitted-level-0: #fff5e6;\n",
       "  --sklearn-color-unfitted-level-1: #f6e4d2;\n",
       "  --sklearn-color-unfitted-level-2: #ffe0b3;\n",
       "  --sklearn-color-unfitted-level-3: chocolate;\n",
       "  /* Definition of color scheme for fitted estimators */\n",
       "  --sklearn-color-fitted-level-0: #f0f8ff;\n",
       "  --sklearn-color-fitted-level-1: #d4ebff;\n",
       "  --sklearn-color-fitted-level-2: #b3dbfd;\n",
       "  --sklearn-color-fitted-level-3: cornflowerblue;\n",
       "\n",
       "  /* Specific color for light theme */\n",
       "  --sklearn-color-text-on-default-background: var(--sg-text-color, var(--theme-code-foreground, var(--jp-content-font-color1, black)));\n",
       "  --sklearn-color-background: var(--sg-background-color, var(--theme-background, var(--jp-layout-color0, white)));\n",
       "  --sklearn-color-border-box: var(--sg-text-color, var(--theme-code-foreground, var(--jp-content-font-color1, black)));\n",
       "  --sklearn-color-icon: #696969;\n",
       "\n",
       "  @media (prefers-color-scheme: dark) {\n",
       "    /* Redefinition of color scheme for dark theme */\n",
       "    --sklearn-color-text-on-default-background: var(--sg-text-color, var(--theme-code-foreground, var(--jp-content-font-color1, white)));\n",
       "    --sklearn-color-background: var(--sg-background-color, var(--theme-background, var(--jp-layout-color0, #111)));\n",
       "    --sklearn-color-border-box: var(--sg-text-color, var(--theme-code-foreground, var(--jp-content-font-color1, white)));\n",
       "    --sklearn-color-icon: #878787;\n",
       "  }\n",
       "}\n",
       "\n",
       "#sk-container-id-3 {\n",
       "  color: var(--sklearn-color-text);\n",
       "}\n",
       "\n",
       "#sk-container-id-3 pre {\n",
       "  padding: 0;\n",
       "}\n",
       "\n",
       "#sk-container-id-3 input.sk-hidden--visually {\n",
       "  border: 0;\n",
       "  clip: rect(1px 1px 1px 1px);\n",
       "  clip: rect(1px, 1px, 1px, 1px);\n",
       "  height: 1px;\n",
       "  margin: -1px;\n",
       "  overflow: hidden;\n",
       "  padding: 0;\n",
       "  position: absolute;\n",
       "  width: 1px;\n",
       "}\n",
       "\n",
       "#sk-container-id-3 div.sk-dashed-wrapped {\n",
       "  border: 1px dashed var(--sklearn-color-line);\n",
       "  margin: 0 0.4em 0.5em 0.4em;\n",
       "  box-sizing: border-box;\n",
       "  padding-bottom: 0.4em;\n",
       "  background-color: var(--sklearn-color-background);\n",
       "}\n",
       "\n",
       "#sk-container-id-3 div.sk-container {\n",
       "  /* jupyter's `normalize.less` sets `[hidden] { display: none; }`\n",
       "     but bootstrap.min.css set `[hidden] { display: none !important; }`\n",
       "     so we also need the `!important` here to be able to override the\n",
       "     default hidden behavior on the sphinx rendered scikit-learn.org.\n",
       "     See: https://github.com/scikit-learn/scikit-learn/issues/21755 */\n",
       "  display: inline-block !important;\n",
       "  position: relative;\n",
       "}\n",
       "\n",
       "#sk-container-id-3 div.sk-text-repr-fallback {\n",
       "  display: none;\n",
       "}\n",
       "\n",
       "div.sk-parallel-item,\n",
       "div.sk-serial,\n",
       "div.sk-item {\n",
       "  /* draw centered vertical line to link estimators */\n",
       "  background-image: linear-gradient(var(--sklearn-color-text-on-default-background), var(--sklearn-color-text-on-default-background));\n",
       "  background-size: 2px 100%;\n",
       "  background-repeat: no-repeat;\n",
       "  background-position: center center;\n",
       "}\n",
       "\n",
       "/* Parallel-specific style estimator block */\n",
       "\n",
       "#sk-container-id-3 div.sk-parallel-item::after {\n",
       "  content: \"\";\n",
       "  width: 100%;\n",
       "  border-bottom: 2px solid var(--sklearn-color-text-on-default-background);\n",
       "  flex-grow: 1;\n",
       "}\n",
       "\n",
       "#sk-container-id-3 div.sk-parallel {\n",
       "  display: flex;\n",
       "  align-items: stretch;\n",
       "  justify-content: center;\n",
       "  background-color: var(--sklearn-color-background);\n",
       "  position: relative;\n",
       "}\n",
       "\n",
       "#sk-container-id-3 div.sk-parallel-item {\n",
       "  display: flex;\n",
       "  flex-direction: column;\n",
       "}\n",
       "\n",
       "#sk-container-id-3 div.sk-parallel-item:first-child::after {\n",
       "  align-self: flex-end;\n",
       "  width: 50%;\n",
       "}\n",
       "\n",
       "#sk-container-id-3 div.sk-parallel-item:last-child::after {\n",
       "  align-self: flex-start;\n",
       "  width: 50%;\n",
       "}\n",
       "\n",
       "#sk-container-id-3 div.sk-parallel-item:only-child::after {\n",
       "  width: 0;\n",
       "}\n",
       "\n",
       "/* Serial-specific style estimator block */\n",
       "\n",
       "#sk-container-id-3 div.sk-serial {\n",
       "  display: flex;\n",
       "  flex-direction: column;\n",
       "  align-items: center;\n",
       "  background-color: var(--sklearn-color-background);\n",
       "  padding-right: 1em;\n",
       "  padding-left: 1em;\n",
       "}\n",
       "\n",
       "\n",
       "/* Toggleable style: style used for estimator/Pipeline/ColumnTransformer box that is\n",
       "clickable and can be expanded/collapsed.\n",
       "- Pipeline and ColumnTransformer use this feature and define the default style\n",
       "- Estimators will overwrite some part of the style using the `sk-estimator` class\n",
       "*/\n",
       "\n",
       "/* Pipeline and ColumnTransformer style (default) */\n",
       "\n",
       "#sk-container-id-3 div.sk-toggleable {\n",
       "  /* Default theme specific background. It is overwritten whether we have a\n",
       "  specific estimator or a Pipeline/ColumnTransformer */\n",
       "  background-color: var(--sklearn-color-background);\n",
       "}\n",
       "\n",
       "/* Toggleable label */\n",
       "#sk-container-id-3 label.sk-toggleable__label {\n",
       "  cursor: pointer;\n",
       "  display: flex;\n",
       "  width: 100%;\n",
       "  margin-bottom: 0;\n",
       "  padding: 0.5em;\n",
       "  box-sizing: border-box;\n",
       "  text-align: center;\n",
       "  align-items: start;\n",
       "  justify-content: space-between;\n",
       "  gap: 0.5em;\n",
       "}\n",
       "\n",
       "#sk-container-id-3 label.sk-toggleable__label .caption {\n",
       "  font-size: 0.6rem;\n",
       "  font-weight: lighter;\n",
       "  color: var(--sklearn-color-text-muted);\n",
       "}\n",
       "\n",
       "#sk-container-id-3 label.sk-toggleable__label-arrow:before {\n",
       "  /* Arrow on the left of the label */\n",
       "  content: \"▸\";\n",
       "  float: left;\n",
       "  margin-right: 0.25em;\n",
       "  color: var(--sklearn-color-icon);\n",
       "}\n",
       "\n",
       "#sk-container-id-3 label.sk-toggleable__label-arrow:hover:before {\n",
       "  color: var(--sklearn-color-text);\n",
       "}\n",
       "\n",
       "/* Toggleable content - dropdown */\n",
       "\n",
       "#sk-container-id-3 div.sk-toggleable__content {\n",
       "  max-height: 0;\n",
       "  max-width: 0;\n",
       "  overflow: hidden;\n",
       "  text-align: left;\n",
       "  /* unfitted */\n",
       "  background-color: var(--sklearn-color-unfitted-level-0);\n",
       "}\n",
       "\n",
       "#sk-container-id-3 div.sk-toggleable__content.fitted {\n",
       "  /* fitted */\n",
       "  background-color: var(--sklearn-color-fitted-level-0);\n",
       "}\n",
       "\n",
       "#sk-container-id-3 div.sk-toggleable__content pre {\n",
       "  margin: 0.2em;\n",
       "  border-radius: 0.25em;\n",
       "  color: var(--sklearn-color-text);\n",
       "  /* unfitted */\n",
       "  background-color: var(--sklearn-color-unfitted-level-0);\n",
       "}\n",
       "\n",
       "#sk-container-id-3 div.sk-toggleable__content.fitted pre {\n",
       "  /* unfitted */\n",
       "  background-color: var(--sklearn-color-fitted-level-0);\n",
       "}\n",
       "\n",
       "#sk-container-id-3 input.sk-toggleable__control:checked~div.sk-toggleable__content {\n",
       "  /* Expand drop-down */\n",
       "  max-height: 200px;\n",
       "  max-width: 100%;\n",
       "  overflow: auto;\n",
       "}\n",
       "\n",
       "#sk-container-id-3 input.sk-toggleable__control:checked~label.sk-toggleable__label-arrow:before {\n",
       "  content: \"▾\";\n",
       "}\n",
       "\n",
       "/* Pipeline/ColumnTransformer-specific style */\n",
       "\n",
       "#sk-container-id-3 div.sk-label input.sk-toggleable__control:checked~label.sk-toggleable__label {\n",
       "  color: var(--sklearn-color-text);\n",
       "  background-color: var(--sklearn-color-unfitted-level-2);\n",
       "}\n",
       "\n",
       "#sk-container-id-3 div.sk-label.fitted input.sk-toggleable__control:checked~label.sk-toggleable__label {\n",
       "  background-color: var(--sklearn-color-fitted-level-2);\n",
       "}\n",
       "\n",
       "/* Estimator-specific style */\n",
       "\n",
       "/* Colorize estimator box */\n",
       "#sk-container-id-3 div.sk-estimator input.sk-toggleable__control:checked~label.sk-toggleable__label {\n",
       "  /* unfitted */\n",
       "  background-color: var(--sklearn-color-unfitted-level-2);\n",
       "}\n",
       "\n",
       "#sk-container-id-3 div.sk-estimator.fitted input.sk-toggleable__control:checked~label.sk-toggleable__label {\n",
       "  /* fitted */\n",
       "  background-color: var(--sklearn-color-fitted-level-2);\n",
       "}\n",
       "\n",
       "#sk-container-id-3 div.sk-label label.sk-toggleable__label,\n",
       "#sk-container-id-3 div.sk-label label {\n",
       "  /* The background is the default theme color */\n",
       "  color: var(--sklearn-color-text-on-default-background);\n",
       "}\n",
       "\n",
       "/* On hover, darken the color of the background */\n",
       "#sk-container-id-3 div.sk-label:hover label.sk-toggleable__label {\n",
       "  color: var(--sklearn-color-text);\n",
       "  background-color: var(--sklearn-color-unfitted-level-2);\n",
       "}\n",
       "\n",
       "/* Label box, darken color on hover, fitted */\n",
       "#sk-container-id-3 div.sk-label.fitted:hover label.sk-toggleable__label.fitted {\n",
       "  color: var(--sklearn-color-text);\n",
       "  background-color: var(--sklearn-color-fitted-level-2);\n",
       "}\n",
       "\n",
       "/* Estimator label */\n",
       "\n",
       "#sk-container-id-3 div.sk-label label {\n",
       "  font-family: monospace;\n",
       "  font-weight: bold;\n",
       "  display: inline-block;\n",
       "  line-height: 1.2em;\n",
       "}\n",
       "\n",
       "#sk-container-id-3 div.sk-label-container {\n",
       "  text-align: center;\n",
       "}\n",
       "\n",
       "/* Estimator-specific */\n",
       "#sk-container-id-3 div.sk-estimator {\n",
       "  font-family: monospace;\n",
       "  border: 1px dotted var(--sklearn-color-border-box);\n",
       "  border-radius: 0.25em;\n",
       "  box-sizing: border-box;\n",
       "  margin-bottom: 0.5em;\n",
       "  /* unfitted */\n",
       "  background-color: var(--sklearn-color-unfitted-level-0);\n",
       "}\n",
       "\n",
       "#sk-container-id-3 div.sk-estimator.fitted {\n",
       "  /* fitted */\n",
       "  background-color: var(--sklearn-color-fitted-level-0);\n",
       "}\n",
       "\n",
       "/* on hover */\n",
       "#sk-container-id-3 div.sk-estimator:hover {\n",
       "  /* unfitted */\n",
       "  background-color: var(--sklearn-color-unfitted-level-2);\n",
       "}\n",
       "\n",
       "#sk-container-id-3 div.sk-estimator.fitted:hover {\n",
       "  /* fitted */\n",
       "  background-color: var(--sklearn-color-fitted-level-2);\n",
       "}\n",
       "\n",
       "/* Specification for estimator info (e.g. \"i\" and \"?\") */\n",
       "\n",
       "/* Common style for \"i\" and \"?\" */\n",
       "\n",
       ".sk-estimator-doc-link,\n",
       "a:link.sk-estimator-doc-link,\n",
       "a:visited.sk-estimator-doc-link {\n",
       "  float: right;\n",
       "  font-size: smaller;\n",
       "  line-height: 1em;\n",
       "  font-family: monospace;\n",
       "  background-color: var(--sklearn-color-background);\n",
       "  border-radius: 1em;\n",
       "  height: 1em;\n",
       "  width: 1em;\n",
       "  text-decoration: none !important;\n",
       "  margin-left: 0.5em;\n",
       "  text-align: center;\n",
       "  /* unfitted */\n",
       "  border: var(--sklearn-color-unfitted-level-1) 1pt solid;\n",
       "  color: var(--sklearn-color-unfitted-level-1);\n",
       "}\n",
       "\n",
       ".sk-estimator-doc-link.fitted,\n",
       "a:link.sk-estimator-doc-link.fitted,\n",
       "a:visited.sk-estimator-doc-link.fitted {\n",
       "  /* fitted */\n",
       "  border: var(--sklearn-color-fitted-level-1) 1pt solid;\n",
       "  color: var(--sklearn-color-fitted-level-1);\n",
       "}\n",
       "\n",
       "/* On hover */\n",
       "div.sk-estimator:hover .sk-estimator-doc-link:hover,\n",
       ".sk-estimator-doc-link:hover,\n",
       "div.sk-label-container:hover .sk-estimator-doc-link:hover,\n",
       ".sk-estimator-doc-link:hover {\n",
       "  /* unfitted */\n",
       "  background-color: var(--sklearn-color-unfitted-level-3);\n",
       "  color: var(--sklearn-color-background);\n",
       "  text-decoration: none;\n",
       "}\n",
       "\n",
       "div.sk-estimator.fitted:hover .sk-estimator-doc-link.fitted:hover,\n",
       ".sk-estimator-doc-link.fitted:hover,\n",
       "div.sk-label-container:hover .sk-estimator-doc-link.fitted:hover,\n",
       ".sk-estimator-doc-link.fitted:hover {\n",
       "  /* fitted */\n",
       "  background-color: var(--sklearn-color-fitted-level-3);\n",
       "  color: var(--sklearn-color-background);\n",
       "  text-decoration: none;\n",
       "}\n",
       "\n",
       "/* Span, style for the box shown on hovering the info icon */\n",
       ".sk-estimator-doc-link span {\n",
       "  display: none;\n",
       "  z-index: 9999;\n",
       "  position: relative;\n",
       "  font-weight: normal;\n",
       "  right: .2ex;\n",
       "  padding: .5ex;\n",
       "  margin: .5ex;\n",
       "  width: min-content;\n",
       "  min-width: 20ex;\n",
       "  max-width: 50ex;\n",
       "  color: var(--sklearn-color-text);\n",
       "  box-shadow: 2pt 2pt 4pt #999;\n",
       "  /* unfitted */\n",
       "  background: var(--sklearn-color-unfitted-level-0);\n",
       "  border: .5pt solid var(--sklearn-color-unfitted-level-3);\n",
       "}\n",
       "\n",
       ".sk-estimator-doc-link.fitted span {\n",
       "  /* fitted */\n",
       "  background: var(--sklearn-color-fitted-level-0);\n",
       "  border: var(--sklearn-color-fitted-level-3);\n",
       "}\n",
       "\n",
       ".sk-estimator-doc-link:hover span {\n",
       "  display: block;\n",
       "}\n",
       "\n",
       "/* \"?\"-specific style due to the `<a>` HTML tag */\n",
       "\n",
       "#sk-container-id-3 a.estimator_doc_link {\n",
       "  float: right;\n",
       "  font-size: 1rem;\n",
       "  line-height: 1em;\n",
       "  font-family: monospace;\n",
       "  background-color: var(--sklearn-color-background);\n",
       "  border-radius: 1rem;\n",
       "  height: 1rem;\n",
       "  width: 1rem;\n",
       "  text-decoration: none;\n",
       "  /* unfitted */\n",
       "  color: var(--sklearn-color-unfitted-level-1);\n",
       "  border: var(--sklearn-color-unfitted-level-1) 1pt solid;\n",
       "}\n",
       "\n",
       "#sk-container-id-3 a.estimator_doc_link.fitted {\n",
       "  /* fitted */\n",
       "  border: var(--sklearn-color-fitted-level-1) 1pt solid;\n",
       "  color: var(--sklearn-color-fitted-level-1);\n",
       "}\n",
       "\n",
       "/* On hover */\n",
       "#sk-container-id-3 a.estimator_doc_link:hover {\n",
       "  /* unfitted */\n",
       "  background-color: var(--sklearn-color-unfitted-level-3);\n",
       "  color: var(--sklearn-color-background);\n",
       "  text-decoration: none;\n",
       "}\n",
       "\n",
       "#sk-container-id-3 a.estimator_doc_link.fitted:hover {\n",
       "  /* fitted */\n",
       "  background-color: var(--sklearn-color-fitted-level-3);\n",
       "}\n",
       "</style><div id=\"sk-container-id-3\" class=\"sk-top-container\"><div class=\"sk-text-repr-fallback\"><pre>LinearRegression()</pre><b>In a Jupyter environment, please rerun this cell to show the HTML representation or trust the notebook. <br />On GitHub, the HTML representation is unable to render, please try loading this page with nbviewer.org.</b></div><div class=\"sk-container\" hidden><div class=\"sk-item\"><div class=\"sk-estimator fitted sk-toggleable\"><input class=\"sk-toggleable__control sk-hidden--visually\" id=\"sk-estimator-id-3\" type=\"checkbox\" checked><label for=\"sk-estimator-id-3\" class=\"sk-toggleable__label fitted sk-toggleable__label-arrow\"><div><div>LinearRegression</div></div><div><a class=\"sk-estimator-doc-link fitted\" rel=\"noreferrer\" target=\"_blank\" href=\"https://scikit-learn.org/1.6/modules/generated/sklearn.linear_model.LinearRegression.html\">?<span>Documentation for LinearRegression</span></a><span class=\"sk-estimator-doc-link fitted\">i<span>Fitted</span></span></div></label><div class=\"sk-toggleable__content fitted\"><pre>LinearRegression()</pre></div> </div></div></div></div>"
      ],
      "text/plain": [
       "LinearRegression()"
      ]
     },
     "metadata": {},
     "output_type": "display_data"
    }
   ],
   "source": [
    "# [11] weight에 대한 outlier 제거 및 학습\n",
    "weight = Xoutlier['weight']\n",
    "outlier_w = Xoutlier[(weight < lower_w) | (weight > upper_w)]\n",
    "#print(outlier_w)\n",
    "\n",
    "Xoutlier_rw = Xoutlier.drop(index=outlier_w.index)\n",
    "Youtlier_rw = Youtlier.drop(index=outlier_w.index)\n",
    "#print(Xoutlier_rw.shape, Youtlier_rw.shape)\n",
    "\n",
    "model4 = LinearRegression()\n",
    "Model_Train(model4, Xoutlier_rw, Youtlier_rw)  # 성능이 좋아짐"
   ]
  },
  {
   "cell_type": "markdown",
   "metadata": {},
   "source": [
    "#### Polynomial Regression\n",
    "- 다항 회귀\n",
    "- 비선형 데이터 집합을 모델링 할 때 사용\n",
    "- 곡선의 다항식 선을 사용함\n",
    "- 과대적합이 나타나기 쉬움(굉장히 학습이 잘됨)\n",
    "- $y = \\beta_{0} + \\beta_{1} x_{1} + \\beta_{2} x_{2} + \\beta_{3} x_{1}^{2} + \\beta_{4} x_{2}^{2} ...+ \\epsilon$\n",
    "- X를 다항식으로 변경하여 모델링의 데이터로 사용함"
   ]
  },
  {
   "cell_type": "code",
   "execution_count": null,
   "metadata": {},
   "outputs": [],
   "source": [
    "# x에 대해서 변환\n",
    "# sklearn.preprocessing.PolynomialFeatures(degree=2, *,\n",
    "#               interaction_only=False, include_bias=True, order='C')"
   ]
  },
  {
   "cell_type": "code",
   "execution_count": null,
   "metadata": {},
   "outputs": [
    {
     "name": "stdout",
     "output_type": "stream",
     "text": [
      "1.0000 0.9988\n"
     ]
    },
    {
     "data": {
      "text/plain": [
       "LinearRegression()"
      ]
     },
     "metadata": {},
     "output_type": "display_data"
    }
   ],
   "source": [
    "# PolynomialFeatures 사용하여 2차항이 포함되도록 Xnormal 을 변환 (PolynomialFeatures에 poly2, 변환 결과에 Xpoly2 이름 부여)\n",
    "from sklearn.preprocessing import PolynomialFeatures\n",
    "poly2 = PolynomialFeatures(degree=2, include_bias=False) # interaction_only=True, include_bias=False, degree 생략하면 2\n",
    "#기본적으로 include_bias=False 를 많이 씀. 상수항은 굳이 넣을 필요 없음\n",
    "Xpoly2 = poly2.fit_transform(Xnormal)  # preprocessing 에는 fit, transform이 필요함\n",
    "model = LinearRegression()\n",
    "Model_Train(model, Xpoly2, Ynormal)"
   ]
  },
  {
   "cell_type": "code",
   "execution_count": null,
   "metadata": {},
   "outputs": [
    {
     "name": "stdout",
     "output_type": "stream",
     "text": [
      "(100, 2) (100, 5)\n"
     ]
    }
   ],
   "source": [
    "# [13] Xpoly2의 shape 확인\n",
    "print(Xnormal.shape, Xpoly2.shape)\n",
    "# 기존에는 2개인데 Xpoly2 는 6개가 됨"
   ]
  },
  {
   "cell_type": "code",
   "execution_count": null,
   "metadata": {},
   "outputs": [
    {
     "data": {
      "text/plain": [
       "Index(['height', 'weight'], dtype='object')"
      ]
     },
     "metadata": {},
     "output_type": "display_data"
    }
   ],
   "source": [
    "Xnormal.columns"
   ]
  },
  {
   "cell_type": "code",
   "execution_count": null,
   "metadata": {},
   "outputs": [
    {
     "data": {
      "text/plain": [
       "array(['height', 'weight', 'height^2', 'height weight', 'weight^2'],\n",
       "      dtype=object)"
      ]
     },
     "metadata": {},
     "output_type": "display_data"
    }
   ],
   "source": [
    "# poly2의 feature_names 확인\n",
    "poly2.get_feature_names_out()  # 1이 bias 상수항. False 하면 없어짐 (include_bias=False)\n",
    "# interaction_only=True 주면 3개로 줄어듬. 제곱항들이 빠진 것이기 때문."
   ]
  },
  {
   "cell_type": "code",
   "execution_count": null,
   "metadata": {},
   "outputs": [
    {
     "data": {
      "text/html": [
       "\n",
       "  <div id=\"df-b51d0a02-e6c0-4f1e-a841-78dcc2c1f674\">\n",
       "    <div class=\"colab-df-container\">\n",
       "      <div>\n",
       "<style scoped>\n",
       "    .dataframe tbody tr th:only-of-type {\n",
       "        vertical-align: middle;\n",
       "    }\n",
       "\n",
       "    .dataframe tbody tr th {\n",
       "        vertical-align: top;\n",
       "    }\n",
       "\n",
       "    .dataframe thead th {\n",
       "        text-align: right;\n",
       "    }\n",
       "</style>\n",
       "<table border=\"1\" class=\"dataframe\">\n",
       "  <thead>\n",
       "    <tr style=\"text-align: right;\">\n",
       "      <th></th>\n",
       "      <th>0</th>\n",
       "      <th>1</th>\n",
       "      <th>2</th>\n",
       "      <th>3</th>\n",
       "      <th>4</th>\n",
       "    </tr>\n",
       "  </thead>\n",
       "  <tbody>\n",
       "    <tr>\n",
       "      <th>0</th>\n",
       "      <td>1.000000</td>\n",
       "      <td>0.604015</td>\n",
       "      <td>0.999526</td>\n",
       "      <td>0.715850</td>\n",
       "      <td>0.602221</td>\n",
       "    </tr>\n",
       "    <tr>\n",
       "      <th>1</th>\n",
       "      <td>0.604015</td>\n",
       "      <td>1.000000</td>\n",
       "      <td>0.605356</td>\n",
       "      <td>0.987694</td>\n",
       "      <td>0.992038</td>\n",
       "    </tr>\n",
       "    <tr>\n",
       "      <th>2</th>\n",
       "      <td>0.999526</td>\n",
       "      <td>0.605356</td>\n",
       "      <td>1.000000</td>\n",
       "      <td>0.717912</td>\n",
       "      <td>0.605105</td>\n",
       "    </tr>\n",
       "    <tr>\n",
       "      <th>3</th>\n",
       "      <td>0.715850</td>\n",
       "      <td>0.987694</td>\n",
       "      <td>0.717912</td>\n",
       "      <td>1.000000</td>\n",
       "      <td>0.984456</td>\n",
       "    </tr>\n",
       "    <tr>\n",
       "      <th>4</th>\n",
       "      <td>0.602221</td>\n",
       "      <td>0.992038</td>\n",
       "      <td>0.605105</td>\n",
       "      <td>0.984456</td>\n",
       "      <td>1.000000</td>\n",
       "    </tr>\n",
       "  </tbody>\n",
       "</table>\n",
       "</div>\n",
       "      <button class=\"colab-df-convert\" onclick=\"convertToInteractive('df-b51d0a02-e6c0-4f1e-a841-78dcc2c1f674')\"\n",
       "              title=\"Convert this dataframe to an interactive table.\"\n",
       "              style=\"display:none;\">\n",
       "        \n",
       "  <svg xmlns=\"http://www.w3.org/2000/svg\" height=\"24px\"viewBox=\"0 0 24 24\"\n",
       "       width=\"24px\">\n",
       "    <path d=\"M0 0h24v24H0V0z\" fill=\"none\"/>\n",
       "    <path d=\"M18.56 5.44l.94 2.06.94-2.06 2.06-.94-2.06-.94-.94-2.06-.94 2.06-2.06.94zm-11 1L8.5 8.5l.94-2.06 2.06-.94-2.06-.94L8.5 2.5l-.94 2.06-2.06.94zm10 10l.94 2.06.94-2.06 2.06-.94-2.06-.94-.94-2.06-.94 2.06-2.06.94z\"/><path d=\"M17.41 7.96l-1.37-1.37c-.4-.4-.92-.59-1.43-.59-.52 0-1.04.2-1.43.59L10.3 9.45l-7.72 7.72c-.78.78-.78 2.05 0 2.83L4 21.41c.39.39.9.59 1.41.59.51 0 1.02-.2 1.41-.59l7.78-7.78 2.81-2.81c.8-.78.8-2.07 0-2.86zM5.41 20L4 18.59l7.72-7.72 1.47 1.35L5.41 20z\"/>\n",
       "  </svg>\n",
       "      </button>\n",
       "      \n",
       "  <style>\n",
       "    .colab-df-container {\n",
       "      display:flex;\n",
       "      flex-wrap:wrap;\n",
       "      gap: 12px;\n",
       "    }\n",
       "\n",
       "    .colab-df-convert {\n",
       "      background-color: #E8F0FE;\n",
       "      border: none;\n",
       "      border-radius: 50%;\n",
       "      cursor: pointer;\n",
       "      display: none;\n",
       "      fill: #1967D2;\n",
       "      height: 32px;\n",
       "      padding: 0 0 0 0;\n",
       "      width: 32px;\n",
       "    }\n",
       "\n",
       "    .colab-df-convert:hover {\n",
       "      background-color: #E2EBFA;\n",
       "      box-shadow: 0px 1px 2px rgba(60, 64, 67, 0.3), 0px 1px 3px 1px rgba(60, 64, 67, 0.15);\n",
       "      fill: #174EA6;\n",
       "    }\n",
       "\n",
       "    [theme=dark] .colab-df-convert {\n",
       "      background-color: #3B4455;\n",
       "      fill: #D2E3FC;\n",
       "    }\n",
       "\n",
       "    [theme=dark] .colab-df-convert:hover {\n",
       "      background-color: #434B5C;\n",
       "      box-shadow: 0px 1px 3px 1px rgba(0, 0, 0, 0.15);\n",
       "      filter: drop-shadow(0px 1px 2px rgba(0, 0, 0, 0.3));\n",
       "      fill: #FFFFFF;\n",
       "    }\n",
       "  </style>\n",
       "\n",
       "      <script>\n",
       "        const buttonEl =\n",
       "          document.querySelector('#df-b51d0a02-e6c0-4f1e-a841-78dcc2c1f674 button.colab-df-convert');\n",
       "        buttonEl.style.display =\n",
       "          google.colab.kernel.accessAllowed ? 'block' : 'none';\n",
       "\n",
       "        async function convertToInteractive(key) {\n",
       "          const element = document.querySelector('#df-b51d0a02-e6c0-4f1e-a841-78dcc2c1f674');\n",
       "          const dataTable =\n",
       "            await google.colab.kernel.invokeFunction('convertToInteractive',\n",
       "                                                     [key], {});\n",
       "          if (!dataTable) return;\n",
       "\n",
       "          const docLinkHtml = 'Like what you see? Visit the ' +\n",
       "            '<a target=\"_blank\" href=https://colab.research.google.com/notebooks/data_table.ipynb>data table notebook</a>'\n",
       "            + ' to learn more about interactive tables.';\n",
       "          element.innerHTML = '';\n",
       "          dataTable['output_type'] = 'display_data';\n",
       "          await google.colab.output.renderOutput(dataTable, element);\n",
       "          const docLink = document.createElement('div');\n",
       "          docLink.innerHTML = docLinkHtml;\n",
       "          element.appendChild(docLink);\n",
       "        }\n",
       "      </script>\n",
       "    </div>\n",
       "  </div>\n",
       "  "
      ],
      "text/plain": [
       "          0         1         2         3         4\n",
       "0  1.000000  0.604015  0.999526  0.715850  0.602221\n",
       "1  0.604015  1.000000  0.605356  0.987694  0.992038\n",
       "2  0.999526  0.605356  1.000000  0.717912  0.605105\n",
       "3  0.715850  0.987694  0.717912  1.000000  0.984456\n",
       "4  0.602221  0.992038  0.605105  0.984456  1.000000"
      ]
     },
     "metadata": {},
     "output_type": "display_data"
    }
   ],
   "source": [
    "# Xpoly2의 상관계수 확인\n",
    "# Xpoly2.corr()  # dataframe이 아니라서 그냥 볼 수 없음\n",
    "pd.DataFrame(Xpoly2).corr()"
   ]
  },
  {
   "cell_type": "code",
   "execution_count": null,
   "metadata": {},
   "outputs": [
    {
     "data": {
      "text/plain": [
       "array([[  163.1 ,    71.3 , 26601.61, 11629.03,  5083.69],\n",
       "       [  175.1 ,    85.5 , 30660.01, 14971.05,  7310.25],\n",
       "       [  174.  ,    78.  , 30276.  , 13572.  ,  6084.  ],\n",
       "       [  171.2 ,    73.1 , 29309.44, 12514.72,  5343.61],\n",
       "       [  160.2 ,    57.4 , 25664.04,  9195.48,  3294.76]])"
      ]
     },
     "metadata": {},
     "output_type": "display_data"
    }
   ],
   "source": [
    "Xpoly2[:5]  # 숫자들이 커짐. 그래서 normalize를 해서 단위를 줄여주는 것이 좀 더 좋은 편"
   ]
  },
  {
   "cell_type": "code",
   "execution_count": null,
   "metadata": {},
   "outputs": [
    {
     "name": "stdout",
     "output_type": "stream",
     "text": [
      "0.9989 0.9976\n"
     ]
    },
    {
     "data": {
      "text/plain": [
       "LinearRegression()"
      ]
     },
     "metadata": {},
     "output_type": "display_data"
    }
   ],
   "source": [
    "# PolynomialFeatures 사용하여 3차항이 포함되도록 Xnormal을 변환 함 (PolynomialFeatures에 poly3, 변환 결과에 Xpoly3 이름 부여)\n",
    "poly3 = PolynomialFeatures(degree=3, include_bias=False)  #interaction_only=True 는 안주는 것이 일반적\n",
    "Xpoly3 = poly3.fit_transform(Xnormal)  # preprocessing 에는 fit, transform이 필요함\n",
    "model = LinearRegression()\n",
    "Model_Train(model, Xpoly3, Ynormal)"
   ]
  },
  {
   "cell_type": "code",
   "execution_count": null,
   "metadata": {},
   "outputs": [
    {
     "name": "stdout",
     "output_type": "stream",
     "text": [
      "(100, 3)\n"
     ]
    }
   ],
   "source": [
    "# Xpoly3의 shape 확인\n",
    "print(Xpoly3.shape)"
   ]
  },
  {
   "cell_type": "code",
   "execution_count": null,
   "metadata": {},
   "outputs": [
    {
     "data": {
      "text/plain": [
       "array(['height', 'weight', 'height weight'], dtype=object)"
      ]
     },
     "metadata": {},
     "output_type": "display_data"
    }
   ],
   "source": [
    "# poly3의 shape 확인\n",
    "poly3.get_feature_names_out()"
   ]
  },
  {
   "cell_type": "code",
   "execution_count": null,
   "metadata": {},
   "outputs": [
    {
     "data": {
      "text/plain": [
       "array([[1.63100000e+02, 7.13000000e+01, 2.66016100e+04, 1.16290300e+04,\n",
       "        5.08369000e+03, 4.33872259e+06, 1.89669479e+06, 8.29149839e+05,\n",
       "        3.62467097e+05],\n",
       "       [1.75100000e+02, 8.55000000e+01, 3.06600100e+04, 1.49710500e+04,\n",
       "        7.31025000e+03, 5.36856775e+06, 2.62143085e+06, 1.28002477e+06,\n",
       "        6.25026375e+05],\n",
       "       [1.74000000e+02, 7.80000000e+01, 3.02760000e+04, 1.35720000e+04,\n",
       "        6.08400000e+03, 5.26802400e+06, 2.36152800e+06, 1.05861600e+06,\n",
       "        4.74552000e+05],\n",
       "       [1.71200000e+02, 7.31000000e+01, 2.93094400e+04, 1.25147200e+04,\n",
       "        5.34361000e+03, 5.01777613e+06, 2.14252006e+06, 9.14826032e+05,\n",
       "        3.90617891e+05],\n",
       "       [1.60200000e+02, 5.74000000e+01, 2.56640400e+04, 9.19548000e+03,\n",
       "        3.29476000e+03, 4.11137921e+06, 1.47311590e+06, 5.27820552e+05,\n",
       "        1.89119224e+05]])"
      ]
     },
     "metadata": {},
     "output_type": "display_data"
    }
   ],
   "source": [
    "Xpoly3[:5]  # 숫자들이 커서 지수형태로 표현됨. 그래서 이렇게 2차나 3차로 만든다면 숫자를 Scaling 하는 것이 필요함"
   ]
  },
  {
   "cell_type": "markdown",
   "metadata": {},
   "source": [
    "#### Ridge Regression\n",
    "- `sklearn.linear_model.Ridge(alpha=1.0, *, fit_intercept=True, normalize='deprecated', copy_X=True, max_iter=None, tol=0.001, solver='auto', positive=False, random_state=None)`\n",
    "- coef(회귀계수)가 작아지지만 0이 되지는 않음\n",
    "- alpha를 이용해서 규제 강도를 줄 수 있음 (Lasso 도 마찬가지)"
   ]
  },
  {
   "cell_type": "code",
   "execution_count": null,
   "metadata": {},
   "outputs": [],
   "source": [
    "# alpha=0 : 규제를 주지 않음\n",
    "# alpha 값이 크다는 것은 규제를 크게 주겠다는 것(작은 것은 작게 주겟다는 것)을 의미 => (규제가 크면)coef_ 값들이 작아짐"
   ]
  },
  {
   "cell_type": "code",
   "execution_count": null,
   "metadata": {},
   "outputs": [
    {
     "name": "stdout",
     "output_type": "stream",
     "text": [
      "alpha= 0.0000  1.0000 1.0000\n",
      "alpha= 0.0010  0.9994 0.9962\n",
      "alpha= 0.1000  0.9874 0.9499\n",
      "alpha= 1.0000  0.9480 0.9279\n",
      "alpha=10.0000  0.6938 0.6471\n"
     ]
    }
   ],
   "source": [
    "# PolynomialFeatures degree=3과 Ridge를 사용한 모델링\n",
    "from sklearn.linear_model import Ridge\n",
    "\n",
    "poly3 = PolynomialFeatures(degree=3, include_bias=False)  #interaction_only=True 는 안주는 것이 일반적\n",
    "Xpoly3 = poly3.fit_transform(Xnormal)  # preprocessing 에는 fit, transform이 필요함\n",
    "ridge_coef = pd.DataFrame()\n",
    "\n",
    "for a in [0, 0.001, 0.1, 1, 10]:\n",
    "  print(f'alpha={a:7.4f}', end='  ')\n",
    "  model = Ridge(alpha=a, random_state=0)\n",
    "  Model_Train(model, Xpoly3, Ynormal, scale=True)  # 규제를 세게 준다고 해서 무조건 성능이 떨어지는 것은 아님.\n",
    "  # Warning이 생김. 3차식으로 바뀌었으니 3승하는 것. 큰 값이 되기 때문에 굉장히 큰 값이 됨. Ridge 돌리면서 그런 값들 때문에 문제가 될 수 있어서\n",
    "  # normalize 필요함  -> Model_Train 함수 약간 수정해보자 (Scale=True) -> Warning 없어짐.\n",
    "  ridge_coef[f'alpha_{a}'] = model.coef_"
   ]
  },
  {
   "cell_type": "code",
   "execution_count": null,
   "metadata": {},
   "outputs": [
    {
     "name": "stdout",
     "output_type": "stream",
     "text": [
      "alpha= 0.0000  1.0000 1.0000\n",
      "alpha= 0.0010  0.9999 0.9977\n",
      "alpha= 0.1000  0.9890 0.9754\n",
      "alpha= 1.0000  0.9108 0.9137\n",
      "alpha=10.0000  0.5942 0.5457\n"
     ]
    }
   ],
   "source": [
    "# scaling 먼저 실행. 성능 비교\n",
    "# X -> Xsclaed -> Xploy -> fit()\n",
    "from sklearn.linear_model import Ridge\n",
    "\n",
    "Xscaled = MinMaxScaler().fit_transform(Xnormal)\n",
    "poly3 = PolynomialFeatures(degree=3, include_bias=False)  #interaction_only=True 는 안주는 것이 일반적\n",
    "Xpoly3 = poly3.fit_transform(Xscaled)  # preprocessing 에는 fit, transform이 필요함\n",
    "ridge_coef = pd.DataFrame()\n",
    "for a in [0, 0.001, 0.1, 1, 10]:\n",
    "  print(f'alpha={a:7.4f}', end='  ')\n",
    "  model = Ridge(alpha=a, random_state=0)\n",
    "  Model_Train(model, Xpoly3, Ynormal)  # 규제를 세게 준다고 해서 무조건 성능이 떨어지는 것은 아님.\n",
    "  # Warning이 생김. 3차식으로 바뀌었으니 3승하는 것. 큰 값이 되기 때문에 굉장히 큰 값이 됨. Ridge 돌리면서 그런 값들 때문에 문제가 될 수 있어서\n",
    "  # normalize 필요함  -> Model_Train 함수 약간 수정해보자 (Scale=True) -> Warning 없어짐.\n",
    "  ridge_coef[f'alpha_{a}'] = model.coef_"
   ]
  },
  {
   "cell_type": "code",
   "execution_count": null,
   "metadata": {},
   "outputs": [
    {
     "data": {
      "text/html": [
       "\n",
       "  <div id=\"df-b536fd9f-16b8-4fca-bcfd-9f1456f2bc81\">\n",
       "    <div class=\"colab-df-container\">\n",
       "      <div>\n",
       "<style scoped>\n",
       "    .dataframe tbody tr th:only-of-type {\n",
       "        vertical-align: middle;\n",
       "    }\n",
       "\n",
       "    .dataframe tbody tr th {\n",
       "        vertical-align: top;\n",
       "    }\n",
       "\n",
       "    .dataframe thead th {\n",
       "        text-align: right;\n",
       "    }\n",
       "</style>\n",
       "<table border=\"1\" class=\"dataframe\">\n",
       "  <thead>\n",
       "    <tr style=\"text-align: right;\">\n",
       "      <th></th>\n",
       "      <th>alpha_0</th>\n",
       "      <th>alpha_0.001</th>\n",
       "      <th>alpha_0.1</th>\n",
       "      <th>alpha_1</th>\n",
       "      <th>alpha_10</th>\n",
       "    </tr>\n",
       "  </thead>\n",
       "  <tbody>\n",
       "    <tr>\n",
       "      <th>0</th>\n",
       "      <td>-73.109478</td>\n",
       "      <td>-14.770202</td>\n",
       "      <td>-4.350133</td>\n",
       "      <td>-3.449517</td>\n",
       "      <td>-0.663046</td>\n",
       "    </tr>\n",
       "    <tr>\n",
       "      <th>1</th>\n",
       "      <td>131.354160</td>\n",
       "      <td>31.716423</td>\n",
       "      <td>11.090243</td>\n",
       "      <td>5.414167</td>\n",
       "      <td>2.308375</td>\n",
       "    </tr>\n",
       "    <tr>\n",
       "      <th>2</th>\n",
       "      <td>141.656039</td>\n",
       "      <td>-2.088447</td>\n",
       "      <td>-4.659543</td>\n",
       "      <td>-3.527552</td>\n",
       "      <td>-0.664110</td>\n",
       "    </tr>\n",
       "    <tr>\n",
       "      <th>3</th>\n",
       "      <td>-209.987752</td>\n",
       "      <td>1.363581</td>\n",
       "      <td>6.050911</td>\n",
       "      <td>3.443241</td>\n",
       "      <td>1.758562</td>\n",
       "    </tr>\n",
       "    <tr>\n",
       "      <th>4</th>\n",
       "      <td>0.799485</td>\n",
       "      <td>11.453945</td>\n",
       "      <td>4.517197</td>\n",
       "      <td>4.032551</td>\n",
       "      <td>2.143902</td>\n",
       "    </tr>\n",
       "    <tr>\n",
       "      <th>5</th>\n",
       "      <td>-69.080548</td>\n",
       "      <td>10.829774</td>\n",
       "      <td>-4.981092</td>\n",
       "      <td>-3.595744</td>\n",
       "      <td>-0.662633</td>\n",
       "    </tr>\n",
       "    <tr>\n",
       "      <th>6</th>\n",
       "      <td>94.806642</td>\n",
       "      <td>-14.604358</td>\n",
       "      <td>2.300521</td>\n",
       "      <td>1.985839</td>\n",
       "      <td>1.335582</td>\n",
       "    </tr>\n",
       "    <tr>\n",
       "      <th>7</th>\n",
       "      <td>-1.086255</td>\n",
       "      <td>-11.450236</td>\n",
       "      <td>1.205406</td>\n",
       "      <td>3.002338</td>\n",
       "      <td>1.903592</td>\n",
       "    </tr>\n",
       "    <tr>\n",
       "      <th>8</th>\n",
       "      <td>0.109442</td>\n",
       "      <td>-1.314782</td>\n",
       "      <td>-1.817746</td>\n",
       "      <td>2.610686</td>\n",
       "      <td>1.922268</td>\n",
       "    </tr>\n",
       "  </tbody>\n",
       "</table>\n",
       "</div>\n",
       "      <button class=\"colab-df-convert\" onclick=\"convertToInteractive('df-b536fd9f-16b8-4fca-bcfd-9f1456f2bc81')\"\n",
       "              title=\"Convert this dataframe to an interactive table.\"\n",
       "              style=\"display:none;\">\n",
       "        \n",
       "  <svg xmlns=\"http://www.w3.org/2000/svg\" height=\"24px\"viewBox=\"0 0 24 24\"\n",
       "       width=\"24px\">\n",
       "    <path d=\"M0 0h24v24H0V0z\" fill=\"none\"/>\n",
       "    <path d=\"M18.56 5.44l.94 2.06.94-2.06 2.06-.94-2.06-.94-.94-2.06-.94 2.06-2.06.94zm-11 1L8.5 8.5l.94-2.06 2.06-.94-2.06-.94L8.5 2.5l-.94 2.06-2.06.94zm10 10l.94 2.06.94-2.06 2.06-.94-2.06-.94-.94-2.06-.94 2.06-2.06.94z\"/><path d=\"M17.41 7.96l-1.37-1.37c-.4-.4-.92-.59-1.43-.59-.52 0-1.04.2-1.43.59L10.3 9.45l-7.72 7.72c-.78.78-.78 2.05 0 2.83L4 21.41c.39.39.9.59 1.41.59.51 0 1.02-.2 1.41-.59l7.78-7.78 2.81-2.81c.8-.78.8-2.07 0-2.86zM5.41 20L4 18.59l7.72-7.72 1.47 1.35L5.41 20z\"/>\n",
       "  </svg>\n",
       "      </button>\n",
       "      \n",
       "  <style>\n",
       "    .colab-df-container {\n",
       "      display:flex;\n",
       "      flex-wrap:wrap;\n",
       "      gap: 12px;\n",
       "    }\n",
       "\n",
       "    .colab-df-convert {\n",
       "      background-color: #E8F0FE;\n",
       "      border: none;\n",
       "      border-radius: 50%;\n",
       "      cursor: pointer;\n",
       "      display: none;\n",
       "      fill: #1967D2;\n",
       "      height: 32px;\n",
       "      padding: 0 0 0 0;\n",
       "      width: 32px;\n",
       "    }\n",
       "\n",
       "    .colab-df-convert:hover {\n",
       "      background-color: #E2EBFA;\n",
       "      box-shadow: 0px 1px 2px rgba(60, 64, 67, 0.3), 0px 1px 3px 1px rgba(60, 64, 67, 0.15);\n",
       "      fill: #174EA6;\n",
       "    }\n",
       "\n",
       "    [theme=dark] .colab-df-convert {\n",
       "      background-color: #3B4455;\n",
       "      fill: #D2E3FC;\n",
       "    }\n",
       "\n",
       "    [theme=dark] .colab-df-convert:hover {\n",
       "      background-color: #434B5C;\n",
       "      box-shadow: 0px 1px 3px 1px rgba(0, 0, 0, 0.15);\n",
       "      filter: drop-shadow(0px 1px 2px rgba(0, 0, 0, 0.3));\n",
       "      fill: #FFFFFF;\n",
       "    }\n",
       "  </style>\n",
       "\n",
       "      <script>\n",
       "        const buttonEl =\n",
       "          document.querySelector('#df-b536fd9f-16b8-4fca-bcfd-9f1456f2bc81 button.colab-df-convert');\n",
       "        buttonEl.style.display =\n",
       "          google.colab.kernel.accessAllowed ? 'block' : 'none';\n",
       "\n",
       "        async function convertToInteractive(key) {\n",
       "          const element = document.querySelector('#df-b536fd9f-16b8-4fca-bcfd-9f1456f2bc81');\n",
       "          const dataTable =\n",
       "            await google.colab.kernel.invokeFunction('convertToInteractive',\n",
       "                                                     [key], {});\n",
       "          if (!dataTable) return;\n",
       "\n",
       "          const docLinkHtml = 'Like what you see? Visit the ' +\n",
       "            '<a target=\"_blank\" href=https://colab.research.google.com/notebooks/data_table.ipynb>data table notebook</a>'\n",
       "            + ' to learn more about interactive tables.';\n",
       "          element.innerHTML = '';\n",
       "          dataTable['output_type'] = 'display_data';\n",
       "          await google.colab.output.renderOutput(dataTable, element);\n",
       "          const docLink = document.createElement('div');\n",
       "          docLink.innerHTML = docLinkHtml;\n",
       "          element.appendChild(docLink);\n",
       "        }\n",
       "      </script>\n",
       "    </div>\n",
       "  </div>\n",
       "  "
      ],
      "text/plain": [
       "      alpha_0  alpha_0.001  alpha_0.1   alpha_1  alpha_10\n",
       "0  -73.109478   -14.770202  -4.350133 -3.449517 -0.663046\n",
       "1  131.354160    31.716423  11.090243  5.414167  2.308375\n",
       "2  141.656039    -2.088447  -4.659543 -3.527552 -0.664110\n",
       "3 -209.987752     1.363581   6.050911  3.443241  1.758562\n",
       "4    0.799485    11.453945   4.517197  4.032551  2.143902\n",
       "5  -69.080548    10.829774  -4.981092 -3.595744 -0.662633\n",
       "6   94.806642   -14.604358   2.300521  1.985839  1.335582\n",
       "7   -1.086255   -11.450236   1.205406  3.002338  1.903592\n",
       "8    0.109442    -1.314782  -1.817746  2.610686  1.922268"
      ]
     },
     "metadata": {},
     "output_type": "display_data"
    }
   ],
   "source": [
    "# ridge_coef 출력하여 회귀계수 확인\n",
    "ridge_coef  # 보편적으로 회귀계수들이 줄어듦. 답을 찾으면서 줄어듦"
   ]
  },
  {
   "cell_type": "code",
   "execution_count": null,
   "metadata": {},
   "outputs": [
    {
     "data": {
      "text/plain": [
       "alpha_0        721.989800\n",
       "alpha_0.001     99.591749\n",
       "alpha_0.1       40.972792\n",
       "alpha_1         31.061635\n",
       "alpha_10        13.362070\n",
       "dtype: float64"
      ]
     },
     "metadata": {},
     "output_type": "display_data"
    }
   ],
   "source": [
    "ridge_coef.abs().sum()  # Ridge에서는 0으로 되는 것은 보이지 않음."
   ]
  },
  {
   "cell_type": "markdown",
   "metadata": {},
   "source": [
    "#### Lasso Regression\n",
    "- `sklearn.linear_model.Lasso(alpha=1.0, *, fit_intercept=True, normalize='deprecated', precompute=False, copy_X=True, max_iter=1000, tol=0.0001, warm_start=False, positive=False, random_state=None, selection='cyclic')`\n",
    "- 규제강도가 커지면 회귀계수가 작아지고 0도 될 수 있다"
   ]
  },
  {
   "cell_type": "code",
   "execution_count": null,
   "metadata": {},
   "outputs": [
    {
     "data": {
      "text/plain": [
       "array([[0.00000000e+00],\n",
       "       [6.56126245e-17],\n",
       "       [9.60634435e-13],\n",
       "       [9.96045837e-09],\n",
       "       [9.99640045e-05],\n",
       "       [1.00000000e+00]])"
      ]
     },
     "metadata": {},
     "output_type": "display_data"
    }
   ],
   "source": [
    "# 권장 순서\n",
    "# X -> Xsclaed -> Xploy -> fit()\n",
    "tX = pd.DataFrame({'A' : [1, 10, 100, 1000, 10000, 100000]})\n",
    "tS = MinMaxScaler().fit_transform(tX)  # ndarray임\n",
    "t4 = tS ** 4\n",
    "t4  # 그래서 t4['A'] 가 안됨"
   ]
  },
  {
   "cell_type": "code",
   "execution_count": null,
   "metadata": {},
   "outputs": [
    {
     "data": {
      "text/plain": [
       "0                      1\n",
       "1                  10000\n",
       "2              100000000\n",
       "3          1000000000000\n",
       "4      10000000000000000\n",
       "5    7766279631452241920\n",
       "Name: A, dtype: int64"
      ]
     },
     "metadata": {},
     "output_type": "display_data"
    }
   ],
   "source": [
    "# 비권장 순서\n",
    "# X -> Xploy -> Model_Train에 넘겨서 Xscaled -> fit()(학습)\n",
    "# 위의 순서는 비권장 순서임.\n",
    "tX = pd.DataFrame({'A' : [1, 10, 100, 1000, 10000, 100000]})\n",
    "t4 = tX ** 4\n",
    "t4['A']  # 생각했던 것과 다른 결과가 나옴. 맨 마지막에 엉뚱한 값이 나옴"
   ]
  },
  {
   "cell_type": "code",
   "execution_count": null,
   "metadata": {},
   "outputs": [
    {
     "data": {
      "text/plain": [
       "float"
      ]
     },
     "metadata": {},
     "output_type": "display_data"
    }
   ],
   "source": [
    "A = 1e20  # float 타입\n",
    "type(A)  # float는 표현할 수 있는데 int는 표현하지 못한다는 것\n",
    "# 아주 크거나 작은 숫자가 있다면 float 타입이 표현범위가 더 넓으니 사용하는 것이 유리함\n",
    "# int 보다 float가 표현범위가 더 넓음을 기억."
   ]
  },
  {
   "cell_type": "code",
   "execution_count": null,
   "metadata": {},
   "outputs": [
    {
     "data": {
      "text/plain": [
       "(-9223372036854775808, 9223372036854775807)"
      ]
     },
     "metadata": {},
     "output_type": "display_data"
    }
   ],
   "source": [
    "# int64로 표현할 수 있는 범위가 있음\n",
    "-2**63, +2**63-1  # 왜 63승인가? 부호를 표현해야 하기 때문에 한 개의 비트를 빼는 것. 0이 양수로 취급되기 때문에 -1 한 것(양수에서)\n",
    "# 아래 결과값이 최대의 표현 범위 (-9223372036854775808, 9223372036854775807)  총 19자리 수.\n",
    "# 위에는 0이 20개에 앞에 1까지 있어야 함. 그래서 int64라는 type을 가지고는 원하는 숫자를 표현할 수 없음"
   ]
  },
  {
   "cell_type": "code",
   "execution_count": null,
   "metadata": {},
   "outputs": [
    {
     "name": "stdout",
     "output_type": "stream",
     "text": [
      "alpha= 0.0001  0.9979 0.9938\n",
      "alpha= 0.0010  0.9964 0.9851\n",
      "alpha= 0.1000  0.9246 0.9180\n",
      "alpha= 0.2000  0.7656 0.6763\n",
      "alpha= 0.3000  0.7096 0.6361\n"
     ]
    }
   ],
   "source": [
    "# degree=3과 Lasso를 사용한 모델링\n",
    "from sklearn.linear_model import Lasso\n",
    "\n",
    "poly3 = PolynomialFeatures(degree=3, include_bias=False)  #interaction_only=True 는 안주는 것이 일반적\n",
    "Xpoly3 = poly3.fit_transform(Xnormal)  # preprocessing 에는 fit, transform이 필요함\n",
    "lasso_coef = pd.DataFrame()\n",
    "for a in [0.0001, 0.001, 0.1, 0.2, 0.3]:\n",
    "  print(f'alpha={a:7.4f}', end='  ')\n",
    "  model = Lasso(alpha=a, max_iter=1000, tol=0.001, random_state=0)\n",
    "  Model_Train(model, Xpoly3, Ynormal, scale=True)  # 규제를 세게 준다고 해서 무조건 성능이 떨어지는 것은 아님.\n",
    "  # Warning이 생김. 3차식으로 바뀌었으니 3승하는 것. 큰 값이 되기 때문에 굉장히 큰 값이 됨. Ridge 돌리면서 그런 값들 때문에 문제가 될 수 있어서\n",
    "  # normalize 필요함  -> Model_Train 함수 약간 수정해보자 (Scale=True) -> Warning 없어짐.\n",
    "  lasso_coef[f'alpha_{a}'] = model.coef_\n",
    "  # warning이 나옴 ->  max_iter=1000, tol=0.001(tol 값과 max_iter를 키우면 해결\n",
    "  # 가장 중요한 것은 alpha 값"
   ]
  },
  {
   "cell_type": "code",
   "execution_count": null,
   "metadata": {},
   "outputs": [
    {
     "name": "stdout",
     "output_type": "stream",
     "text": [
      "alpha= 0.0001  0.9998 0.9985\n",
      "alpha= 0.0010  0.9994 0.9986\n",
      "alpha= 0.1000  0.9253 0.9262\n",
      "alpha= 0.2000  0.7656 0.6763\n",
      "alpha= 0.3000  0.7096 0.6361\n"
     ]
    }
   ],
   "source": [
    "# scaling 먼저 하고 학습 실행. 성능이 조금 더 좋아짐\n",
    "# X -> Xsclaed -> Xploy -> fit()\n",
    "from sklearn.linear_model import Lasso\n",
    "Xscaled = MinMaxScaler().fit_transform(Xnormal)\n",
    "poly3 = PolynomialFeatures(degree=3, include_bias=False)  #interaction_only=True 는 안주는 것이 일반적\n",
    "Xpoly3 = poly3.fit_transform(Xscaled)  # preprocessing 에는 fit, transform이 필요함\n",
    "lasso_coef = pd.DataFrame()\n",
    "for a in [0.0001, 0.001, 0.1, 0.2, 0.3]:\n",
    "  print(f'alpha={a:7.4f}', end='  ')\n",
    "  model = Lasso(alpha=a, max_iter=1000, tol=0.001, random_state=0)\n",
    "  Model_Train(model, Xpoly3, Ynormal)  # 규제를 세게 준다고 해서 무조건 성능이 떨어지는 것은 아님.\n",
    "  # Warning이 생김. 3차식으로 바뀌었으니 3승하는 것. 큰 값이 되기 때문에 굉장히 큰 값이 됨. Ridge 돌리면서 그런 값들 때문에 문제가 될 수 있어서\n",
    "  # normalize 필요함  -> Model_Train 함수 약간 수정해보자 (Scale=True) -> Warning 없어짐.\n",
    "  lasso_coef[f'alpha_{a}'] = model.coef_\n",
    "  # warning이 나옴 ->  max_iter=1000, tol=0.001(tol 값과 max_iter를 키우면 해결\n",
    "  # 가장 중요한 것은 alpha 값"
   ]
  },
  {
   "cell_type": "code",
   "execution_count": null,
   "metadata": {},
   "outputs": [
    {
     "data": {
      "text/html": [
       "\n",
       "  <div id=\"df-4c9ce66b-35d6-44dd-b759-b2c8917cba16\">\n",
       "    <div class=\"colab-df-container\">\n",
       "      <div>\n",
       "<style scoped>\n",
       "    .dataframe tbody tr th:only-of-type {\n",
       "        vertical-align: middle;\n",
       "    }\n",
       "\n",
       "    .dataframe tbody tr th {\n",
       "        vertical-align: top;\n",
       "    }\n",
       "\n",
       "    .dataframe thead th {\n",
       "        text-align: right;\n",
       "    }\n",
       "</style>\n",
       "<table border=\"1\" class=\"dataframe\">\n",
       "  <thead>\n",
       "    <tr style=\"text-align: right;\">\n",
       "      <th></th>\n",
       "      <th>alpha_0.0001</th>\n",
       "      <th>alpha_0.001</th>\n",
       "      <th>alpha_0.1</th>\n",
       "      <th>alpha_0.2</th>\n",
       "      <th>alpha_0.3</th>\n",
       "    </tr>\n",
       "  </thead>\n",
       "  <tbody>\n",
       "    <tr>\n",
       "      <th>0</th>\n",
       "      <td>4.805105</td>\n",
       "      <td>-0.000000</td>\n",
       "      <td>-0.000000</td>\n",
       "      <td>-0.000000</td>\n",
       "      <td>-0.000000</td>\n",
       "    </tr>\n",
       "    <tr>\n",
       "      <th>1</th>\n",
       "      <td>33.607995</td>\n",
       "      <td>26.482969</td>\n",
       "      <td>17.107670</td>\n",
       "      <td>12.632765</td>\n",
       "      <td>10.690377</td>\n",
       "    </tr>\n",
       "    <tr>\n",
       "      <th>2</th>\n",
       "      <td>-17.123098</td>\n",
       "      <td>-11.091911</td>\n",
       "      <td>-0.000000</td>\n",
       "      <td>-0.000000</td>\n",
       "      <td>-0.000000</td>\n",
       "    </tr>\n",
       "    <tr>\n",
       "      <th>3</th>\n",
       "      <td>-2.296627</td>\n",
       "      <td>-0.160488</td>\n",
       "      <td>0.000000</td>\n",
       "      <td>0.000000</td>\n",
       "      <td>0.000000</td>\n",
       "    </tr>\n",
       "    <tr>\n",
       "      <th>4</th>\n",
       "      <td>0.000000</td>\n",
       "      <td>-0.000000</td>\n",
       "      <td>0.000000</td>\n",
       "      <td>0.000000</td>\n",
       "      <td>0.000000</td>\n",
       "    </tr>\n",
       "    <tr>\n",
       "      <th>5</th>\n",
       "      <td>4.748478</td>\n",
       "      <td>-0.000000</td>\n",
       "      <td>-5.281175</td>\n",
       "      <td>-0.000000</td>\n",
       "      <td>-0.000000</td>\n",
       "    </tr>\n",
       "    <tr>\n",
       "      <th>6</th>\n",
       "      <td>-10.289303</td>\n",
       "      <td>-1.800514</td>\n",
       "      <td>0.000000</td>\n",
       "      <td>0.000000</td>\n",
       "      <td>0.000000</td>\n",
       "    </tr>\n",
       "    <tr>\n",
       "      <th>7</th>\n",
       "      <td>-1.541214</td>\n",
       "      <td>-1.008017</td>\n",
       "      <td>0.000000</td>\n",
       "      <td>0.000000</td>\n",
       "      <td>0.000000</td>\n",
       "    </tr>\n",
       "    <tr>\n",
       "      <th>8</th>\n",
       "      <td>-0.905310</td>\n",
       "      <td>-2.147514</td>\n",
       "      <td>0.000000</td>\n",
       "      <td>0.000000</td>\n",
       "      <td>0.000000</td>\n",
       "    </tr>\n",
       "  </tbody>\n",
       "</table>\n",
       "</div>\n",
       "      <button class=\"colab-df-convert\" onclick=\"convertToInteractive('df-4c9ce66b-35d6-44dd-b759-b2c8917cba16')\"\n",
       "              title=\"Convert this dataframe to an interactive table.\"\n",
       "              style=\"display:none;\">\n",
       "        \n",
       "  <svg xmlns=\"http://www.w3.org/2000/svg\" height=\"24px\"viewBox=\"0 0 24 24\"\n",
       "       width=\"24px\">\n",
       "    <path d=\"M0 0h24v24H0V0z\" fill=\"none\"/>\n",
       "    <path d=\"M18.56 5.44l.94 2.06.94-2.06 2.06-.94-2.06-.94-.94-2.06-.94 2.06-2.06.94zm-11 1L8.5 8.5l.94-2.06 2.06-.94-2.06-.94L8.5 2.5l-.94 2.06-2.06.94zm10 10l.94 2.06.94-2.06 2.06-.94-2.06-.94-.94-2.06-.94 2.06-2.06.94z\"/><path d=\"M17.41 7.96l-1.37-1.37c-.4-.4-.92-.59-1.43-.59-.52 0-1.04.2-1.43.59L10.3 9.45l-7.72 7.72c-.78.78-.78 2.05 0 2.83L4 21.41c.39.39.9.59 1.41.59.51 0 1.02-.2 1.41-.59l7.78-7.78 2.81-2.81c.8-.78.8-2.07 0-2.86zM5.41 20L4 18.59l7.72-7.72 1.47 1.35L5.41 20z\"/>\n",
       "  </svg>\n",
       "      </button>\n",
       "      \n",
       "  <style>\n",
       "    .colab-df-container {\n",
       "      display:flex;\n",
       "      flex-wrap:wrap;\n",
       "      gap: 12px;\n",
       "    }\n",
       "\n",
       "    .colab-df-convert {\n",
       "      background-color: #E8F0FE;\n",
       "      border: none;\n",
       "      border-radius: 50%;\n",
       "      cursor: pointer;\n",
       "      display: none;\n",
       "      fill: #1967D2;\n",
       "      height: 32px;\n",
       "      padding: 0 0 0 0;\n",
       "      width: 32px;\n",
       "    }\n",
       "\n",
       "    .colab-df-convert:hover {\n",
       "      background-color: #E2EBFA;\n",
       "      box-shadow: 0px 1px 2px rgba(60, 64, 67, 0.3), 0px 1px 3px 1px rgba(60, 64, 67, 0.15);\n",
       "      fill: #174EA6;\n",
       "    }\n",
       "\n",
       "    [theme=dark] .colab-df-convert {\n",
       "      background-color: #3B4455;\n",
       "      fill: #D2E3FC;\n",
       "    }\n",
       "\n",
       "    [theme=dark] .colab-df-convert:hover {\n",
       "      background-color: #434B5C;\n",
       "      box-shadow: 0px 1px 3px 1px rgba(0, 0, 0, 0.15);\n",
       "      filter: drop-shadow(0px 1px 2px rgba(0, 0, 0, 0.3));\n",
       "      fill: #FFFFFF;\n",
       "    }\n",
       "  </style>\n",
       "\n",
       "      <script>\n",
       "        const buttonEl =\n",
       "          document.querySelector('#df-4c9ce66b-35d6-44dd-b759-b2c8917cba16 button.colab-df-convert');\n",
       "        buttonEl.style.display =\n",
       "          google.colab.kernel.accessAllowed ? 'block' : 'none';\n",
       "\n",
       "        async function convertToInteractive(key) {\n",
       "          const element = document.querySelector('#df-4c9ce66b-35d6-44dd-b759-b2c8917cba16');\n",
       "          const dataTable =\n",
       "            await google.colab.kernel.invokeFunction('convertToInteractive',\n",
       "                                                     [key], {});\n",
       "          if (!dataTable) return;\n",
       "\n",
       "          const docLinkHtml = 'Like what you see? Visit the ' +\n",
       "            '<a target=\"_blank\" href=https://colab.research.google.com/notebooks/data_table.ipynb>data table notebook</a>'\n",
       "            + ' to learn more about interactive tables.';\n",
       "          element.innerHTML = '';\n",
       "          dataTable['output_type'] = 'display_data';\n",
       "          await google.colab.output.renderOutput(dataTable, element);\n",
       "          const docLink = document.createElement('div');\n",
       "          docLink.innerHTML = docLinkHtml;\n",
       "          element.appendChild(docLink);\n",
       "        }\n",
       "      </script>\n",
       "    </div>\n",
       "  </div>\n",
       "  "
      ],
      "text/plain": [
       "   alpha_0.0001  alpha_0.001  alpha_0.1  alpha_0.2  alpha_0.3\n",
       "0      4.805105    -0.000000  -0.000000  -0.000000  -0.000000\n",
       "1     33.607995    26.482969  17.107670  12.632765  10.690377\n",
       "2    -17.123098   -11.091911  -0.000000  -0.000000  -0.000000\n",
       "3     -2.296627    -0.160488   0.000000   0.000000   0.000000\n",
       "4      0.000000    -0.000000   0.000000   0.000000   0.000000\n",
       "5      4.748478    -0.000000  -5.281175  -0.000000  -0.000000\n",
       "6    -10.289303    -1.800514   0.000000   0.000000   0.000000\n",
       "7     -1.541214    -1.008017   0.000000   0.000000   0.000000\n",
       "8     -0.905310    -2.147514   0.000000   0.000000   0.000000"
      ]
     },
     "metadata": {},
     "output_type": "display_data"
    }
   ],
   "source": [
    "# lasso_coef 출력하여 회귀계수 확인\n",
    "lasso_coef   # 0이 존재함"
   ]
  },
  {
   "cell_type": "code",
   "execution_count": null,
   "metadata": {},
   "outputs": [],
   "source": [
    "# Ridge, Lasso는 overfitting 되는 데이터에 주로 사용하여 overfitting 을 해결하는 용도로 사용한다\n",
    "# Ridge, Lasso는 feature 들이 굉장히 많을 때. 그 feature들의 영향력을 줄일 때 사용. Lasso는 어떤 것에 대해 영향력을 아예 갖지 못하게 할 수도 있음\n",
    "# scale=True. 정규화 하는 것 잊지말고 alpha 값을 잘 선택해야 함"
   ]
  },
  {
   "cell_type": "markdown",
   "metadata": {},
   "source": [
    "#### DecisionTree\n",
    "- 분류분석(DecisionTreeClassifier)와 회귀분석 모델명이 다름\n",
    "- `sklearn.tree.DecisionTreeRegressor(*, criterion='squared_error', splitter='best', max_depth=None, min_samples_split=2, min_samples_leaf=1, min_weight_fraction_leaf=0.0, max_features=None, random_state=None, max_leaf_nodes=None, min_impurity_decrease=0.0, ccp_alpha=0.0)`"
   ]
  },
  {
   "cell_type": "code",
   "execution_count": null,
   "metadata": {},
   "outputs": [
    {
     "name": "stdout",
     "output_type": "stream",
     "text": [
      "1.0000 0.7371\n"
     ]
    },
    {
     "data": {
      "text/plain": [
       "DecisionTreeRegressor(random_state=0)"
      ]
     },
     "metadata": {},
     "output_type": "display_data"
    }
   ],
   "source": [
    "# Xnormal, Ynormal 데이터에 DecisionTreeRegressor 사용\n",
    "from sklearn.tree import DecisionTreeRegressor\n",
    "\n",
    "model = DecisionTreeRegressor(random_state=0)\n",
    "Model_Train(model, Xnormal, Ynormal)  # 1.0000 0.7371 과대적합이 나타남"
   ]
  },
  {
   "cell_type": "code",
   "execution_count": null,
   "metadata": {},
   "outputs": [
    {
     "data": {
      "text/plain": [
       "(100, 2)"
      ]
     },
     "metadata": {},
     "output_type": "display_data"
    }
   ],
   "source": [
    "Xnormal.shape"
   ]
  },
  {
   "cell_type": "code",
   "execution_count": null,
   "metadata": {},
   "outputs": [],
   "source": [
    "#  train  test\n",
    "# 1.0000 0.7371  => overfitting, 과대적합. train은 다 맞췄는데 test는 많이 못 맞춘 것. 데이터가 적기 때문(100개)\n",
    "# 과대적합 해결방법 => Ridge, Lasso, 앙상블   특히, Ridge나 Lasso는 과대적합이면서 x변수가 여러개일 때. 그리고 앙상블은 데이터가 많이 필요함\n",
    "#                      앙상블은 내부적으로 여러개의 estimator를 만들기 때문.\n",
    "#                      데이터의 크기를 늘리는 것(더 좋은 방법), 함수의 parameter(max_depth, min_samples_split)에 값을 변경"
   ]
  },
  {
   "cell_type": "code",
   "execution_count": null,
   "metadata": {},
   "outputs": [
    {
     "name": "stdout",
     "output_type": "stream",
     "text": [
      "0.9999 0.7974\n"
     ]
    },
    {
     "data": {
      "text/plain": [
       "DecisionTreeRegressor(max_depth=8, random_state=0)"
      ]
     },
     "metadata": {},
     "output_type": "display_data"
    }
   ],
   "source": [
    "from sklearn.tree import DecisionTreeRegressor\n",
    "\n",
    "model = DecisionTreeRegressor(max_depth=8, random_state=0)  # 과대적합 현상이 없어지지는 않음.\n",
    "Model_Train(model, Xnormal, Ynormal)"
   ]
  },
  {
   "cell_type": "code",
   "execution_count": null,
   "metadata": {},
   "outputs": [
    {
     "name": "stdout",
     "output_type": "stream",
     "text": [
      "1.0000 0.9903\n"
     ]
    },
    {
     "data": {
      "text/plain": [
       "DecisionTreeRegressor(random_state=0)"
      ]
     },
     "metadata": {},
     "output_type": "display_data"
    }
   ],
   "source": [
    "# 데이터의 개수를 2000개로 늘려 DecisionTreeRegressor 사용\n",
    "dataL = make_sample(1234, 2000)\n",
    "Xlarge = dataL[['height','weight']]\n",
    "Ylarge = dataL['BMI']\n",
    "model = DecisionTreeRegressor(random_state=0)\n",
    "Model_Train(model, Xlarge, Ylarge)\n",
    "# 두 값의 차이가 확연히 줄어듦."
   ]
  },
  {
   "cell_type": "markdown",
   "metadata": {},
   "source": [
    "#### 앙상블"
   ]
  },
  {
   "cell_type": "markdown",
   "metadata": {},
   "source": [
    "- `sklearn.ensemble.RandomForestRegressor(n_estimators=100, *, criterion='squared_error', max_depth=None, min_samples_split=2, min_samples_leaf=1, min_weight_fraction_leaf=0.0, max_features='auto', max_leaf_nodes=None, min_impurity_decrease=0.0, bootstrap=True, oob_score=False, n_jobs=None, random_state=None, verbose=0, warm_start=False, ccp_alpha=0.0, max_samples=None)`"
   ]
  },
  {
   "cell_type": "code",
   "execution_count": null,
   "metadata": {},
   "outputs": [
    {
     "name": "stdout",
     "output_type": "stream",
     "text": [
      "0.9900 0.8209\n"
     ]
    },
    {
     "data": {
      "text/plain": [
       "RandomForestRegressor(n_estimators=200, random_state=0)"
      ]
     },
     "metadata": {},
     "output_type": "display_data"
    }
   ],
   "source": [
    "# Xnormal, Ynormal 데이터에 RandomForestRegressor 사용\n",
    "from sklearn.ensemble import RandomForestRegressor\n",
    "\n",
    "model = RandomForestRegressor(random_state=0)   # n_estimators를 다르게 줘도 별 차이가 없음\n",
    "Model_Train(model, Xnormal, Ynormal) # 데이터의 수가 작기 때문. 100개!"
   ]
  },
  {
   "cell_type": "code",
   "execution_count": null,
   "metadata": {},
   "outputs": [
    {
     "name": "stdout",
     "output_type": "stream",
     "text": [
      "0.9890 0.8020\n"
     ]
    },
    {
     "data": {
      "text/plain": [
       "RandomForestRegressor(random_state=0)"
      ]
     },
     "metadata": {},
     "output_type": "display_data"
    }
   ],
   "source": [
    "# Xnormal을 2차식으로 만든 후 RandomForestRegressor 사용\n",
    "from sklearn.ensemble import RandomForestRegressor\n",
    "\n",
    "poly2 = PolynomialFeatures(degree=2, include_bias=False)\n",
    "Xpoly2 = poly2.fit_transform(Xnormal)\n",
    "model = RandomForestRegressor(random_state=0)\n",
    "Model_Train(model, Xpoly2, Ynormal)  # 오히려 성능이 더 안 좋아짐"
   ]
  },
  {
   "cell_type": "code",
   "execution_count": null,
   "metadata": {},
   "outputs": [
    {
     "name": "stdout",
     "output_type": "stream",
     "text": [
      "0.9994 0.9967\n"
     ]
    },
    {
     "data": {
      "text/plain": [
       "RandomForestRegressor(random_state=0)"
      ]
     },
     "metadata": {},
     "output_type": "display_data"
    }
   ],
   "source": [
    "# 데이터의 개수를 2000개로 늘려 RandomForestRegressor 사용\n",
    "from sklearn.ensemble import RandomForestRegressor\n",
    "\n",
    "dataL = make_sample(1234, 2000)  # 150개 이상만 되어도 좋은 결과를 보임(정해져 있는 것은 아님)\n",
    "Xlarge = dataL[['height', 'weight']]\n",
    "Ylarge = dataL['BMI']\n",
    "model = RandomForestRegressor(random_state=0)\n",
    "Model_Train(model, Xlarge, Ylarge)\n",
    "# 성능이 굉장히 좋아짐. 데이터의 개수가 충분해야 올바른 학습을 할 수 있음을 알 수 있음"
   ]
  },
  {
   "cell_type": "markdown",
   "metadata": {},
   "source": [
    "`XGBRegressor(max_depth=3, learning_rate=0.1, n_estimators=100, verbosity=1, silent=None, objective=\"reg:linear\", booster='gbtree', n_jobs=1, nthread=None, gamma=0, min_child_weight=1, max_delta_step=0, subsample=1, colsample_bytree=1, colsample_bylevel=1, colsample_bynode=1, reg_alpha=0, reg_lambda=1, scale_pos_weight=1, base_score=0.5, random_state=0, seed=None, missing=None, importance_type=\"gain\", **kwargs)`"
   ]
  },
  {
   "cell_type": "code",
   "execution_count": null,
   "metadata": {},
   "outputs": [
    {
     "name": "stdout",
     "output_type": "stream",
     "text": [
      "0.9980 0.9157\n"
     ]
    },
    {
     "data": {
      "text/plain": [
       "XGBRegressor(objective='reg:squarederror')"
      ]
     },
     "metadata": {},
     "output_type": "display_data"
    }
   ],
   "source": [
    "# Xnormal, Ynormal 데이터에 XGBRegressor 사용\n",
    "from xgboost import XGBRegressor\n",
    "\n",
    "model = XGBRegressor(objective='reg:squarederror', random_state=0)\n",
    "Model_Train(model, Xnormal, Ynormal)  # 100개만 했는데도 성능이 꽤 좋음"
   ]
  },
  {
   "cell_type": "code",
   "execution_count": null,
   "metadata": {},
   "outputs": [
    {
     "name": "stdout",
     "output_type": "stream",
     "text": [
      "0.9977 0.9944\n"
     ]
    },
    {
     "data": {
      "text/plain": [
       "XGBRegressor(objective='reg:squarederror')"
      ]
     },
     "metadata": {},
     "output_type": "display_data"
    }
   ],
   "source": [
    "# 데이터의 개수를 2000개로 늘려 XGBRegressor 사용\n",
    "dataL = make_sample(1234, 2000)\n",
    "Xlarge = dataL[['height', 'weight']]\n",
    "Ylarge = dataL['BMI']\n",
    "model = XGBRegressor(objective='reg:squarederror', random_state=0)  # n_estimator를 변형해줄수도 있음. random_state를 바꿔도 일정한 걸 보니 분산도 적음\n",
    "Model_Train(model, Xlarge, Ylarge)"
   ]
  },
  {
   "cell_type": "markdown",
   "metadata": {},
   "source": [
    "#### Regression 성능평가\n",
    "- $R^2$ score\n",
    "  - 1에 가까울수록 좋음\n",
    "  - model.score(X, y)\n",
    "  - sklearn.metrics.r2_score(y_true, y_pred)\n",
    "  - 분산 기반으로 예측 성능을 평가\n",
    "  - 예측값 분산 / 실제값 분산\n",
    "- MAE(Mean Absolute Error)\n",
    "   - sklearn.metrics.mean_absolute_error(y_true, y_pred)\n",
    "   - 실제 값과 예측 값의 차이(Error)를 절댓값으로 변환해 평균한 것\n",
    "   - 차이는 음수와 양수 가능. 그냥 더하면 상쇄가 됨. Error를 정확히 측정할 수 없게되기 때문에 거리 개념으로 바꾼 것.\n",
    "- MSE(Mean Squared Error)\n",
    "   - sklearn.metrics.mean_squared_error(y_true, y_pred)  \n",
    "   - 실제 값과 예측 값의 차이를 제곱해 평균한 것\n",
    "   - 제곱한 이유는 큰 에러에 대해서 패널티를 주는 것. 차이가 크면 점수가 나빠지는 것\n",
    "- RMSE(Root Mean Squared Error)\n",
    "   - sklearn API에 없음\n",
    "   - MSE에 np.sqrt() 또는 ** 0.5를 사용함\n",
    "   - MSE 값은 오류의 제곱을 구하므로 실제 오류 평균보다 더 커지는 특성이 있어 MSE에 루트를 씌워 보정해준 것\n",
    "- MSLE(Mean Squared Log Error)\n",
    "   - sklearn.metrics.mean_squared_log_error(y_true, y_pred)\n",
    "   - MSE에 로그를 적용해준 지표\n",
    "- RMSLE(Root Mean Square Logarithmic Error)\n",
    "   - RMSE에 로그를 적용해준 지표\n",
    "   - 이상치가 있더라도 변동폭이 크지 않음(이상치에 강건함)\n",
    "   - 실제값보다 예측값이 작을 때 더 큰 패널티 부여\n",
    "   - 작게 예측하면 안되는 경우 사용하면 좋음 (배달 시간 예측)\n",
    "   - 실제값(주어지는 값), 예측값에 음수가 있으면 안됨 (오류 발생)\n",
    "   - 예측값에 음수가 있는지 없는지 확인하고 RMSLE를 구해야 함. 음수가 있으면 다른 값으로 바꿔주고 적용해야 함."
   ]
  },
  {
   "cell_type": "code",
   "execution_count": null,
   "metadata": {},
   "outputs": [],
   "source": [
    "# R2_score : 1에 가까울수록 좋은 성능\n",
    "# MAE, MSE, RMSE, MSLE, RMSLE : 0에 가까울수록 좋은 성능(Error는 적을수록 좋기 때문에)"
   ]
  },
  {
   "cell_type": "markdown",
   "metadata": {},
   "source": [
    "함수 제작"
   ]
  },
  {
   "cell_type": "code",
   "execution_count": null,
   "metadata": {},
   "outputs": [],
   "source": [
    "from sklearn.metrics import r2_score\n",
    "from sklearn.metrics import mean_absolute_error as mae\n",
    "from sklearn.metrics import mean_squared_error as mse\n",
    "from sklearn.metrics import mean_squared_log_error as msle\n",
    "\n",
    "# r2_score, mae, mse, rmse, msle, rmsle 를 구해 반환하는 함수\n",
    "# 한 개의 행에 6가지 성능평가 결과를 소수점 아래 4자리까지 표시되도록\n",
    "def get_scores(model, X, Y):\n",
    "    pred = model.predict(X)    # 실제값과 예측값이 필요하기 때문에 예측값을 만들어 줌\n",
    "    #print(pred[pred<0]) # 항상 pred 값에 음수가 있는지 없는지 신경써줘야 함. log 들어가는 것들은 음수가 들어가면 안됨\n",
    "\n",
    "    # 음수가 있어도 상관 없음\n",
    "    A = r2_score(Y, pred)   # 2개의 argument를 줌(실제값, 예측값)\n",
    "    B = mae(Y, pred)\n",
    "    C = mse(Y, pred)\n",
    "    E = np.sqrt(C)   # RMSE\n",
    "\n",
    "    # MSLE 하고 RMSLE는 음수가 있으면 안됨\n",
    "    #pred[0] = -2\n",
    "    pred = np.where(pred<0, 0, pred)  # np.where() pred가 0보다 작을 때 0으로 바꿔라. 그리고 그게 아니면 pred 값을 유지하라고 줌\n",
    "    #print(pred[0])\n",
    "    D = msle(Y, pred)\n",
    "    F = np.sqrt(D)   # RMSLE\n",
    "    return f'r2: {A:.4} mae: {B:.4} mse: {C:.4} msle: {D:.4} rmse: {E:.4} rmsle: {F:.4}'"
   ]
  },
  {
   "cell_type": "markdown",
   "metadata": {},
   "source": [
    "모델링 함수"
   ]
  },
  {
   "cell_type": "code",
   "execution_count": null,
   "metadata": {},
   "outputs": [],
   "source": [
    "# train, test 에 대한 6가지 성능평가 결과를 출력하는 Model_Train2 함수를 작성\n",
    "def Model_Train_2(model, XF, YF, scale=False):\n",
    "    # 7:3 분리, random_state=321  (주의: stratify사용 안함 -> 분류 모델에서만 사용)\n",
    "    if scale:\n",
    "        XF = MinMaxScaler().fit_transform(XF)\n",
    "    xtrain, xtest, ytrain, ytest = train_test_split(XF, YF,\n",
    "                                                    test_size=0.3,\n",
    "                                                    random_state=321)\n",
    "    model.fit(xtrain, ytrain)\n",
    "    \n",
    "    print('train:', get_scores(model, xtrain, ytrain))\n",
    "    print('test:', get_scores(model, xtest, ytest))\n",
    "    return model"
   ]
  },
  {
   "cell_type": "markdown",
   "metadata": {},
   "source": [
    "모델 비교"
   ]
  },
  {
   "cell_type": "code",
   "execution_count": null,
   "metadata": {},
   "outputs": [
    {
     "name": "stdout",
     "output_type": "stream",
     "text": [
      "train: r2: 0.9931 mae: 0.2648 mse: 0.12 msle: 0.0002734 rmse: 0.3464 rmsle: 0.01653\n",
      "test: r2: 0.9625 mae: 0.3783 mse: 0.3626 msle: 0.0009766 rmse: 0.6022 rmsle: 0.03125\n"
     ]
    },
    {
     "data": {
      "text/plain": [
       "LinearRegression()"
      ]
     },
     "metadata": {},
     "output_type": "display_data"
    }
   ],
   "source": [
    "# Xnormal, Ynormal 데이터 사용, LinearRegression => model1\n",
    "model1 = LinearRegression()\n",
    "Model_Train_2(model1, Xnormal, Ynormal)\n",
    "# test가 r2가 더 작고 에러값들도 더 커서 안좋음을 확인할 수 있음"
   ]
  },
  {
   "cell_type": "code",
   "execution_count": null,
   "metadata": {},
   "outputs": [],
   "source": [
    "# 음수값을 임의로 넣어 0으로 바꿔준 경우. -> 부정확하거나 음수가 있으면 오류값들이 커짐을 기억! msle, rmsle 값이 커짐.\n",
    "# train: r2: 0.9931 mae: 0.2648 mse: 0.1200 msle: 0.1763 rmse: 0.3464 rmsle: 0.4199\n",
    "# test: r2: 0.9625 mae: 0.3783 mse: 0.3626 msle: 0.3443 rmse: 0.6022 rmsle: 0.5868"
   ]
  },
  {
   "cell_type": "code",
   "execution_count": null,
   "metadata": {},
   "outputs": [
    {
     "name": "stdout",
     "output_type": "stream",
     "text": [
      "(100, 9)\n",
      "train: r2: 1.0 mae: 0.002813 mse: 1.09e-05 msle: 1.991e-08 rmse: 0.003302 rmsle: 0.0001411\n",
      "test: r2: 1.0 mae: 0.006752 mse: 0.0004418 msle: 1.257e-06 rmse: 0.02102 rmsle: 0.001121\n"
     ]
    },
    {
     "data": {
      "text/plain": [
       "LinearRegression()"
      ]
     },
     "metadata": {},
     "output_type": "display_data"
    }
   ],
   "source": [
    "# Xpoly3, Ynormal 데이터 사용, LinearRegression => model2\n",
    "poly3 = PolynomialFeatures(degree=3, include_bias=False)\n",
    "Xpoly3 = poly3.fit_transform(Xnormal)\n",
    "model2 = LinearRegression()\n",
    "print(Xpoly3.shape)\n",
    "Model_Train_2(model2, Xpoly3, Ynormal)\n",
    "# 성능 좋음"
   ]
  },
  {
   "cell_type": "code",
   "execution_count": null,
   "metadata": {},
   "outputs": [
    {
     "name": "stdout",
     "output_type": "stream",
     "text": [
      "train: r2: 0.9997 mae: 0.05245 mse: 0.004918 msle: 8.916e-06 rmse: 0.07013 rmsle: 0.002986\n",
      "test: r2: 0.9978 mae: 0.1144 mse: 0.03039 msle: 5.758e-05 rmse: 0.1743 rmsle: 0.007588\n"
     ]
    },
    {
     "data": {
      "text/plain": [
       "XGBRegressor(n_estimators=900, objective='reg:squarederror')"
      ]
     },
     "metadata": {},
     "output_type": "display_data"
    }
   ],
   "source": [
    "# Xlarge, Ylarge 데이터 사용, XGBRegressor => model3\n",
    "dataL = make_sample(1234, 2000)\n",
    "Xlarge = dataL[['height', 'weight']]\n",
    "Ylarge = dataL['BMI']\n",
    "model3 = XGBRegressor(n_estimators=900, objective='reg:squarederror', random_state=0)\n",
    "Model_Train_2(model3, Xlarge, Ylarge)"
   ]
  },
  {
   "cell_type": "code",
   "execution_count": null,
   "metadata": {},
   "outputs": [
    {
     "name": "stdout",
     "output_type": "stream",
     "text": [
      "r2: 0.9892 mae: 0.2701 mse: 0.1499 msle: 0.0003649 rmse: 0.3871 rmsle: 0.0191\n",
      "r2: 1.0 mae: 0.003643 mse: 2.242e-05 msle: 4.639e-08 rmse: 0.004735 rmsle: 0.0002154\n",
      "r2: 0.998 mae: 0.1184 mse: 0.02824 msle: 5.373e-05 rmse: 0.168 rmsle: 0.00733\n"
     ]
    }
   ],
   "source": [
    "# Xtest, Ytest 데이터를 사용하여 model1, model2, model3의 성능을 평가\n",
    "XF = Xtest[['height', 'weight']]\n",
    "YF = Ytest['BMI']\n",
    "# poly3을 그대로 써야함. 항상 학습데이터와 submission 제출할 데이터는 전처리가 똑같이 되어있어야 동일한 모델을 사용해서 예측 가능함\n",
    "XFpoly3 = poly3.fit_transform(XF)\n",
    "print(get_scores(model1, XF, YF))\n",
    "print(get_scores(model2, XFpoly3, YF))  # 개수가 다르기 때문에 오류가 난 것\n",
    "print(get_scores(model3, XF, YF))\n",
    "# X has 2 features, but LinearRegression is expecting 9 features as input.\n",
    "# model2 를 만들때 사용했던 data는 Xpoly3이 degree=3에 의해 모양이 달라져 있음\n",
    "\n",
    "# model2 가 성능이 제일 좋음"
   ]
  },
  {
   "cell_type": "markdown",
   "metadata": {},
   "source": [
    "#### (예제) 웹사이트 방문자 예측"
   ]
  },
  {
   "cell_type": "code",
   "execution_count": null,
   "metadata": {},
   "outputs": [
    {
     "name": "stdout",
     "output_type": "stream",
     "text": [
      "Cloning into 'bigdata'...\n",
      "remote: Enumerating objects: 50, done.\u001b[K\n",
      "remote: Total 50 (delta 0), reused 0 (delta 0), pack-reused 50\u001b[K\n",
      "Unpacking objects: 100% (50/50), done.\n"
     ]
    }
   ],
   "source": [
    "!git clone https://github.com/Soyoung-Yoon/bigdata"
   ]
  },
  {
   "cell_type": "code",
   "execution_count": null,
   "metadata": {},
   "outputs": [],
   "source": [
    "import pandas as pd\n",
    "\n",
    "pd.options.display.max_rows = 500     #출력할 max row를 지정\n",
    "pd.options.display.max_columns = 20   #출력할 max columns를 지정\n",
    "# 출력 format 지정 - 소수점 아래 4자리까지\n",
    "pd.set_option('display.float_format', '{:.4f}'.format)"
   ]
  },
  {
   "cell_type": "code",
   "execution_count": null,
   "metadata": {},
   "outputs": [
    {
     "name": "stdout",
     "output_type": "stream",
     "text": [
      "(2167, 8)\n"
     ]
    }
   ],
   "source": [
    "df = pd.read_csv('bigdata/daily-website-visitors.csv')\n",
    "print(df.shape)"
   ]
  },
  {
   "cell_type": "code",
   "execution_count": null,
   "metadata": {},
   "outputs": [
    {
     "name": "stdout",
     "output_type": "stream",
     "text": [
      "   Row     Day  Day.Of.Week       Date Page.Loads Unique.Visits  \\\n",
      "0    1  Sunday            1  9/14/2014      2,146         1,582   \n",
      "1    2  Monday            2  9/15/2014      3,621         2,528   \n",
      "\n",
      "  First.Time.Visits Returning.Visits  \n",
      "0             1,430              152  \n",
      "1             2,297              231  \n"
     ]
    }
   ],
   "source": [
    "df.head(2)\n",
    "# 컬럼명이 대소문자 섞여 있어 사용하기 좋지 않음"
   ]
  },
  {
   "cell_type": "code",
   "execution_count": null,
   "metadata": {},
   "outputs": [
    {
     "data": {
      "text/plain": [
       "Index(['row', 'day', 'day_of_week', 'date', 'page_loads', 'unique_visits',\n",
       "       'first_time_visits', 'returning_visits'],\n",
       "      dtype='object')"
      ]
     },
     "metadata": {},
     "output_type": "display_data"
    }
   ],
   "source": [
    "# 컬럼명 정리 - 소문자로 변경, '.'을 '-'로 변경\n",
    "df.columns = df.columns.str.replace('.','_',regex=True).str.lower()  # 다 소문자로 바뀜\n",
    "# df.columns 가 문자열이기 때문에 가능. 일부내용만 바꿀 때 regex=True\n",
    "df.columns   # 어딘가에 대입을 할 때는 대입하기 전에 동작이 잘 되는지 확인하고 넣어주는 것이 좋음.\n",
    "# df.head(2)"
   ]
  },
  {
   "cell_type": "code",
   "execution_count": null,
   "metadata": {},
   "outputs": [
    {
     "name": "stdout",
     "output_type": "stream",
     "text": [
      "<class 'pandas.core.frame.DataFrame'>\n",
      "RangeIndex: 2167 entries, 0 to 2166\n",
      "Data columns (total 8 columns):\n",
      " #   Column             Non-Null Count  Dtype \n",
      "---  ------             --------------  ----- \n",
      " 0   row                2167 non-null   int64 \n",
      " 1   day                2167 non-null   object\n",
      " 2   day_of_week        2167 non-null   int64 \n",
      " 3   date               2167 non-null   object\n",
      " 4   page_loads         2167 non-null   object\n",
      " 5   unique_visits      2167 non-null   object\n",
      " 6   first_time_visits  2167 non-null   object\n",
      " 7   returning_visits   2167 non-null   object\n",
      "dtypes: int64(2), object(6)\n",
      "memory usage: 135.6+ KB\n"
     ]
    }
   ],
   "source": [
    "df.info()"
   ]
  },
  {
   "cell_type": "markdown",
   "metadata": {},
   "source": [
    "컬럼 정보\n",
    "- row : 1번 부터 시작하는 일련번호  혹은 ID\n",
    "- day : 요일 정보\n",
    "- day_of_week : 요일 정보\n",
    "- date : 날짜 정보  => m,d,y 형식에 대해서 문서에 대해 잘 살펴봐야 함. 무엇이 가장 앞으로 오고 중간은 뭐고 마지막은 뭔지.\n",
    "   - date 는 학습에 바로 사용할 수 없기 때문에 dt 라는 Accessor를 이용해서 정보를 분리하고 필요한 정보를 꺼낼 수 있어야 함\n",
    "- page_loads : 로드된 일별 페이지 수\n",
    "- unique_visits : 6시간 이상 페이지에서 조회되지 않은 IP 주소의 일일 방문자 수\n",
    "- first_time_visits : 이전 고객으로 식별되는 쿠키를 가지고 있지 않은 고유 방문자 수(콤마(,) 포함 -> object 로 표기될 수도 -> 우리보고 형변환해서 쓰라는 것)\n",
    "- returning_visits : unique_visits 수에서 first_time_visits 제외"
   ]
  },
  {
   "cell_type": "code",
   "execution_count": null,
   "metadata": {},
   "outputs": [
    {
     "data": {
      "text/plain": [
       "row                   int64\n",
       "day                  object\n",
       "day_of_week           int64\n",
       "date                 object\n",
       "page_loads           object\n",
       "unique_visits        object\n",
       "first_time_visits    object\n",
       "returning_visits     object\n",
       "dtype: object"
      ]
     },
     "metadata": {},
     "output_type": "display_data"
    }
   ],
   "source": [
    "df.dtypes"
   ]
  },
  {
   "cell_type": "code",
   "execution_count": null,
   "metadata": {},
   "outputs": [
    {
     "data": {
      "text/plain": [
       "0       1582\n",
       "1       2528\n",
       "2       2630\n",
       "3       2614\n",
       "4       2366\n",
       "        ... \n",
       "2162    1696\n",
       "2163    2037\n",
       "2164    2638\n",
       "2165    2683\n",
       "2166    1564\n",
       "Name: unique_visits, Length: 2167, dtype: int64"
      ]
     },
     "metadata": {},
     "output_type": "display_data"
    }
   ],
   "source": [
    "# unique_visits 를 예측하는 값(종속변수)으로 사용할 것이며, 수치데이터(연속형) 이어야 함. 콤마 제거 후, int로 형변환\n",
    "df['unique_visits'] = df['unique_visits'].replace(',', '', regex=True).astype(int)\n",
    "df['unique_visits']"
   ]
  },
  {
   "cell_type": "code",
   "execution_count": null,
   "metadata": {},
   "outputs": [
    {
     "name": "stdout",
     "output_type": "stream",
     "text": [
      "(1301, 8) (866, 8)\n"
     ]
    }
   ],
   "source": [
    "# train, test 데이터로 나누어 저장\n",
    "train_size = len(df) - int(len(df)*0.4)\n",
    "\n",
    "# train과 test가 골고루 섞여서 학습에 사용하기에 좋은, 평가하기에 좋은 데이터가 됨\n",
    "df = df.sample(frac=1, random_state=1234)  # df의 .sample()을 이용. frac=1로 섞어주는 것\n",
    "df['row'] = range(1, len(df)+1)  # 섞였으니까 다시 번호 매기기. +1 은 1 부터 시작했기 때문\n",
    "train = df.iloc[:train_size, :]\n",
    "test = df.iloc[train_size:, :]\n",
    "print(train.shape, test.shape)\n",
    "y = 'unique_visits'\n",
    "X_train = train.drop(columns=y)\n",
    "Y_train = train[['row', y]]\n",
    "X_test = test.drop(columns=y)\n",
    "Y_test = test[['row', y]]\n",
    "X_train.to_csv('x_train.csv', index=False)\n",
    "Y_train.to_csv('y_train.csv', index=False)\n",
    "X_test.to_csv('x_test.csv', index=False)\n",
    "Y_test.to_csv('y_test.csv', index=False)"
   ]
  },
  {
   "cell_type": "markdown",
   "metadata": {},
   "source": [
    "전처리"
   ]
  },
  {
   "cell_type": "code",
   "execution_count": null,
   "metadata": {},
   "outputs": [
    {
     "name": "stdout",
     "output_type": "stream",
     "text": [
      "<class 'pandas.core.frame.DataFrame'>\n",
      "RangeIndex: 1301 entries, 0 to 1300\n",
      "Data columns (total 2 columns):\n",
      " #   Column         Non-Null Count  Dtype\n",
      "---  ------         --------------  -----\n",
      " 0   row            1301 non-null   int64\n",
      " 1   unique_visits  1301 non-null   int64\n",
      "dtypes: int64(2)\n",
      "memory usage: 20.5 KB\n"
     ]
    }
   ],
   "source": [
    "X_use = pd.read_csv('x_train.csv')  # 학습에 필요한 것 train 데이터 중 x\n",
    "X_submission = pd.read_csv('x_test.csv')  # 제출용도. test를 submission\n",
    "Y = pd.read_csv('y_train.csv')  # 학습에 사용하는 y\n",
    "Y_hidden = pd.read_csv('y_test.csv')\n",
    "Y.info()"
   ]
  },
  {
   "cell_type": "code",
   "execution_count": null,
   "metadata": {},
   "outputs": [
    {
     "name": "stdout",
     "output_type": "stream",
     "text": [
      "<class 'pandas.core.frame.DataFrame'>\n",
      "RangeIndex: 2167 entries, 0 to 2166\n",
      "Data columns (total 7 columns):\n",
      " #   Column             Non-Null Count  Dtype \n",
      "---  ------             --------------  ----- \n",
      " 0   row                2167 non-null   int64 \n",
      " 1   day                2167 non-null   object\n",
      " 2   day_of_week        2167 non-null   int64 \n",
      " 3   date               2167 non-null   object\n",
      " 4   page_loads         2167 non-null   object\n",
      " 5   first_time_visits  2167 non-null   object\n",
      " 6   returning_visits   2167 non-null   object\n",
      "dtypes: int64(2), object(5)\n",
      "memory usage: 118.6+ KB\n"
     ]
    }
   ],
   "source": [
    "# X 데이터들은 동일한 전처리가 되어야만 함.\n",
    "dfX = pd.concat([X_use, X_submission], ignore_index=True, axis=0)  # axis=0 은 앞이 위로, 뒤가 아래로 붙음\n",
    "dfX.info()"
   ]
  },
  {
   "cell_type": "code",
   "execution_count": null,
   "metadata": {},
   "outputs": [
    {
     "name": "stdout",
     "output_type": "stream",
     "text": [
      "<class 'pandas.core.frame.DataFrame'>\n",
      "RangeIndex: 2167 entries, 0 to 2166\n",
      "Data columns (total 7 columns):\n",
      " #   Column             Non-Null Count  Dtype \n",
      "---  ------             --------------  ----- \n",
      " 0   row                2167 non-null   int64 \n",
      " 1   day                2167 non-null   object\n",
      " 2   day_of_week        2167 non-null   int64 \n",
      " 3   date               2167 non-null   object\n",
      " 4   page_loads         2167 non-null   int64 \n",
      " 5   first_time_visits  2167 non-null   int64 \n",
      " 6   returning_visits   2167 non-null   int64 \n",
      "dtypes: int64(5), object(2)\n",
      "memory usage: 118.6+ KB\n"
     ]
    }
   ],
   "source": [
    "# 'page_loads', 'first_time_visits', 'returning_visits' 콤마를 없애고, int로 형변환\n",
    "dfX['page_loads'].str.replace(',', '', regex=True).astype('int') # 목록으로 줄 수 없음. 단일 작업만 가능\n",
    "# dfX['page_loads'].replace([',', ':'], ['', '-'], regex=True).astype('int') 도 가능  .replace하면 변환 대상을 목록으로 줄 수 있음\n",
    "# dfX['first_time_visits'].str.replace(',', '', regex=True).astype('int')\n",
    "# dfX['returning_visits'].str.replace(',', '', regex=True).astype('int')\n",
    "names = ['page_loads', 'first_time_visits', 'returning_visits']\n",
    "dfX[names] = dfX[names].replace(',', '', regex=True).astype(int) # DataFrame이 됨. 여기에도 .replace가 있음. str은 안됨\n",
    "dfX.info()"
   ]
  },
  {
   "cell_type": "code",
   "execution_count": null,
   "metadata": {},
   "outputs": [],
   "source": [
    "# 'date'에 대해서 datetime64로 형변환\n",
    "# dfX['date'] = dfX['date'].astype('datetime64')\n",
    "# dfX['date'].astype('datetime64')  # 타입만 확인하는 것이 아니라 내용도 올바른지 확인해야 함. 아래를 보면 올바름. 그래서 그대로 써도 가능(여기서는)\n",
    "\n",
    "dfX['date'] = pd.to_datetime(dfX['date'], format='%m/%d/%Y')  # /는 위에 /가 들어가 있기 때문"
   ]
  },
  {
   "cell_type": "code",
   "execution_count": null,
   "metadata": {},
   "outputs": [
    {
     "name": "stdout",
     "output_type": "stream",
     "text": [
      "<class 'pandas.core.frame.DataFrame'>\n",
      "RangeIndex: 2167 entries, 0 to 2166\n",
      "Data columns (total 7 columns):\n",
      " #   Column             Non-Null Count  Dtype         \n",
      "---  ------             --------------  -----         \n",
      " 0   row                2167 non-null   int64         \n",
      " 1   day                2167 non-null   object        \n",
      " 2   day_of_week        2167 non-null   int64         \n",
      " 3   date               2167 non-null   datetime64[ns]\n",
      " 4   page_loads         2167 non-null   int64         \n",
      " 5   first_time_visits  2167 non-null   int64         \n",
      " 6   returning_visits   2167 non-null   int64         \n",
      "dtypes: datetime64[ns](1), int64(5), object(1)\n",
      "memory usage: 118.6+ KB\n"
     ]
    }
   ],
   "source": [
    "dfX.info()"
   ]
  },
  {
   "cell_type": "code",
   "execution_count": null,
   "metadata": {},
   "outputs": [],
   "source": [
    "# 동일한 컬럼을 제거. object는 학습에 쓸 수 없다\n",
    "dfX2 = dfX.drop(columns='day')  # 여러개 동시 제거하고 싶으면 목록으로 주면 됨"
   ]
  },
  {
   "cell_type": "code",
   "execution_count": null,
   "metadata": {},
   "outputs": [
    {
     "name": "stdout",
     "output_type": "stream",
     "text": [
      "<class 'pandas.core.frame.DataFrame'>\n",
      "RangeIndex: 2167 entries, 0 to 2166\n",
      "Data columns (total 8 columns):\n",
      " #   Column             Non-Null Count  Dtype\n",
      "---  ------             --------------  -----\n",
      " 0   row                2167 non-null   int64\n",
      " 1   day_of_week        2167 non-null   int64\n",
      " 2   page_loads         2167 non-null   int64\n",
      " 3   first_time_visits  2167 non-null   int64\n",
      " 4   returning_visits   2167 non-null   int64\n",
      " 5   year               2167 non-null   int64\n",
      " 6   month              2167 non-null   int64\n",
      " 7   day                2167 non-null   int64\n",
      "dtypes: int64(8)\n",
      "memory usage: 135.6 KB\n"
     ]
    }
   ],
   "source": [
    "# 'date'에서 'year', 'month', 'day'에 대한 정보를 dfX2에 포함시키고, 'date' 를 제거.\n",
    "# 상황에 따라 'quarter' 사용도 고려할 수 있음, 주말/주중으로 나눌 수도 있음\n",
    "date = pd.DataFrame()\n",
    "temp = dfX2['date'].dt  # 임시변수로 저장\n",
    "date['year'] = temp.year\n",
    "date['month'] = temp.month\n",
    "date['day'] = temp.day\n",
    "dfX3 = dfX2.drop(columns='date')\n",
    "dfX3 = pd.concat([dfX3, date], axis=1)   # 왼쪽-오른쪽으로 붙혀줘야 함. date가 맨오른쪽으로 붙음\n",
    "dfX3.info()"
   ]
  },
  {
   "cell_type": "code",
   "execution_count": null,
   "metadata": {},
   "outputs": [
    {
     "name": "stdout",
     "output_type": "stream",
     "text": [
      "(1301, 9) (2167, 8) (1301, 2)\n"
     ]
    }
   ],
   "source": [
    "# Y와 X의 feature의 관계를 분석해 보기 위해 dfX3과 Y를 merge\n",
    "dfXY = pd.merge(dfX3, Y)  # pd.merge는 2개만 병합할 수 있음(같은 컬럼이 있을때 그 컬럼을 기준으로). 앞에 있는게 왼쪽, 뒤에있는게 오른쪽\n",
    "print(dfXY.shape, dfX3.shape, Y.shape)   # dfX3은 x_use와 submission을 합친 것. Y는 정답이 있는 것만 있음. merge를 하면 똑같은 row 번호가 있는 것만 병합하기 때문에 1301개가 되는 것. 자연스럽게 X에서 use에 해당하는 것만 병합되는 것. 그래서 dfXY는 train data만으로 구성되는 것"
   ]
  },
  {
   "cell_type": "code",
   "execution_count": null,
   "metadata": {},
   "outputs": [
    {
     "name": "stdout",
     "output_type": "stream",
     "text": [
      "row                  0.0162\n",
      "day_of_week         -0.2592\n",
      "page_loads           0.9885\n",
      "first_time_visits    0.9962\n",
      "returning_visits     0.9059\n",
      "year                 0.0707\n",
      "month               -0.0478\n",
      "day                 -0.0353\n",
      "unique_visits        1.0000\n",
      "Name: unique_visits, dtype: float64\n"
     ]
    }
   ],
   "source": [
    "# dfXY의 상관계수를 확인한다\n",
    "# 'unique_visits'와 상관이 매우 높은 feature들이 있음 (page_loads, first_time_visits, returning_visits)\n",
    "print(dfXY.corr()['unique_visits'])\n",
    "# 상관관계가 높아서 성능이 높을 것으로 예상이 됨"
   ]
  },
  {
   "cell_type": "code",
   "execution_count": null,
   "metadata": {},
   "outputs": [
    {
     "data": {
      "text/plain": [
       "day_of_week\n",
       "1   2351.3175\n",
       "2   3487.1016\n",
       "3   3590.0156\n",
       "4   3454.6684\n",
       "5   3362.2404\n",
       "6   2680.1477\n",
       "7   1784.1872\n",
       "Name: unique_visits, dtype: float64"
      ]
     },
     "metadata": {},
     "output_type": "display_data"
    }
   ],
   "source": [
    "# 'day_of_week' 별 'unique_visits'의 평균 -> 2, 3, 4, 5 가 높고 1, 6, 7이 낮은 것을 볼 수 있다.\n",
    "temp = dfXY.groupby('day_of_week')['unique_visits'].mean()  # 요일별로 평균이 다른 것을 볼 수 있음\n",
    "temp"
   ]
  },
  {
   "cell_type": "code",
   "execution_count": null,
   "metadata": {},
   "outputs": [
    {
     "data": {
      "text/plain": [
       "array([2, 3, 4, 5])"
      ]
     },
     "metadata": {},
     "output_type": "display_data"
    }
   ],
   "source": [
    "# 'day_of_week' 별 평균이 높은 것에 대한 데이터를 high_day_of_week로 저장\n",
    "high_day_of_week = temp[temp > 3000].index.values\n",
    "high_day_of_week"
   ]
  },
  {
   "cell_type": "code",
   "execution_count": null,
   "metadata": {},
   "outputs": [
    {
     "data": {
      "text/plain": [
       "month\n",
       "1    2504.1947\n",
       "2    3164.8842\n",
       "3    3306.5798\n",
       "4    3835.3818\n",
       "5    3324.8396\n",
       "6    2619.0339\n",
       "7    2315.3505\n",
       "8    2266.5980\n",
       "9    2668.1776\n",
       "10   3188.5345\n",
       "11   3445.1504\n",
       "12   2776.1048\n",
       "Name: unique_visits, dtype: float64"
      ]
     },
     "metadata": {},
     "output_type": "display_data"
    }
   ],
   "source": [
    "# 'month' 별 'unique_visits'의 평균을 구해본다. -> 2, 3, 4, 5, 10, 11이 높고 1, 6, 7이 낮은 것을 볼 수 있다.\n",
    "temp = dfXY.groupby('month')['unique_visits'].mean()\n",
    "temp"
   ]
  },
  {
   "cell_type": "code",
   "execution_count": null,
   "metadata": {},
   "outputs": [
    {
     "data": {
      "text/plain": [
       "array([ 2,  3,  4,  5, 10, 11])"
      ]
     },
     "metadata": {},
     "output_type": "display_data"
    }
   ],
   "source": [
    "# 'month' 별 평균이 높은 것에 대한 데이터를 high_month로 저장\n",
    "high_month = temp[temp > 3000].index.values\n",
    "high_month"
   ]
  },
  {
   "cell_type": "code",
   "execution_count": null,
   "metadata": {},
   "outputs": [
    {
     "data": {
      "text/plain": [
       "0       False\n",
       "1        True\n",
       "2       False\n",
       "3       False\n",
       "4       False\n",
       "        ...  \n",
       "2162    False\n",
       "2163     True\n",
       "2164    False\n",
       "2165     True\n",
       "2166     True\n",
       "Name: day_of_week, Length: 2167, dtype: bool"
      ]
     },
     "metadata": {},
     "output_type": "display_data"
    }
   ],
   "source": [
    "dfX3['day_of_week'].isin(high_day_of_week)  # boolean 값"
   ]
  },
  {
   "cell_type": "code",
   "execution_count": null,
   "metadata": {},
   "outputs": [
    {
     "data": {
      "text/html": [
       "\n",
       "  <div id=\"df-8cef77a5-5244-409d-929b-cc838a0e7e71\">\n",
       "    <div class=\"colab-df-container\">\n",
       "      <div>\n",
       "<style scoped>\n",
       "    .dataframe tbody tr th:only-of-type {\n",
       "        vertical-align: middle;\n",
       "    }\n",
       "\n",
       "    .dataframe tbody tr th {\n",
       "        vertical-align: top;\n",
       "    }\n",
       "\n",
       "    .dataframe thead th {\n",
       "        text-align: right;\n",
       "    }\n",
       "</style>\n",
       "<table border=\"1\" class=\"dataframe\">\n",
       "  <thead>\n",
       "    <tr style=\"text-align: right;\">\n",
       "      <th></th>\n",
       "      <th>row</th>\n",
       "      <th>day_of_week</th>\n",
       "      <th>page_loads</th>\n",
       "      <th>first_time_visits</th>\n",
       "      <th>returning_visits</th>\n",
       "      <th>year</th>\n",
       "      <th>month</th>\n",
       "      <th>day</th>\n",
       "      <th>dow_h</th>\n",
       "      <th>month_h</th>\n",
       "    </tr>\n",
       "  </thead>\n",
       "  <tbody>\n",
       "    <tr>\n",
       "      <th>0</th>\n",
       "      <td>1</td>\n",
       "      <td>6</td>\n",
       "      <td>3555</td>\n",
       "      <td>2248</td>\n",
       "      <td>427</td>\n",
       "      <td>2020</td>\n",
       "      <td>6</td>\n",
       "      <td>26</td>\n",
       "      <td>0</td>\n",
       "      <td>0</td>\n",
       "    </tr>\n",
       "    <tr>\n",
       "      <th>1</th>\n",
       "      <td>2</td>\n",
       "      <td>5</td>\n",
       "      <td>4221</td>\n",
       "      <td>2477</td>\n",
       "      <td>505</td>\n",
       "      <td>2019</td>\n",
       "      <td>8</td>\n",
       "      <td>29</td>\n",
       "      <td>1</td>\n",
       "      <td>0</td>\n",
       "    </tr>\n",
       "    <tr>\n",
       "      <th>2</th>\n",
       "      <td>3</td>\n",
       "      <td>6</td>\n",
       "      <td>4767</td>\n",
       "      <td>2734</td>\n",
       "      <td>690</td>\n",
       "      <td>2016</td>\n",
       "      <td>11</td>\n",
       "      <td>18</td>\n",
       "      <td>0</td>\n",
       "      <td>1</td>\n",
       "    </tr>\n",
       "  </tbody>\n",
       "</table>\n",
       "</div>\n",
       "      <button class=\"colab-df-convert\" onclick=\"convertToInteractive('df-8cef77a5-5244-409d-929b-cc838a0e7e71')\"\n",
       "              title=\"Convert this dataframe to an interactive table.\"\n",
       "              style=\"display:none;\">\n",
       "        \n",
       "  <svg xmlns=\"http://www.w3.org/2000/svg\" height=\"24px\"viewBox=\"0 0 24 24\"\n",
       "       width=\"24px\">\n",
       "    <path d=\"M0 0h24v24H0V0z\" fill=\"none\"/>\n",
       "    <path d=\"M18.56 5.44l.94 2.06.94-2.06 2.06-.94-2.06-.94-.94-2.06-.94 2.06-2.06.94zm-11 1L8.5 8.5l.94-2.06 2.06-.94-2.06-.94L8.5 2.5l-.94 2.06-2.06.94zm10 10l.94 2.06.94-2.06 2.06-.94-2.06-.94-.94-2.06-.94 2.06-2.06.94z\"/><path d=\"M17.41 7.96l-1.37-1.37c-.4-.4-.92-.59-1.43-.59-.52 0-1.04.2-1.43.59L10.3 9.45l-7.72 7.72c-.78.78-.78 2.05 0 2.83L4 21.41c.39.39.9.59 1.41.59.51 0 1.02-.2 1.41-.59l7.78-7.78 2.81-2.81c.8-.78.8-2.07 0-2.86zM5.41 20L4 18.59l7.72-7.72 1.47 1.35L5.41 20z\"/>\n",
       "  </svg>\n",
       "      </button>\n",
       "      \n",
       "  <style>\n",
       "    .colab-df-container {\n",
       "      display:flex;\n",
       "      flex-wrap:wrap;\n",
       "      gap: 12px;\n",
       "    }\n",
       "\n",
       "    .colab-df-convert {\n",
       "      background-color: #E8F0FE;\n",
       "      border: none;\n",
       "      border-radius: 50%;\n",
       "      cursor: pointer;\n",
       "      display: none;\n",
       "      fill: #1967D2;\n",
       "      height: 32px;\n",
       "      padding: 0 0 0 0;\n",
       "      width: 32px;\n",
       "    }\n",
       "\n",
       "    .colab-df-convert:hover {\n",
       "      background-color: #E2EBFA;\n",
       "      box-shadow: 0px 1px 2px rgba(60, 64, 67, 0.3), 0px 1px 3px 1px rgba(60, 64, 67, 0.15);\n",
       "      fill: #174EA6;\n",
       "    }\n",
       "\n",
       "    [theme=dark] .colab-df-convert {\n",
       "      background-color: #3B4455;\n",
       "      fill: #D2E3FC;\n",
       "    }\n",
       "\n",
       "    [theme=dark] .colab-df-convert:hover {\n",
       "      background-color: #434B5C;\n",
       "      box-shadow: 0px 1px 3px 1px rgba(0, 0, 0, 0.15);\n",
       "      filter: drop-shadow(0px 1px 2px rgba(0, 0, 0, 0.3));\n",
       "      fill: #FFFFFF;\n",
       "    }\n",
       "  </style>\n",
       "\n",
       "      <script>\n",
       "        const buttonEl =\n",
       "          document.querySelector('#df-8cef77a5-5244-409d-929b-cc838a0e7e71 button.colab-df-convert');\n",
       "        buttonEl.style.display =\n",
       "          google.colab.kernel.accessAllowed ? 'block' : 'none';\n",
       "\n",
       "        async function convertToInteractive(key) {\n",
       "          const element = document.querySelector('#df-8cef77a5-5244-409d-929b-cc838a0e7e71');\n",
       "          const dataTable =\n",
       "            await google.colab.kernel.invokeFunction('convertToInteractive',\n",
       "                                                     [key], {});\n",
       "          if (!dataTable) return;\n",
       "\n",
       "          const docLinkHtml = 'Like what you see? Visit the ' +\n",
       "            '<a target=\"_blank\" href=https://colab.research.google.com/notebooks/data_table.ipynb>data table notebook</a>'\n",
       "            + ' to learn more about interactive tables.';\n",
       "          element.innerHTML = '';\n",
       "          dataTable['output_type'] = 'display_data';\n",
       "          await google.colab.output.renderOutput(dataTable, element);\n",
       "          const docLink = document.createElement('div');\n",
       "          docLink.innerHTML = docLinkHtml;\n",
       "          element.appendChild(docLink);\n",
       "        }\n",
       "      </script>\n",
       "    </div>\n",
       "  </div>\n",
       "  "
      ],
      "text/plain": [
       "   row  day_of_week  page_loads  first_time_visits  returning_visits  year  \\\n",
       "0    1            6        3555               2248               427  2020   \n",
       "1    2            5        4221               2477               505  2019   \n",
       "2    3            6        4767               2734               690  2016   \n",
       "\n",
       "   month  day  dow_h  month_h  \n",
       "0      6   26      0        0  \n",
       "1      8   29      1        0  \n",
       "2     11   18      0        1  "
      ]
     },
     "metadata": {},
     "output_type": "display_data"
    }
   ],
   "source": [
    "# high_day_of_week, high_month의 index 정보를 사용해 파생 변수 생성\n",
    "# submission할 데이터에도 동일한 전처리가 되어야 함. 그래서 변수를 추가해야 하는 것은 dfX3. dfX3에 높은 평균을 갖는 요일과 달을 1, 아닌 것을 0으로 하는 dow_h, month_h 변수 추가\n",
    "\n",
    "#dfX3['dow_h'] = np.where(dfX3['day_of_week'].isin(high_day_of_week), 1, 0)   # np.where은 1, 0 들어간 자리에 하나의 값만 주는 게 아니라 배열의 길이와 똑같은 값을 주어 true일 때 참조하고 거짓일 때 참조하는 작업을 진행할 수 있음\n",
    "dfX3['dow_h'] = dfX3['day_of_week'].isin(high_day_of_week).astype(int) # Series의 true/false. 이것도 가능\n",
    "#dfX3['dow_h'] = np.where(dfX3['day_of_week'].isin(high_day_of_week), 1, 0)\n",
    "dfX3['month_h'] = dfX3['month'].isin(high_month).astype(int)\n",
    "dfX3.head(3)\n",
    "#print(dfX3[dfX3['page_loads'] == 4767])"
   ]
  },
  {
   "cell_type": "code",
   "execution_count": null,
   "metadata": {},
   "outputs": [
    {
     "data": {
      "text/plain": [
       "year\n",
       "2014   2588.9322\n",
       "2015   2946.1948\n",
       "2016   3240.0045\n",
       "2017   2502.0631\n",
       "2018   3027.3835\n",
       "2019   3069.0755\n",
       "2020   3155.5333\n",
       "Name: unique_visits, dtype: float64"
      ]
     },
     "metadata": {},
     "output_type": "display_data"
    }
   ],
   "source": [
    "temp = dfXY.groupby('year')['unique_visits'].mean()\n",
    "temp"
   ]
  },
  {
   "cell_type": "markdown",
   "metadata": {},
   "source": [
    "모델링 및 학습"
   ]
  },
  {
   "cell_type": "code",
   "execution_count": null,
   "metadata": {},
   "outputs": [],
   "source": [
    "#[16] 사용할 라이브러리 import\n",
    "from sklearn.model_selection import train_test_split\n",
    "from sklearn.linear_model import LinearRegression\n",
    "from sklearn.tree import DecisionTreeRegressor\n",
    "from sklearn.ensemble import RandomForestRegressor\n",
    "from xgboost import XGBRegressor\n",
    "\n",
    "from sklearn.preprocessing import PolynomialFeatures   # 다항회귀\n",
    "from sklearn.linear_model import Ridge, Lasso   # 과대적합을 방지하기 위해서\n",
    "\n",
    "from sklearn.metrics import r2_score\n",
    "from sklearn.metrics import mean_absolute_error as mae\n",
    "from sklearn.metrics import mean_squared_error as mse\n",
    "from sklearn.metrics import mean_squared_log_error as msle\n",
    "import numpy as np"
   ]
  },
  {
   "cell_type": "code",
   "execution_count": null,
   "metadata": {},
   "outputs": [],
   "source": [
    "def get_scores2(model, xtrain, xtest, ytrain, ytest):\n",
    "    # predict는 x값을 주고 y에 대한 값을 구하는 것\n",
    "    pred1 = model.predict(xtrain)    # train # 실제값과 예측값이 필요하기 때문에 예측값을 만들어 줌\n",
    "    pred2 = model.predict(xtest)     # test\n",
    "    #print(pred[pred<0]) # 항상 pred 값에 음수가 있는지 없는지 신경써줘야 함. log 들어가는 것들은 음수가 들어가면 안됨\n",
    "\n",
    "    # 음수가 있어도 상관 없음\n",
    "    A1 = r2_score(ytrain, pred1)   # 2개의 argument를 줌(실제값, 예측값)\n",
    "    A2 = r2_score(ytest, pred2)\n",
    "    B = mae(ytest, pred2)\n",
    "    C = mse(ytest, pred2)\n",
    "    E = np.sqrt(C)   # RMSE\n",
    "\n",
    "    # MSLE 하고 RMSLE는 음수가 있으면 안됨\n",
    "    pred2 = np.where(pred2<0, 0, pred2)  # np.where() pred가 0보다 작을 때 0으로 바꿔라. 그리고 그게 아니면 pred 값을 유지하라고 줌\n",
    "    D = msle(ytest, pred2)\n",
    "    F = np.sqrt(D)   # RMSLE\n",
    "    data = [round(x, 4) for x in [A1, A2, B, C, D, E, F]]\n",
    "    names = 'r2_train r2_test mae mse msle rmse rmsle'.split()\n",
    "    scores = pd.Series(data, index=names)\n",
    "    return  scores"
   ]
  },
  {
   "cell_type": "code",
   "execution_count": null,
   "metadata": {},
   "outputs": [],
   "source": [
    "# 다양한 모델을 만들고 성능을 출력하는 함수 작성. 결과를 DataFrame으로 만들기\n",
    "def make_models(xtrain, xtest, ytrain, ytest, n=300, RL=False):   # n은 estimator (ensemble)\n",
    "    temp = pd.DataFrame()\n",
    "\n",
    "    model1 = LinearRegression().fit(xtrain, ytrain)\n",
    "    temp['model1'] = get_scores2(model1, xtrain, xtest, ytrain, ytest)\n",
    "\n",
    "    if not RL:\n",
    "        model2 = DecisionTreeRegressor(random_state=0).fit(xtrain, ytrain)   # overfitting 나기 쉬움\n",
    "        temp['model2'] = get_scores2(model2, xtrain, xtest, ytrain, ytest)\n",
    "\n",
    "        for d in range(3, 9):\n",
    "            model2 = DecisionTreeRegressor(max_depth=d, random_state=0).fit(xtrain, ytrain)\n",
    "            temp[f'model2_{d}'] = get_scores2(model2, xtrain, xtest, ytrain, ytest)\n",
    "\n",
    "        model3 = RandomForestRegressor(n, random_state=0).fit(xtrain, ytrain)   # overfitting 나기 쉬움\n",
    "        temp['model3'] = get_scores2(model3, xtrain, xtest, ytrain, ytest)\n",
    "\n",
    "        for d in range(3, 9):\n",
    "            model3 = RandomForestRegressor(n, max_depth=d, random_state=0).fit(xtrain, ytrain) # 앙상블\n",
    "            temp[f'model3_{d}'] = get_scores2(model3, xtrain, xtest, ytrain, ytest)\n",
    "\n",
    "    model4 = XGBRegressor(objective='reg:squarederror').fit(xtrain, ytrain)\n",
    "    temp['model4'] = get_scores2(model4, xtrain, xtest, ytrain, ytest)\n",
    "\n",
    "    if RL:    # Ridge, Lasso가 True 인 경우\n",
    "        for a in [0.01, 0.1, 1, 2]:\n",
    "            model5 = Ridge(alpha=a).fit(xtrain, ytrain)\n",
    "            temp[f'model5_{a}'] = get_scores2(model5, xtrain, xtest, ytrain, ytest)\n",
    "\n",
    "        for a in [0.01, 0.1, 1, 2]:\n",
    "            model6 = Lasso(alpha=a).fit(xtrain, ytrain)\n",
    "            temp[f'model6_{a}'] = get_scores2(model6, xtrain, xtest, ytrain, ytest)\n",
    "\n",
    "\n",
    "    temp = temp.T\n",
    "    temp.insert(2, 'diff', (temp['r2_train'] - temp['r2_test']).abs())\n",
    "\n",
    "    return temp"
   ]
  },
  {
   "cell_type": "markdown",
   "metadata": {},
   "source": [
    "데이터 분리, 모델 학습"
   ]
  },
  {
   "cell_type": "code",
   "execution_count": null,
   "metadata": {},
   "outputs": [
    {
     "data": {
      "text/plain": [
       "Index(['row', 'day_of_week', 'page_loads', 'first_time_visits',\n",
       "       'returning_visits', 'year', 'month', 'day', 'dow_h', 'month_h'],\n",
       "      dtype='object')"
      ]
     },
     "metadata": {},
     "output_type": "display_data"
    }
   ],
   "source": [
    "dfX3.columns"
   ]
  },
  {
   "cell_type": "code",
   "execution_count": null,
   "metadata": {},
   "outputs": [
    {
     "name": "stdout",
     "output_type": "stream",
     "text": [
      "(2167, 7) <class 'numpy.ndarray'>\n"
     ]
    }
   ],
   "source": [
    "# 학습에 사용할 feature 선택, Y에서 'unique_visits'만 선택 -> dfX4로 저장\n",
    "\n",
    "Xfeatures = ['day_of_week', 'returning_visits', 'year', 'month', 'day', 'dow_h', 'month_h']  # row는 일련번호 격이니 사용x\n",
    "dfX4 = dfX3[Xfeatures]\n",
    "# 스케일링 작업\n",
    "dfX4 = MinMaxScaler().fit_transform(dfX4)  # 주의사항: 여기서 dfX4는 ndarray 타입 객체임.(스케일링 됐기 때문. 스케일링 안하면 DataFrame)\n",
    "print(dfX4.shape, type(dfX4))"
   ]
  },
  {
   "cell_type": "code",
   "execution_count": null,
   "metadata": {},
   "outputs": [
    {
     "name": "stdout",
     "output_type": "stream",
     "text": [
      "[(1301, 7), (866, 7), (1301,), (866,)]\n"
     ]
    }
   ],
   "source": [
    "# dfX4 데이터를 X_use, X_submission 으로 다시 분리. dfX4 분리에서는 X_use의 행의 개수 사용\n",
    "# YF, Y_submissionF 생성  Y에서 'unique_visits'만 선택\n",
    "train_size = len(X_use)\n",
    "XF = dfX4[:train_size]   # 행 선택 => ndarray는 iloc으로 안됨. ndarray에서 지금처럼 사용해서 원하는 행만큼 가져올 수 있음.\n",
    "X_submissionF = dfX4[train_size:]\n",
    "# 만약 DataFrame이면 [] 안에 ,가 있으려면 loc이나 iloc이 있어야 함. 그것은 DataFrame에만 있기 때문에 ndarray에는 없음.\n",
    "# 위 방법이 ndarray나 DataFrame 모두 가능함. 주의할 것은 DataFrame에는 basic indexing(축 하나)이기 때문에 콤마 찍으면 안됨.\n",
    "YF = Y['unique_visits']\n",
    "Y_submissionF = Y_hidden['unique_visits']\n",
    "print([x.shape for x in [XF, X_submissionF, YF, Y_submissionF]])\n",
    "# 첫번쨰(xtrain) 세번째(ytrain)가 train에 사용. 길이가 같아야 함(행)\n",
    "# 첫번째와 두번째(submission data)는 컬럼수가 같아야 함."
   ]
  },
  {
   "cell_type": "code",
   "execution_count": null,
   "metadata": {},
   "outputs": [
    {
     "name": "stdout",
     "output_type": "stream",
     "text": [
      "[(910, 7), (391, 7), (910,), (391,)]\n",
      "          r2_train  r2_test   diff      mae         mse   msle     rmse  rmsle\n",
      "model1      0.8530   0.8697 0.0167 299.7255 136163.3198 0.0226 369.0031 0.1504\n",
      "model2      1.0000   0.8900 0.1100 253.2199 114973.3785 0.0168 339.0772 0.1295\n",
      "model2_3    0.8096   0.8079 0.0017 366.3969 200785.1874 0.0292 448.0906 0.1708\n",
      "model2_4    0.8512   0.8497 0.0015 320.9280 157094.0770 0.0237 396.3510 0.1538\n",
      "model2_5    0.8886   0.8690 0.0196 295.6834 136875.3847 0.0202 369.9667 0.1421\n",
      "model2_6    0.9264   0.8904 0.0360 263.8738 114564.6151 0.0175 338.4740 0.1324\n",
      "model2_7    0.9507   0.9049 0.0458 249.9928  99413.1549 0.0153 315.2985 0.1236\n",
      "model2_8    0.9715   0.8928 0.0787 253.6991 112017.4356 0.0171 334.6901 0.1306\n",
      "model3      0.9913   0.9446 0.0467 188.1597  57920.1257 0.0092 240.6660 0.0962\n",
      "model3_3    0.8402   0.8374 0.0028 338.7378 169912.1095 0.0253 412.2040 0.1591\n",
      "model3_4    0.8869   0.8777 0.0092 290.7705 127784.0901 0.0198 357.4690 0.1406\n",
      "model3_5    0.9252   0.9065 0.0187 249.6344  97687.5128 0.0155 312.5500 0.1243\n",
      "model3_6    0.9488   0.9213 0.0275 226.7326  82210.4545 0.0131 286.7237 0.1144\n",
      "model3_7    0.9658   0.9321 0.0337 209.7099  70977.4326 0.0113 266.4159 0.1065\n",
      "model3_8    0.9770   0.9383 0.0387 198.9254  64505.5531 0.0103 253.9794 0.1014\n",
      "model4      0.9694   0.9613 0.0081 152.6876  40391.0413 0.0058 200.9752 0.0764\n"
     ]
    }
   ],
   "source": [
    "# XF, YF 데이터를 사용하여 데이터를 분리(train, test)하고 make_models를 호출\n",
    "xtrain, xtest, ytrain, ytest = train_test_split(XF, YF,\n",
    "                                                test_size=0.3,\n",
    "                                                random_state=1234)\n",
    "print([x.shape for x in [xtrain, xtest, ytrain, ytest]])\n",
    "\n",
    "models = make_models(xtrain, xtest, ytrain, ytest)\n",
    "print(models)"
   ]
  },
  {
   "cell_type": "code",
   "execution_count": null,
   "metadata": {},
   "outputs": [
    {
     "name": "stdout",
     "output_type": "stream",
     "text": [
      "          r2_train  r2_test   diff      mae        mse   msle     rmse  rmsle\n",
      "model4      0.9694   0.9613 0.0081 152.6876 40391.0413 0.0058 200.9752 0.0764\n",
      "model3      0.9912   0.9443 0.0469 188.8188 58210.3098 0.0094 241.2681 0.0969\n",
      "model3_8    0.9770   0.9382 0.0388 199.4505 64551.5355 0.0103 254.0699 0.1017\n",
      "model3_7    0.9658   0.9323 0.0335 209.8356 70749.8591 0.0114 265.9885 0.1066\n",
      "model3_6    0.9488   0.9216 0.0272 226.6541 81873.6528 0.0131 286.1357 0.1143\n",
      "model2_7    0.9507   0.9057 0.0450 248.4075 98534.3498 0.0151 313.9018 0.1231\n",
      "model3_5    0.9251   0.9069 0.0182 249.3896 97241.5851 0.0154 311.8358 0.1241\n"
     ]
    }
   ],
   "source": [
    "print(models.sort_values('rmsle').head(7))"
   ]
  },
  {
   "cell_type": "code",
   "execution_count": null,
   "metadata": {},
   "outputs": [],
   "source": [
    "# model4      0.9694   0.9613 0.0081 152.6876  40391.0413 0.0058 200.9752 0.0764\n",
    "# train과 test의 차이값(r2)도 크지 않고, rmsle도 가장 작음\n",
    "# 여기서는 model 4 를 선택"
   ]
  },
  {
   "cell_type": "code",
   "execution_count": null,
   "metadata": {},
   "outputs": [],
   "source": [
    "# Polynomial Regression  + Ridge, Lasso 실행\n",
    "# 스케일링 작업\n",
    "from sklearn.preprocessing import MinMaxScaler\n",
    "from sklearn.preprocessing import PolynomialFeatures   # 다항회귀\n",
    "from sklearn.linear_model import Ridge, Lasso\n",
    "\n",
    "dfX4 = dfX3[Xfeatures]\n",
    "Xscaled = MinMaxScaler().fit_transform(dfX4)  # Xsclaed가 ndarray 객체\n",
    "Xpoly = PolynomialFeatures(degree=3).fit_transform(Xscaled)  # 이것도 전처리 중 일부기 때문에 fit_transform\n",
    "XF2 = Xpoly[:train_size]   # 학습용\n",
    "X_submissionF2 = Xpoly[train_size:]   # 제출용\n",
    "\n",
    "xtrain2, xtest2, ytrain2, ytest2 = train_test_split(XF2, YF,\n",
    "                                                    test_size=0.3,\n",
    "                                                    random_state=1234)"
   ]
  },
  {
   "cell_type": "code",
   "execution_count": null,
   "metadata": {},
   "outputs": [
    {
     "name": "stdout",
     "output_type": "stream",
     "text": [
      "             r2_train  r2_test   diff      mae        mse   msle     rmse  \\\n",
      "model1         0.9569   0.9581 0.0012 164.5621 43745.0940 0.0080 209.1533   \n",
      "model4         0.9786   0.9579 0.0207 160.3993 43957.4100 0.0067 209.6602   \n",
      "model5_0.01    0.9558   0.9590 0.0032 164.4172 42804.0864 0.0077 206.8915   \n",
      "model5_0.1     0.9502   0.9557 0.0055 172.1693 46339.0726 0.0074 215.2651   \n",
      "model5_1       0.9379   0.9460 0.0081 187.2184 56397.5835 0.0094 237.4818   \n",
      "model5_2       0.9310   0.9394 0.0084 198.6490 63328.7074 0.0111 251.6520   \n",
      "model6_0.01    0.9542   0.9574 0.0032 168.3426 44471.0916 0.0080 210.8817   \n",
      "model6_0.1     0.9506   0.9563 0.0057 170.1574 45614.3617 0.0073 213.5752   \n",
      "model6_1       0.9326   0.9421 0.0095 193.7864 60499.3490 0.0094 245.9662   \n",
      "model6_2       0.9227   0.9333 0.0106 210.0185 69749.6109 0.0112 264.1015   \n",
      "\n",
      "             rmsle  \n",
      "model1      0.0893  \n",
      "model4      0.0820  \n",
      "model5_0.01 0.0876  \n",
      "model5_0.1  0.0861  \n",
      "model5_1    0.0972  \n",
      "model5_2    0.1054  \n",
      "model6_0.01 0.0894  \n",
      "model6_0.1  0.0854  \n",
      "model6_1    0.0971  \n",
      "model6_2    0.1056  \n"
     ]
    }
   ],
   "source": [
    "models = make_models(xtrain2, xtest2, ytrain2, ytest2, RL=True)\n",
    "print(models)"
   ]
  },
  {
   "cell_type": "code",
   "execution_count": null,
   "metadata": {},
   "outputs": [
    {
     "name": "stdout",
     "output_type": "stream",
     "text": [
      "             r2_train  r2_test   diff      mae        mse   msle     rmse  \\\n",
      "model4         0.9786   0.9579 0.0207 160.3993 43957.4100 0.0067 209.6602   \n",
      "model6_0.1     0.9506   0.9563 0.0057 170.1574 45614.3617 0.0073 213.5752   \n",
      "model5_0.1     0.9502   0.9557 0.0055 172.1693 46339.0726 0.0074 215.2651   \n",
      "model5_0.01    0.9558   0.9590 0.0032 164.4172 42804.0864 0.0077 206.8915   \n",
      "model1         0.9569   0.9581 0.0012 164.5621 43745.0940 0.0080 209.1533   \n",
      "model6_0.01    0.9542   0.9574 0.0032 168.3426 44471.0916 0.0080 210.8817   \n",
      "model6_1       0.9326   0.9421 0.0095 193.7864 60499.3490 0.0094 245.9662   \n",
      "model5_1       0.9379   0.9460 0.0081 187.2184 56397.5835 0.0094 237.4818   \n",
      "model5_2       0.9310   0.9394 0.0084 198.6490 63328.7074 0.0111 251.6520   \n",
      "model6_2       0.9227   0.9333 0.0106 210.0185 69749.6109 0.0112 264.1015   \n",
      "\n",
      "             rmsle  \n",
      "model4      0.0820  \n",
      "model6_0.1  0.0854  \n",
      "model5_0.1  0.0861  \n",
      "model5_0.01 0.0876  \n",
      "model1      0.0893  \n",
      "model6_0.01 0.0894  \n",
      "model6_1    0.0971  \n",
      "model5_1    0.0972  \n",
      "model5_2    0.1054  \n",
      "model6_2    0.1056  \n"
     ]
    }
   ],
   "source": [
    "print(models.sort_values('rmsle'))"
   ]
  },
  {
   "cell_type": "code",
   "execution_count": null,
   "metadata": {},
   "outputs": [],
   "source": [
    "# model4         0.9694   0.9613 0.0081 152.6876  40391.0413 0.0058 200.9752 0.0764   (XF, YF)\n",
    "\n",
    "# model6_0.1     0.9506   0.9563 0.0057 170.1574 45614.3617 0.0073 213.5752 0.0854    (XF2, YF)"
   ]
  },
  {
   "cell_type": "markdown",
   "metadata": {},
   "source": [
    "모델 선택"
   ]
  },
  {
   "cell_type": "code",
   "execution_count": null,
   "metadata": {},
   "outputs": [
    {
     "name": "stdout",
     "output_type": "stream",
     "text": [
      "r2_train       0.9694\n",
      "r2_test        0.9613\n",
      "mae          152.6876\n",
      "mse        40391.0413\n",
      "msle           0.0058\n",
      "rmse         200.9752\n",
      "rmsle          0.0764\n",
      "dtype: float64\n"
     ]
    }
   ],
   "source": [
    "model = XGBRegressor(objective='reg:squarederror').fit(xtrain, ytrain)\n",
    "print(get_scores2(model, xtrain, xtest, ytrain, ytest))"
   ]
  },
  {
   "cell_type": "code",
   "execution_count": null,
   "metadata": {},
   "outputs": [
    {
     "name": "stdout",
     "output_type": "stream",
     "text": [
      "r2_train       0.9506\n",
      "r2_test        0.9563\n",
      "mae          170.1574\n",
      "mse        45614.3617\n",
      "msle           0.0073\n",
      "rmse         213.5752\n",
      "rmsle          0.0854\n",
      "dtype: float64\n"
     ]
    }
   ],
   "source": [
    "model = Lasso(alpha=0.1).fit(xtrain2, ytrain2)  # polynomial 한 데이터를 써야 함\n",
    "print(get_scores2(model, xtrain2, xtest2, ytrain2, ytest2))"
   ]
  },
  {
   "cell_type": "markdown",
   "metadata": {},
   "source": [
    "#### (예제)보험 예측"
   ]
  },
  {
   "cell_type": "code",
   "execution_count": null,
   "metadata": {},
   "outputs": [
    {
     "name": "stdout",
     "output_type": "stream",
     "text": [
      "fatal: destination path 'bigdata' already exists and is not an empty directory.\n"
     ]
    }
   ],
   "source": [
    "!git clone https://github.com/Soyoung-Yoon/bigdata"
   ]
  },
  {
   "cell_type": "markdown",
   "metadata": {},
   "source": [
    "컬럼 정보\n",
    "- age : 1차 수혜자 연령\n",
    "- sex : 보험 계약자 성별\n",
    "- bmi : 비만도 지수\n",
    "- children : 건강보험 적용 대상 아동 수\n",
    "- smoker : 흡연여부\n",
    "- region : 거주지역\n",
    "- charges : 의료 보험에서 청구하는 개별 의료비"
   ]
  },
  {
   "cell_type": "code",
   "execution_count": null,
   "metadata": {},
   "outputs": [
    {
     "name": "stdout",
     "output_type": "stream",
     "text": [
      "(803, 8) (535, 8)\n"
     ]
    }
   ],
   "source": [
    "train_size = len(df) - int(len(df)*0.4)\n",
    "\n",
    "# 여러 가지 데이터가 고루 섞이도록 해야 함\n",
    "df = df.sample(frac=1, random_state=1234)\n",
    "df.insert(0, 'ID', range(1, len(df)+1))  # 이 데이터에는 ID가 없었기 때문\n",
    "\n",
    "train = df.iloc[:train_size, ]\n",
    "test = df.iloc[train_size:, ]\n",
    "print(train.shape, test.shape)\n",
    "ycolumn = 'charges'\n",
    "X_train = train.drop(columns=ycolumn)\n",
    "Y_train = train[['ID', ycolumn]]\n",
    "X_test = test.drop(columns=ycolumn)\n",
    "Y_test = test[['ID', ycolumn]]\n",
    "X_train.to_csv('x_train.csv', index=False)\n",
    "Y_train.to_csv('y_train.csv', index=False)\n",
    "X_test.to_csv('x_test.csv', index=False)\n",
    "Y_test.to_csv('y_test.csv', index=False)"
   ]
  },
  {
   "cell_type": "code",
   "execution_count": null,
   "metadata": {},
   "outputs": [],
   "source": [
    "X_use = pd.read_csv('x_train.csv')\n",
    "X_submission = pd.read_csv('x_test.csv')\n",
    "Y = pd.read_csv('y_train.csv')\n",
    "Y_hidden = pd.read_csv('y_test.csv')"
   ]
  },
  {
   "cell_type": "code",
   "execution_count": null,
   "metadata": {},
   "outputs": [
    {
     "name": "stdout",
     "output_type": "stream",
     "text": [
      "<class 'pandas.core.frame.DataFrame'>\n",
      "RangeIndex: 1338 entries, 0 to 1337\n",
      "Data columns (total 7 columns):\n",
      " #   Column    Non-Null Count  Dtype  \n",
      "---  ------    --------------  -----  \n",
      " 0   ID        1338 non-null   int64  \n",
      " 1   age       1338 non-null   int64  \n",
      " 2   sex       1338 non-null   object \n",
      " 3   bmi       1338 non-null   float64\n",
      " 4   children  1338 non-null   int64  \n",
      " 5   smoker    1338 non-null   object \n",
      " 6   region    1338 non-null   object \n",
      "dtypes: float64(1), int64(3), object(3)\n",
      "memory usage: 73.3+ KB\n"
     ]
    }
   ],
   "source": [
    "dfX = pd.concat([X_use, X_submission], ignore_index=True, axis=0)\n",
    "dfX.info()\n",
    "# 운좋게도 결측치가 없음. 결측치가 있으면 해결해줘야 함. 사용할 수 없는 object 타입을 잘 확인해줘야 함 -> Encoding"
   ]
  },
  {
   "cell_type": "code",
   "execution_count": null,
   "metadata": {},
   "outputs": [
    {
     "data": {
      "text/plain": [
       "ID          1338\n",
       "age           47\n",
       "sex            2\n",
       "bmi          548\n",
       "children       6\n",
       "smoker         2\n",
       "region         4\n",
       "dtype: int64"
      ]
     },
     "metadata": {},
     "output_type": "display_data"
    }
   ],
   "source": [
    "dfX.nunique()"
   ]
  },
  {
   "cell_type": "code",
   "execution_count": null,
   "metadata": {},
   "outputs": [
    {
     "data": {
      "text/plain": [
       "array(['male', 'female'], dtype=object)"
      ]
     },
     "metadata": {},
     "output_type": "display_data"
    }
   ],
   "source": [
    "dfX['sex'].unique()"
   ]
  },
  {
   "cell_type": "code",
   "execution_count": null,
   "metadata": {},
   "outputs": [],
   "source": [
    "# Encoding 실행\n",
    "# label encoding 은 replace를 사용하거나 category로 바꿔서 cat.codes 사용\n",
    "#dfX['sex'].replace(['male', 'female'], [0, 1])   # regex=True 를 주게 되면 male 이 female에도 들어가 있기 때문에 다 0됨\n",
    "#dfX['sex'].replace(dfX['sex'].unique(), [0, 1])\n",
    "#dfX['sex'].astype('category').cat.codes  # 0과 1의 순서가 바뀌긴 함. male이 1, female이 0\n",
    "\n",
    "for x in ['sex', 'smoker', 'region']:\n",
    "  temp = dfX[x].unique()\n",
    "  dfX[x] = dfX[x].replace(temp, range(len(temp)))   # 이렇게 하면 가짓수에 상관없이 모든 object column 들에 대해서 encoding 가능"
   ]
  },
  {
   "cell_type": "code",
   "execution_count": null,
   "metadata": {},
   "outputs": [
    {
     "name": "stdout",
     "output_type": "stream",
     "text": [
      "<class 'pandas.core.frame.DataFrame'>\n",
      "RangeIndex: 1338 entries, 0 to 1337\n",
      "Data columns (total 7 columns):\n",
      " #   Column    Non-Null Count  Dtype  \n",
      "---  ------    --------------  -----  \n",
      " 0   ID        1338 non-null   int64  \n",
      " 1   age       1338 non-null   int64  \n",
      " 2   sex       1338 non-null   int64  \n",
      " 3   bmi       1338 non-null   float64\n",
      " 4   children  1338 non-null   int64  \n",
      " 5   smoker    1338 non-null   int64  \n",
      " 6   region    1338 non-null   int64  \n",
      "dtypes: float64(1), int64(6)\n",
      "memory usage: 73.3 KB\n"
     ]
    }
   ],
   "source": [
    "# 작업이 잘 됐는지 확인\n",
    "dfX.info()"
   ]
  },
  {
   "cell_type": "code",
   "execution_count": null,
   "metadata": {},
   "outputs": [
    {
     "data": {
      "text/plain": [
       "ID          0.0166\n",
       "age         0.3158\n",
       "sex        -0.0546\n",
       "bmi         0.2112\n",
       "children    0.0512\n",
       "smoker      0.7829\n",
       "region      0.0594\n",
       "charges     1.0000\n",
       "Name: charges, dtype: float64"
      ]
     },
     "metadata": {},
     "output_type": "display_data"
    }
   ],
   "source": [
    "dfXY = pd.merge(dfX, Y)\n",
    "dfXY.corr()['charges']   # smoker, age, bmi 주로 관계 높음"
   ]
  },
  {
   "cell_type": "code",
   "execution_count": null,
   "metadata": {},
   "outputs": [],
   "source": [
    "Xfeatures = ['age', 'sex', 'bmi', 'children', 'smoker', 'region']\n",
    "dfX2 = dfX[Xfeatures]  # dfX2 가 전처리가 완료된 것. 만약 스케일링 하고 싶으면 dfX2 에 해주면 됨. 스케일링 처리까지가 전처리다"
   ]
  },
  {
   "cell_type": "code",
   "execution_count": null,
   "metadata": {},
   "outputs": [
    {
     "data": {
      "text/plain": [
       "803"
      ]
     },
     "metadata": {},
     "output_type": "display_data"
    }
   ],
   "source": [
    "train_size = len(X_use)\n",
    "train_size"
   ]
  },
  {
   "cell_type": "code",
   "execution_count": null,
   "metadata": {},
   "outputs": [],
   "source": [
    "train_size = len(X_use)\n",
    "XF = dfX2[:train_size]  # DataFrame이든 ndarray든 행번호로 indexing 할 수 있도록 (두 경우 모두 사용 가능)\n",
    "X_submissionF = dfX2[train_size:]\n",
    "YF = Y['charges']\n",
    "Y_submissionF = Y_hidden['charges']"
   ]
  },
  {
   "cell_type": "code",
   "execution_count": null,
   "metadata": {},
   "outputs": [],
   "source": [
    "xtrain, xtest, ytrain, ytest = train_test_split(XF, YF,\n",
    "                                                test_size=0.3,\n",
    "                                                random_state=1234)  # stratify(층화추출) 는 안됨. 회귀니까\n",
    "models = make_models(xtrain, xtest, ytrain, ytest)"
   ]
  },
  {
   "cell_type": "code",
   "execution_count": null,
   "metadata": {},
   "outputs": [
    {
     "name": "stdout",
     "output_type": "stream",
     "text": [
      "          r2_train  r2_test   diff       mae           mse   msle      rmse  \\\n",
      "model3_6    0.9229   0.8915 0.0314 2412.9721 19010932.4231 0.1275 4360.1528   \n",
      "model3_5    0.8999   0.8920 0.0079 2456.3668 18926929.1843 0.1285 4350.5091   \n",
      "model3_7    0.9443   0.8900 0.0543 2415.4275 19264118.1168 0.1312 4389.0908   \n",
      "model2_5    0.8874   0.8728 0.0146 2596.6833 22286045.4088 0.1322 4720.8098   \n",
      "model2_6    0.9099   0.8579 0.0520 2577.6188 24890079.4374 0.1345 4988.9958   \n",
      "\n",
      "          rmsle  \n",
      "model3_6 0.3570  \n",
      "model3_5 0.3584  \n",
      "model3_7 0.3622  \n",
      "model2_5 0.3636  \n",
      "model2_6 0.3668  \n"
     ]
    }
   ],
   "source": [
    "print(models.sort_values('rmsle').head(5)) # rmsle 가 평가기준일 때"
   ]
  },
  {
   "cell_type": "markdown",
   "metadata": {},
   "source": [
    "#### 깔끔한 코드 정리"
   ]
  },
  {
   "cell_type": "code",
   "execution_count": null,
   "metadata": {},
   "outputs": [],
   "source": [
    "import pandas as pd\n",
    "import numpy as np\n",
    "from sklearn.model_selection import train_test_split\n",
    "from sklearn.linear_model import LinearRegression\n",
    "from sklearn.tree import DecisionTreeRegressor\n",
    "from sklearn.ensemble import RandomForestRegressor\n",
    "from xgboost import XGBRegressor\n",
    "from sklearn.preprocessing import MinMaxScaler\n",
    "\n",
    "from sklearn.linear_model import Ridge, Lasso\n",
    "from sklearn.preprocessing import PolynomialFeatures\n",
    "\n",
    "from sklearn.metrics import r2_score\n",
    "from sklearn.metrics import mean_absolute_error as mae\n",
    "from sklearn.metrics import mean_squared_error as mse\n",
    "from sklearn.metrics import mean_squared_log_error as msle\n",
    "\n",
    "pd.options.display.max_rows = 500\n",
    "pd.options.display.max_columns = 20\n",
    "pd.set_option('display.float_format', '{:.4f}'.format)"
   ]
  },
  {
   "cell_type": "code",
   "execution_count": null,
   "metadata": {},
   "outputs": [],
   "source": [
    "def get_scores_f(model, xtrain, xtest, ytrain, ytest):  # rmsle 로 구할 때\n",
    "    # predict는 x값을 주고 y에 대한 값을 구하는 것\n",
    "    pred1 = model.predict(xtrain)    # train # 실제값과 예측값이 필요하기 때문에 예측값을 만들어 줌\n",
    "    pred2 = model.predict(xtest)     # test\n",
    "    #print(pred[pred<0]) # 항상 pred 값에 음수가 있는지 없는지 신경써줘야 함. log 들어가는 것들은 음수가 들어가면 안됨\n",
    "\n",
    "    # 음수가 있어도 상관 없음\n",
    "    A1 = r2_score(ytrain, pred1)   # 2개의 argument를 줌(실제값, 예측값)\n",
    "    A2 = r2_score(ytest, pred2)\n",
    "\n",
    "    # MSLE 하고 RMSLE는 음수가 있으면 안됨\n",
    "    pred2 = np.where(pred2<0, 0, pred2)  # np.where() pred가 0보다 작을 때 0으로 바꿔라. 그리고 그게 아니면 pred 값을 유지하라고 줌\n",
    "    B = msle(ytest, pred2)\n",
    "    C = np.sqrt(B)   # RMSLE  어떤 것을 구하는지는 시험 문제에 의해 달라질 수 있음\n",
    "    data = [round(x, 4) for x in [A1, A2, C]]\n",
    "    names = 'r2_train r2_test rmsle'.split()\n",
    "    scores = pd.Series(data, index=names)\n",
    "    return  scores"
   ]
  },
  {
   "cell_type": "code",
   "execution_count": null,
   "metadata": {},
   "outputs": [],
   "source": [
    "def make_models_f(xtrain, xtest, ytrain, ytest, n=300):   # n은 estimator (ensemble)\n",
    "    temp = pd.DataFrame()\n",
    "\n",
    "    model1 = LinearRegression().fit(xtrain, ytrain)\n",
    "    temp['model1'] = get_scores_f(model1, xtrain, xtest, ytrain, ytest)\n",
    "\n",
    "    model2 = DecisionTreeRegressor(random_state=0).fit(xtrain, ytrain)   # overfitting 나기 쉬움\n",
    "    temp['model2'] = get_scores_f(model2, xtrain, xtest, ytrain, ytest)\n",
    "\n",
    "    for d in range(3, 9):\n",
    "        model2 = DecisionTreeRegressor(max_depth=d, random_state=0).fit(xtrain, ytrain)\n",
    "        temp[f'model2_{d}'] = get_scores_f(model2, xtrain, xtest, ytrain, ytest)\n",
    "\n",
    "    model3 = RandomForestRegressor(n, random_state=0).fit(xtrain, ytrain)   # overfitting 나기 쉬움\n",
    "    temp['model3'] = get_scores_f(model3, xtrain, xtest, ytrain, ytest)\n",
    "\n",
    "    for d in range(3, 9):\n",
    "        model3 = RandomForestRegressor(n, max_depth=d, random_state=0).fit(xtrain, ytrain) # 앙상블\n",
    "        temp[f'model3_{d}'] = get_scores_f(model3, xtrain, xtest, ytrain, ytest)\n",
    "\n",
    "    model4 = XGBRegressor(objective='reg:squarederror').fit(xtrain, ytrain)\n",
    "    temp['model4'] = get_scores_f(model4, xtrain, xtest, ytrain, ytest)\n",
    "\n",
    "    temp = temp.T\n",
    "    temp.insert(2, 'diff', (temp['r2_train'] - temp['r2_test']).abs())\n",
    "\n",
    "    return temp"
   ]
  },
  {
   "cell_type": "code",
   "execution_count": null,
   "metadata": {},
   "outputs": [],
   "source": [
    "X_use = pd.read_csv('x_train.csv')\n",
    "X_submission = pd.read_csv('x_test.csv')\n",
    "Y = pd.read_csv('y_train.csv')\n",
    "#print([x.shape for x in [X_use, X_submission, Y]])  # [(803, 7), (535, 7), (803, 2)]"
   ]
  },
  {
   "cell_type": "code",
   "execution_count": null,
   "metadata": {},
   "outputs": [],
   "source": [
    "dfX = pd.concat([X_use, X_submission], ignore_index=True, axis=0)\n",
    "\n",
    "#print(dfX.nunique())  # 개수가 몇개씩 있는지 확인.\n",
    "#print(dfX['sex'].unique())  # 한 컬럼의 값이 어떤 종류가 있는지 확인."
   ]
  },
  {
   "cell_type": "code",
   "execution_count": null,
   "metadata": {},
   "outputs": [],
   "source": [
    "# Encoding  ( object -> 숫자 )\n",
    "for x in ['sex', 'smoker', 'region']:\n",
    "  temp = dfX[x].unique()\n",
    "  dfX[x] = dfX[x].replace(temp, range(len(temp)))  # object를 numeric으로\n",
    "#dfX.info()"
   ]
  },
  {
   "cell_type": "code",
   "execution_count": null,
   "metadata": {},
   "outputs": [],
   "source": [
    "#print(dfX.columns) # 누구를 쓰고 누구를 사용하지 않을 건지에 대해 판단.\n",
    "Xfeatures = ['age', 'sex', 'bmi', 'children', 'smoker', 'region']\n",
    "dfX2 = dfX[Xfeatures]\n",
    "# dfX2 = dfX.drop(columns='ID') 위와 동일한 결과\n",
    "#dfX2.columns"
   ]
  },
  {
   "cell_type": "code",
   "execution_count": null,
   "metadata": {},
   "outputs": [],
   "source": [
    "train_size = len(X_use)\n",
    "XF = dfX2[:train_size]  # DataFrame이든 ndarray든 행번호로 indexing 할 수 있도록 (두 경우 모두 사용 가능)\n",
    "X_submissionF = dfX2[train_size:]\n",
    "YF = Y['charges']\n",
    "#print([x.shape for x in [XF, YF, X_submissionF]])  # 잘 분리됐는지 확인."
   ]
  },
  {
   "cell_type": "code",
   "execution_count": null,
   "metadata": {},
   "outputs": [],
   "source": [
    "# 데이터 분리 후 모델 학습\n",
    "xtrain, xtest, ytrain, ytest = train_test_split(XF, YF,\n",
    "                                                test_size=0.3,\n",
    "                                                random_state=1234)\n",
    "models = make_models_f(xtrain, xtest, ytrain, ytest)"
   ]
  },
  {
   "cell_type": "code",
   "execution_count": null,
   "metadata": {},
   "outputs": [],
   "source": [
    "# 좋은 모델은 뭔지 (문제에 주어진 기준으로)정렬해서 찾아보는 작업\n",
    "#print(models.sort_values('rmsle').head(5))\n",
    "# rmsle 와 함께 diff도 고려해야함. 3_6이 rmsle가 가장 작지만, diff를 고려했을 때 model3_5가 가장 적절함을 확인. 확인했으면 주석처리\n",
    "\n",
    "# 찾은 모델로 학습시켜서 모델링\n",
    "model = RandomForestRegressor(300, max_depth=5, random_state=0).fit(xtrain, ytrain)   # overfitting 나기 쉬움\n",
    "#print(get_scores_f(model, xtrain, xtest, ytrain, ytest)) # 동일한 값이 나오는지 확인. 혹시 데이터를 잘못 쓰면 큰일나기 때문. 확인했으면 주석처리\n",
    "\n",
    "pred = model.predict(X_submissionF)\n",
    "submission = pd.DataFrame({'ID': X_submission['ID'],\n",
    "                           'charges': pred})\n",
    "submission.to_csv('00010312.csv', index=False)"
   ]
  }
 ],
 "metadata": {
  "language_info": {
   "name": "python"
  }
 },
 "nbformat": 4,
 "nbformat_minor": 2
}
